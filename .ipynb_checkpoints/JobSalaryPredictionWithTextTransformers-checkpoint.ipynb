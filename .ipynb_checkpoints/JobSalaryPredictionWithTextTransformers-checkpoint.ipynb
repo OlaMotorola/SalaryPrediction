{
 "cells": [
  {
   "cell_type": "markdown",
   "metadata": {
    "id": "uSFak2UyhQBj"
   },
   "source": [
    "## Imports"
   ]
  },
  {
   "cell_type": "code",
   "execution_count": 17,
   "metadata": {
    "id": "sgsHqpbefmZA",
    "tags": []
   },
   "outputs": [],
   "source": [
    "import pandas as pd\n",
    "import numpy as np\n",
    "import matplotlib.pyplot as plt\n",
    "import seaborn as sns\n",
    "import torch\n",
    "\n",
    "import string\n",
    "from torch.nn.utils.rnn import pad_sequence\n",
    "\n",
    "from sklearn.preprocessing import LabelEncoder\n",
    "from torch.utils.data import Dataset, DataLoader\n",
    "from sklearn.preprocessing import StandardScaler, OneHotEncoder\n",
    "from sklearn.compose import ColumnTransformer\n",
    "from sklearn.pipeline import Pipeline\n",
    "from sklearn.impute import SimpleImputer\n",
    "from datetime import datetime\n",
    "from torch.utils.tensorboard import SummaryWriter\n",
    "import torch.nn as nn\n",
    "import torch.nn.functional as F\n",
    "from sklearn.metrics import mean_squared_error, r2_score\n",
    "import torch.optim as optim\n",
    "from torch.optim.lr_scheduler import ReduceLROnPlateau\n",
    "import os\n",
    "import random\n",
    "from sentence_transformers import SentenceTransformer\n"
   ]
  },
  {
   "cell_type": "code",
   "execution_count": 2,
   "metadata": {
    "colab": {
     "base_uri": "https://localhost:8080/"
    },
    "id": "52tvKCfage66",
    "outputId": "ded43ff5-02e7-47e1-de89-f35018581baa",
    "tags": []
   },
   "outputs": [],
   "source": [
    "data_path = '/home/jupyter/SalaryPrediction/Data/'\n",
    "\n",
    "train_path = data_path + 'train_clean_with_text.csv'\n",
    "val_path = data_path + 'val_clean_with_text.csv'\n",
    "test_path = data_path + 'test_clean_with_text.csv'"
   ]
  },
  {
   "cell_type": "code",
   "execution_count": 3,
   "metadata": {
    "colab": {
     "base_uri": "https://localhost:8080/"
    },
    "id": "TDO5jHid25fG",
    "outputId": "60f7947c-7c91-4a9d-9ff0-3164c11c2100",
    "tags": []
   },
   "outputs": [
    {
     "name": "stdout",
     "output_type": "stream",
     "text": [
      "cuda\n"
     ]
    }
   ],
   "source": [
    "device = torch.device(\"cuda\" if torch.cuda.is_available() else \"cpu\")\n",
    "print(device)"
   ]
  },
  {
   "cell_type": "markdown",
   "metadata": {
    "id": "mlutQW5SZZd3"
   },
   "source": [
    "## Fixing seeds"
   ]
  },
  {
   "cell_type": "code",
   "execution_count": 4,
   "metadata": {
    "id": "83llIoZeWuky",
    "tags": []
   },
   "outputs": [],
   "source": [
    "def set_seed(seed=42):\n",
    "    os.environ[\"PYTHONHASHSEED\"] = str(seed) #const hash for python\n",
    "    random.seed(seed)\n",
    "    np.random.seed(seed)\n",
    "    torch.manual_seed(seed)\n",
    "    torch.backends.cudnn.deterministic = True\n",
    "    torch.backends.cudnn.benchmark = False"
   ]
  },
  {
   "cell_type": "markdown",
   "metadata": {
    "id": "c_bu4IZghUHZ"
   },
   "source": [
    "## Data reading"
   ]
  },
  {
   "cell_type": "code",
   "execution_count": 6,
   "metadata": {
    "id": "TUAwuXHff8Qk",
    "tags": []
   },
   "outputs": [],
   "source": [
    "df_train = pd.read_csv(train_path)\n",
    "df_val = pd.read_csv(val_path)\n",
    "df_test = pd.read_csv(test_path)"
   ]
  },
  {
   "cell_type": "code",
   "execution_count": 7,
   "metadata": {
    "colab": {
     "base_uri": "https://localhost:8080/",
     "height": 394
    },
    "id": "YlDUWtmfhBKd",
    "outputId": "edbe922c-241f-4d72-f4e4-afb930472122",
    "tags": []
   },
   "outputs": [
    {
     "data": {
      "text/html": [
       "<div>\n",
       "<style scoped>\n",
       "    .dataframe tbody tr th:only-of-type {\n",
       "        vertical-align: middle;\n",
       "    }\n",
       "\n",
       "    .dataframe tbody tr th {\n",
       "        vertical-align: top;\n",
       "    }\n",
       "\n",
       "    .dataframe thead th {\n",
       "        text-align: right;\n",
       "    }\n",
       "</style>\n",
       "<table border=\"1\" class=\"dataframe\">\n",
       "  <thead>\n",
       "    <tr style=\"text-align: right;\">\n",
       "      <th></th>\n",
       "      <th>FullDescription</th>\n",
       "      <th>LocationNormalized</th>\n",
       "      <th>ContractType</th>\n",
       "      <th>ContractTime</th>\n",
       "      <th>Company</th>\n",
       "      <th>Category</th>\n",
       "      <th>SalaryNormalized</th>\n",
       "    </tr>\n",
       "  </thead>\n",
       "  <tbody>\n",
       "    <tr>\n",
       "      <th>0</th>\n",
       "      <td>The Litigation team at this well regarded Comm...</td>\n",
       "      <td>london</td>\n",
       "      <td>full_time</td>\n",
       "      <td>permanent</td>\n",
       "      <td>Other</td>\n",
       "      <td>Legal Jobs</td>\n",
       "      <td>100000</td>\n",
       "    </tr>\n",
       "    <tr>\n",
       "      <th>1</th>\n",
       "      <td>Endoscopy Staff Nurse NHS  London ****  **** H...</td>\n",
       "      <td>thecity</td>\n",
       "      <td>full_time</td>\n",
       "      <td>permanent</td>\n",
       "      <td>ukstaffsearch</td>\n",
       "      <td>Other/General Jobs</td>\n",
       "      <td>29284</td>\n",
       "    </tr>\n",
       "    <tr>\n",
       "      <th>2</th>\n",
       "      <td>An experienced Operations Director is required...</td>\n",
       "      <td>letchworthgardencity</td>\n",
       "      <td>full_time</td>\n",
       "      <td>permanent</td>\n",
       "      <td>ukstaffsearch</td>\n",
       "      <td>Consultancy Jobs</td>\n",
       "      <td>97500</td>\n",
       "    </tr>\n",
       "    <tr>\n",
       "      <th>3</th>\n",
       "      <td>The Danny Sullivan Group is looking for a Site...</td>\n",
       "      <td>dudley</td>\n",
       "      <td>full_time</td>\n",
       "      <td>permanent</td>\n",
       "      <td>cvbrowser</td>\n",
       "      <td>Engineering Jobs</td>\n",
       "      <td>34320</td>\n",
       "    </tr>\n",
       "    <tr>\n",
       "      <th>4</th>\n",
       "      <td>A promising opportunity for an exceptional man...</td>\n",
       "      <td>kent</td>\n",
       "      <td>full_time</td>\n",
       "      <td>permanent</td>\n",
       "      <td>Other</td>\n",
       "      <td>Accounting &amp; Finance Jobs</td>\n",
       "      <td>37500</td>\n",
       "    </tr>\n",
       "  </tbody>\n",
       "</table>\n",
       "</div>"
      ],
      "text/plain": [
       "                                     FullDescription    LocationNormalized  \\\n",
       "0  The Litigation team at this well regarded Comm...                london   \n",
       "1  Endoscopy Staff Nurse NHS  London ****  **** H...               thecity   \n",
       "2  An experienced Operations Director is required...  letchworthgardencity   \n",
       "3  The Danny Sullivan Group is looking for a Site...                dudley   \n",
       "4  A promising opportunity for an exceptional man...                  kent   \n",
       "\n",
       "  ContractType ContractTime        Company                   Category  \\\n",
       "0    full_time    permanent          Other                 Legal Jobs   \n",
       "1    full_time    permanent  ukstaffsearch         Other/General Jobs   \n",
       "2    full_time    permanent  ukstaffsearch           Consultancy Jobs   \n",
       "3    full_time    permanent      cvbrowser           Engineering Jobs   \n",
       "4    full_time    permanent          Other  Accounting & Finance Jobs   \n",
       "\n",
       "   SalaryNormalized  \n",
       "0            100000  \n",
       "1             29284  \n",
       "2             97500  \n",
       "3             34320  \n",
       "4             37500  "
      ]
     },
     "execution_count": 7,
     "metadata": {},
     "output_type": "execute_result"
    }
   ],
   "source": [
    "df_train.head()"
   ]
  },
  {
   "cell_type": "markdown",
   "metadata": {
    "id": "xsUhoAEYGtUN"
   },
   "source": [
    "## Data cleaning"
   ]
  },
  {
   "cell_type": "markdown",
   "metadata": {
    "id": "yAWatT2Ohgp-"
   },
   "source": [
    "#### Spliting dataset"
   ]
  },
  {
   "cell_type": "code",
   "execution_count": 8,
   "metadata": {
    "id": "rahBPQr0jT1T",
    "tags": []
   },
   "outputs": [],
   "source": [
    "X_train = df_train.drop('SalaryNormalized', axis=1)\n",
    "y_train = df_train['SalaryNormalized']\n",
    "\n",
    "X_val = df_val.drop('SalaryNormalized', axis=1)\n",
    "y_val = df_val['SalaryNormalized']\n",
    "\n",
    "X_test = df_test.drop('SalaryNormalized', axis=1)\n",
    "y_test = df_test['SalaryNormalized']"
   ]
  },
  {
   "cell_type": "code",
   "execution_count": 9,
   "metadata": {
    "colab": {
     "base_uri": "https://localhost:8080/"
    },
    "id": "XIX5rQC7Jsx8",
    "outputId": "30b14a03-cea8-43a0-f2c9-b4e16c376978",
    "tags": []
   },
   "outputs": [
    {
     "data": {
      "text/plain": [
       "(172683, 6)"
      ]
     },
     "execution_count": 9,
     "metadata": {},
     "output_type": "execute_result"
    }
   ],
   "source": [
    "X_train.shape"
   ]
  },
  {
   "cell_type": "markdown",
   "metadata": {
    "id": "Z1MNkf-9h2ai"
   },
   "source": [
    "#### Log transformation"
   ]
  },
  {
   "cell_type": "code",
   "execution_count": 10,
   "metadata": {
    "colab": {
     "base_uri": "https://localhost:8080/",
     "height": 54
    },
    "id": "a20y1ptjQojw",
    "outputId": "69b91926-4d6e-4fd4-88b0-19269aeed340",
    "tags": []
   },
   "outputs": [
    {
     "data": {
      "image/png": "[encoded data removed]",
      "text/plain": [
       "<Figure size 640x480 with 1 Axes>"
      ]
     },
     "metadata": {},
     "output_type": "display_data"
    }
   ],
   "source": [
    "sns.histplot(y_train, bins=50, kde=True)\n",
    "plt.title('Distribution of SalaryNormalized')\n",
    "plt.xlabel('SalaryNormalized')\n",
    "plt.ylabel('Frequency')\n",
    "plt.show()"
   ]
  },
  {
   "cell_type": "code",
   "execution_count": 11,
   "metadata": {
    "id": "zEwZKOyyRNKE",
    "tags": []
   },
   "outputs": [],
   "source": [
    "y_train = np.log1p(y_train)\n",
    "y_val = np.log1p(y_val)\n",
    "y_test = np.log1p(y_test)"
   ]
  },
  {
   "cell_type": "code",
   "execution_count": 12,
   "metadata": {
    "colab": {
     "base_uri": "https://localhost:8080/",
     "height": 54
    },
    "id": "WLFPEAWJRRIc",
    "outputId": "56185067-3b91-4bfc-8fac-640c773b08d8",
    "tags": []
   },
   "outputs": [
    {
     "data": {
      "image/png": "[encoded data removed]",
      "text/plain": [
       "<Figure size 640x480 with 1 Axes>"
      ]
     },
     "metadata": {},
     "output_type": "display_data"
    }
   ],
   "source": [
    "sns.histplot(y_train, bins=50, kde=True)\n",
    "plt.title('Distribution of SalaryNormalized')\n",
    "plt.xlabel('SalaryNormalized')\n",
    "plt.ylabel('Frequency')\n",
    "plt.show()"
   ]
  },
  {
   "cell_type": "markdown",
   "metadata": {
    "id": "LpeB3Hi2QAf_"
   },
   "source": [
    "#### Label encoding"
   ]
  },
  {
   "cell_type": "code",
   "execution_count": 13,
   "metadata": {
    "id": "tNlt08_-Rci9",
    "tags": []
   },
   "outputs": [],
   "source": [
    "encoders = {}\n",
    "X_train_encoded = X_train.copy()\n",
    "X_val_encoded = X_val.copy()\n",
    "X_test_encoded = X_test.copy()\n",
    "\n",
    "for col in X_train.columns:\n",
    "    if col != 'FullDescription':\n",
    "        le = LabelEncoder()\n",
    "        X_train_encoded[col] = le.fit_transform(X_train[col])\n",
    "        X_val_encoded[col] = le.transform(X_val[col])\n",
    "        X_test_encoded[col] = le.transform(X_test[col])\n",
    "        encoders[col] = le"
   ]
  },
  {
   "cell_type": "code",
   "execution_count": 14,
   "metadata": {
    "colab": {
     "base_uri": "https://localhost:8080/"
    },
    "id": "fe6g4D71QUq3",
    "outputId": "5dfd0a44-afeb-4c12-a77e-83097ea15713",
    "tags": []
   },
   "outputs": [
    {
     "name": "stdout",
     "output_type": "stream",
     "text": [
      "(172683, 6) (35369, 6) (36716, 6)\n"
     ]
    }
   ],
   "source": [
    "print(X_train.shape, X_val.shape, X_test.shape)"
   ]
  },
  {
   "cell_type": "markdown",
   "metadata": {
    "id": "7hTrC0DeQnIV"
   },
   "source": [
    "#### Embedding"
   ]
  },
  {
   "cell_type": "code",
   "execution_count": 15,
   "metadata": {
    "id": "TFb2lBO5RFcZ",
    "tags": []
   },
   "outputs": [],
   "source": [
    "embedding_sizes = []\n",
    "\n",
    "for col in X_train_encoded.columns:\n",
    "    if col == 'FullDescription':\n",
    "        continue\n",
    "    num_categories = len(encoders[col].classes_)\n",
    "    emb_dim = min(10, (num_categories + 1) // 2)\n",
    "    embedding_sizes.append((num_categories, emb_dim))"
   ]
  },
  {
   "cell_type": "code",
   "execution_count": 18,
   "metadata": {
    "colab": {
     "base_uri": "https://localhost:8080/",
     "height": 113,
     "referenced_widgets": [
      "d9cdaa0b640a405fbc0d6189f465f019",
      "14ad3cc569664a4e854457fbf0fb6dbf",
      "db1ccc0b04de4e019c75f53721a458db",
      "88c6304156594bffba5b31e465f07026",
      "91aba9fd249d4b0b9f985def8edbe764",
      "e6f5a59623de4f4990ae010d481c98ba",
      "078564c714074a47a2123a8ee768e1a4",
      "3410e4b554d24455b149601ca342315e",
      "f0decc0c82c2492b86caf70a42bd3fef",
      "c9ae8828b5a747f8a23733257667bd93",
      "05e3d687688a44f1919ec12c5b54cb70",
      "ac8313b3be5244b797a9a9cecc24eaa3",
      "5e456768d42b48e1b8124e655c8b0183",
      "50258acbdbda44ae88a499e6ee2c4944",
      "edfd4d4af5aa404f8b609db5aa359065",
      "8b198b120c6c4f3cb1ed3ee747c401ad",
      "b5263ac64fe7474dbee65ed118dec62d",
      "31fa3f5d967847798ab806693fd3e469",
      "903d3fc833614e6fb5e06d3765bcd1fd",
      "39e0d9a3950243a89597d4d95cc7d6d4",
      "5defbd5974844148bbd528e821037073",
      "b4d7b3b0396e4510b3dac023bd664a85",
      "cc3ee2d0de9b4f8794e3a39cd51b6396",
      "98ce93916358447b8453a15f9fae49fe",
      "f8f8002a4c5d468c8f70f8795ad76fa2",
      "631d66cfc6d842349ad7bea85e10cd19",
      "24dd70c0e1de4b158a7b59497555ae0b",
      "70656896cc02464294f2e20358f47da0",
      "588ac97265894bea9498f87ff7b5d62a",
      "51de9334c97f4513b75b3629a20a36ea",
      "4b6d150afcf6457bbf04664d0fde11fe",
      "4d58ac03fc6d41da9b304f9b42c62762",
      "e8346d6c2f7f43dc89157c500ccc2275"
     ]
    },
    "id": "KUtM7ggnAoOH",
    "outputId": "76bc3b00-50ab-4fa5-a2af-c5f7140b0cab",
    "tags": []
   },
   "outputs": [
    {
     "data": {
      "application/vnd.jupyter.widget-view+json": {
       "model_id": "6b8034391855440198b30e286eae87ae",
       "version_major": 2,
       "version_minor": 0
      },
      "text/plain": [
       "modules.json:   0%|          | 0.00/349 [00:00<?, ?B/s]"
      ]
     },
     "metadata": {},
     "output_type": "display_data"
    },
    {
     "data": {
      "application/vnd.jupyter.widget-view+json": {
       "model_id": "aa837968ad5847d5a6f63a9cdc0d6d3e",
       "version_major": 2,
       "version_minor": 0
      },
      "text/plain": [
       "config_sentence_transformers.json:   0%|          | 0.00/116 [00:00<?, ?B/s]"
      ]
     },
     "metadata": {},
     "output_type": "display_data"
    },
    {
     "data": {
      "application/vnd.jupyter.widget-view+json": {
       "model_id": "a881fc2aad894d558058f57488c68162",
       "version_major": 2,
       "version_minor": 0
      },
      "text/plain": [
       "README.md:   0%|          | 0.00/10.5k [00:00<?, ?B/s]"
      ]
     },
     "metadata": {},
     "output_type": "display_data"
    },
    {
     "data": {
      "application/vnd.jupyter.widget-view+json": {
       "model_id": "0960e92347194f8ba8d1eac91edd1871",
       "version_major": 2,
       "version_minor": 0
      },
      "text/plain": [
       "sentence_bert_config.json:   0%|          | 0.00/53.0 [00:00<?, ?B/s]"
      ]
     },
     "metadata": {},
     "output_type": "display_data"
    },
    {
     "data": {
      "application/vnd.jupyter.widget-view+json": {
       "model_id": "03ceef3d6b7a44d9a8a8d5ea042b798a",
       "version_major": 2,
       "version_minor": 0
      },
      "text/plain": [
       "config.json:   0%|          | 0.00/612 [00:00<?, ?B/s]"
      ]
     },
     "metadata": {},
     "output_type": "display_data"
    },
    {
     "data": {
      "application/vnd.jupyter.widget-view+json": {
       "model_id": "f6f8bfd1bfde4ed49b6ff3ce8ab93525",
       "version_major": 2,
       "version_minor": 0
      },
      "text/plain": [
       "model.safetensors:   0%|          | 0.00/90.9M [00:00<?, ?B/s]"
      ]
     },
     "metadata": {},
     "output_type": "display_data"
    },
    {
     "data": {
      "application/vnd.jupyter.widget-view+json": {
       "model_id": "d57c6910d3764417b964875cfdccedc0",
       "version_major": 2,
       "version_minor": 0
      },
      "text/plain": [
       "tokenizer_config.json:   0%|          | 0.00/350 [00:00<?, ?B/s]"
      ]
     },
     "metadata": {},
     "output_type": "display_data"
    },
    {
     "data": {
      "application/vnd.jupyter.widget-view+json": {
       "model_id": "7c1c37e612454356b1e223ffc6e19c37",
       "version_major": 2,
       "version_minor": 0
      },
      "text/plain": [
       "vocab.txt:   0%|          | 0.00/232k [00:00<?, ?B/s]"
      ]
     },
     "metadata": {},
     "output_type": "display_data"
    },
    {
     "data": {
      "application/vnd.jupyter.widget-view+json": {
       "model_id": "6f23b6f76a2a4d458d5cd73f78c63330",
       "version_major": 2,
       "version_minor": 0
      },
      "text/plain": [
       "tokenizer.json:   0%|          | 0.00/466k [00:00<?, ?B/s]"
      ]
     },
     "metadata": {},
     "output_type": "display_data"
    },
    {
     "data": {
      "application/vnd.jupyter.widget-view+json": {
       "model_id": "e14b775c300d4ce48571311aab28a446",
       "version_major": 2,
       "version_minor": 0
      },
      "text/plain": [
       "special_tokens_map.json:   0%|          | 0.00/112 [00:00<?, ?B/s]"
      ]
     },
     "metadata": {},
     "output_type": "display_data"
    },
    {
     "data": {
      "application/vnd.jupyter.widget-view+json": {
       "model_id": "2e95a6f535124e80a22b0e75f38aeead",
       "version_major": 2,
       "version_minor": 0
      },
      "text/plain": [
       "config.json:   0%|          | 0.00/190 [00:00<?, ?B/s]"
      ]
     },
     "metadata": {},
     "output_type": "display_data"
    },
    {
     "data": {
      "application/vnd.jupyter.widget-view+json": {
       "model_id": "baa098f5945d4c1ea556b9fb50566113",
       "version_major": 2,
       "version_minor": 0
      },
      "text/plain": [
       "Batches:   0%|          | 0/5397 [00:00<?, ?it/s]"
      ]
     },
     "metadata": {},
     "output_type": "display_data"
    },
    {
     "data": {
      "application/vnd.jupyter.widget-view+json": {
       "model_id": "bf6769c59a6a4d2b8161439c83631ce8",
       "version_major": 2,
       "version_minor": 0
      },
      "text/plain": [
       "Batches:   0%|          | 0/1106 [00:00<?, ?it/s]"
      ]
     },
     "metadata": {},
     "output_type": "display_data"
    },
    {
     "data": {
      "application/vnd.jupyter.widget-view+json": {
       "model_id": "54f5b0afa2b643439427230a4065e3ff",
       "version_major": 2,
       "version_minor": 0
      },
      "text/plain": [
       "Batches:   0%|          | 0/1148 [00:00<?, ?it/s]"
      ]
     },
     "metadata": {},
     "output_type": "display_data"
    }
   ],
   "source": [
    "device = 'cuda' if torch.cuda.is_available() else 'cpu'\n",
    "#sbert = SentenceTransformer('all-MiniLM-L12-v2', device=device)\n",
    "sbert = SentenceTransformer('all-MiniLM-L6-v2', device=device)\n",
    "#sbert = SentenceTransformer('all-mpnet-base-v2', device=device)\n",
    "#sbert = SentenceTransformer('paraphrase-MiniLM-L6-v2', device=device)\n",
    "\n",
    "with torch.no_grad():\n",
    "    X_train_text_embeddings = sbert.encode(X_train_encoded['FullDescription'].tolist(), convert_to_tensor=True, device=device, show_progress_bar=True)\n",
    "    X_val_text_embeddings = sbert.encode(X_val_encoded['FullDescription'].tolist(), convert_to_tensor=True, device=device, show_progress_bar=True)\n",
    "    X_test_text_embeddings = sbert.encode(X_test_encoded['FullDescription'].tolist(), convert_to_tensor=True, device=device, show_progress_bar=True)\n",
    "\n",
    "X_train_cat = X_train_encoded.drop(columns=['FullDescription']).values\n",
    "X_val_cat = X_val_encoded.drop(columns=['FullDescription']).values\n",
    "X_test_cat = X_test_encoded.drop(columns=['FullDescription']).values"
   ]
  },
  {
   "cell_type": "markdown",
   "metadata": {
    "id": "cXmpQDo6h_mx"
   },
   "source": [
    "## Architecture"
   ]
  },
  {
   "cell_type": "code",
   "execution_count": 19,
   "metadata": {
    "id": "DTwMcL1jhnyY",
    "tags": []
   },
   "outputs": [],
   "source": [
    "class SalaryDataset(Dataset):\n",
    "    def __init__(self, cat_data, targets, text_embeddings):\n",
    "        self.cat_data = torch.tensor(cat_data, dtype=torch.long)\n",
    "        self.targets = torch.tensor(targets, dtype=torch.float32).view(-1, 1)\n",
    "        self.text_embeddings = text_embeddings\n",
    "\n",
    "    def __len__(self):\n",
    "        return len(self.targets)\n",
    "\n",
    "    def __getitem__(self, idx):\n",
    "        return self.cat_data[idx], self.text_embeddings[idx], self.targets[idx]\n"
   ]
  },
  {
   "cell_type": "code",
   "execution_count": 20,
   "metadata": {
    "id": "Z8vJ4RcIkAY6",
    "tags": []
   },
   "outputs": [],
   "source": [
    "class SalaryModel(nn.Module):\n",
    "    def __init__(self, embedding_sizes, text_emb_dim=384):\n",
    "        super().__init__()\n",
    "\n",
    "        self.embeddings = nn.ModuleList([\n",
    "            nn.Embedding(num_categories, emb_dim, padding_idx=0)\n",
    "            for num_categories, emb_dim in embedding_sizes\n",
    "        ])\n",
    "\n",
    "        self.cat_emb_dim = sum([emb_dim for _, emb_dim in embedding_sizes])\n",
    "\n",
    "\n",
    "        self.fc1 = nn.Linear(self.cat_emb_dim + text_emb_dim, 128)\n",
    "        self.ln1 = nn.LayerNorm(128)\n",
    "        self.bn1 = nn.BatchNorm1d(128)\n",
    "        self.dropout1 = nn.Dropout(0.3)\n",
    "\n",
    "        self.fc2 = nn.Linear(128, 64)\n",
    "        self.ln2 = nn.LayerNorm(64)\n",
    "        self.bn2 = nn.BatchNorm1d(64)\n",
    "        self.dropout2 = nn.Dropout(0.2)\n",
    "\n",
    "        self.fc3 = nn.Linear(64, 32)\n",
    "        self.ln3 = nn.LayerNorm(32)\n",
    "        self.bn3 = nn.BatchNorm1d(32)\n",
    "        self.dropout3 = nn.Dropout(0.1)\n",
    "\n",
    "        self.fc4 = nn.Linear(32, 1)\n",
    "\n",
    "    def forward(self, cat_input, text_emb):\n",
    "        embedded_cat = [emb(cat_input[:, i]) for i, emb in enumerate(self.embeddings)]\n",
    "        cat_out = torch.cat(embedded_cat, dim=1)\n",
    "\n",
    "        x = torch.cat([cat_out, text_emb], dim=1)\n",
    "\n",
    "        x = self.fc1(x)\n",
    "        #x = self.bn1(x)\n",
    "        x = self.ln1(x)\n",
    "        x = F.relu(x)\n",
    "        x = self.dropout1(x)\n",
    "\n",
    "        x = self.fc2(x)\n",
    "        x = self.ln2(x)\n",
    "        #x = self.bn2(x)\n",
    "        x = F.relu(x)\n",
    "        #x = self.dropout2(x)\n",
    "\n",
    "        x = self.fc3(x)\n",
    "        x = self.ln3(x)\n",
    "        #x = self.bn3(x)\n",
    "        x = F.relu(x)\n",
    "        #x = self.dropout3(x)\n",
    "\n",
    "        x = self.fc4(x)\n",
    "        return x"
   ]
  },
  {
   "cell_type": "markdown",
   "metadata": {
    "id": "WlP5b9Tnj4Cr"
   },
   "source": [
    "## Training the model"
   ]
  },
  {
   "cell_type": "code",
   "execution_count": 21,
   "metadata": {
    "id": "oDFVezmijh6a",
    "tags": []
   },
   "outputs": [],
   "source": [
    "train_dataset = SalaryDataset(X_train_cat, y_train, X_train_text_embeddings)\n",
    "val_dataset = SalaryDataset(X_val_cat, y_val, X_val_text_embeddings)\n",
    "test_dataset = SalaryDataset(X_test_cat, y_test, X_test_text_embeddings)\n",
    "\n",
    "g = torch.Generator()\n",
    "g.manual_seed(42)\n",
    "\n",
    "BATCH_SIZE = 64\n",
    "\n",
    "train_loader = DataLoader(train_dataset, batch_size=BATCH_SIZE, shuffle=True, generator=g)\n",
    "val_loader = DataLoader(val_dataset, batch_size=BATCH_SIZE, shuffle=False, generator=g)\n",
    "test_loader = DataLoader(test_dataset, batch_size=BATCH_SIZE, shuffle=False, generator=g)\n"
   ]
  },
  {
   "cell_type": "code",
   "execution_count": 22,
   "metadata": {
    "colab": {
     "base_uri": "https://localhost:8080/"
    },
    "id": "As-TTO4nj65x",
    "outputId": "808e0706-a91b-40c4-aa6c-14be300b0628",
    "tags": []
   },
   "outputs": [
    {
     "name": "stdout",
     "output_type": "stream",
     "text": [
      "Number of trainable parameters: 85209\n"
     ]
    }
   ],
   "source": [
    "set_seed(42)\n",
    "model = SalaryModel(embedding_sizes, text_emb_dim=384)\n",
    "model = model.to(device)\n",
    "loss_fn = torch.nn.SmoothL1Loss()\n",
    "\n",
    "optimizer = torch.optim.AdamW(model.parameters(), lr=0.001)\n",
    "scheduler = ReduceLROnPlateau(optimizer, 'min', patience=2, factor=0.5)\n",
    "\n",
    "\n",
    "def count_trainable_params(model):\n",
    "    return sum(p.numel() for p in model.parameters() if p.requires_grad)\n",
    "print(f\"Number of trainable parameters: {count_trainable_params(model)}\")\n"
   ]
  },
  {
   "cell_type": "code",
   "execution_count": 23,
   "metadata": {
    "id": "IlvmGbI60lSe",
    "tags": []
   },
   "outputs": [],
   "source": [
    "def train_one_epoch(epoch_index, tb_writer):\n",
    "    running_loss = 0.0\n",
    "    batch_losses = []\n",
    "\n",
    "    for i, (cat_inputs, text_inputs, labels) in enumerate(train_loader):\n",
    "        cat_inputs = cat_inputs.to(device)\n",
    "        labels = labels.to(device)\n",
    "\n",
    "        optimizer.zero_grad()\n",
    "        outputs = model(cat_inputs, text_inputs)\n",
    "        loss = loss_fn(outputs, labels)\n",
    "\n",
    "        loss.backward()\n",
    "        optimizer.step()\n",
    "        running_loss += loss.item()\n",
    "        batch_losses.append(loss.item())\n",
    "\n",
    "        if i % 500 == 499:\n",
    "            avg_loss = running_loss / 500\n",
    "            print(f\"Batch {i + 1} loss: {avg_loss:.4f}\")\n",
    "            tb_writer.add_scalar('Loss/train', avg_loss, epoch_index * len(train_loader) + i)\n",
    "            running_loss = 0.0\n",
    "\n",
    "    avg_epoch_loss = sum(batch_losses) / len(batch_losses)\n",
    "    return avg_epoch_loss, batch_losses\n"
   ]
  },
  {
   "cell_type": "markdown",
   "metadata": {
    "id": "W8URYwp6NE0q"
   },
   "source": [
    "## Evaluation the model"
   ]
  },
  {
   "cell_type": "code",
   "execution_count": 24,
   "metadata": {
    "id": "JXjuxMxXQ3YE",
    "tags": []
   },
   "outputs": [],
   "source": [
    "def changing_to_original_metric(y_pred, y_true):\n",
    "    y_pred = np.expm1(y_pred)\n",
    "    y_true = np.expm1(y_true)\n",
    "    print(f\"MSE: {mean_squared_error(y_true, y_pred):.4f}\")\n",
    "    print(f\"RMSE: {np.sqrt(mean_squared_error(y_true, y_pred)):.4f}\")\n",
    "    print(f\"R²: {r2_score(y_true, y_pred):.4f}\")\n",
    "    return y_pred, y_true"
   ]
  },
  {
   "cell_type": "code",
   "execution_count": 25,
   "metadata": {
    "colab": {
     "base_uri": "https://localhost:8080/"
    },
    "id": "S7yEruda03JS",
    "outputId": "b81801bd-a2c9-42f4-e104-f534d58affa6",
    "tags": []
   },
   "outputs": [
    {
     "name": "stdout",
     "output_type": "stream",
     "text": [
      "EPOCH 1:\n",
      "Batch 500 loss: 2.6902\n",
      "Batch 1000 loss: 0.0693\n",
      "Batch 1500 loss: 0.0571\n",
      "Batch 2000 loss: 0.0535\n",
      "Batch 2500 loss: 0.0530\n",
      "LOSS train: 0.5453, valid: 0.0489\n",
      "--------------------------------\n",
      "MSE: 0.0985\n",
      "RMSE: 0.3138\n",
      "R²: 0.5912\n",
      "--------------------------------\n",
      "Original scale\n",
      "MSE: 145689488.0000\n",
      "RMSE: 12070.1901\n",
      "R²: 0.5322\n",
      "\n",
      "\n",
      "EPOCH 2:\n",
      "Batch 500 loss: 0.0501\n",
      "Batch 1000 loss: 0.0487\n",
      "Batch 1500 loss: 0.0478\n",
      "Batch 2000 loss: 0.0479\n",
      "Batch 2500 loss: 0.0461\n",
      "LOSS train: 0.0480, valid: 0.0453\n",
      "--------------------------------\n",
      "MSE: 0.0913\n",
      "RMSE: 0.3022\n",
      "R²: 0.6209\n",
      "--------------------------------\n",
      "Original scale\n",
      "MSE: 130829920.0000\n",
      "RMSE: 11438.0907\n",
      "R²: 0.5799\n",
      "\n",
      "\n",
      "EPOCH 3:\n",
      "Batch 500 loss: 0.0449\n",
      "Batch 1000 loss: 0.0446\n",
      "Batch 1500 loss: 0.0448\n",
      "Batch 2000 loss: 0.0439\n",
      "Batch 2500 loss: 0.0437\n",
      "LOSS train: 0.0444, valid: 0.0412\n",
      "--------------------------------\n",
      "MSE: 0.0832\n",
      "RMSE: 0.2885\n",
      "R²: 0.6545\n",
      "--------------------------------\n",
      "Original scale\n",
      "MSE: 124384448.0000\n",
      "RMSE: 11152.7776\n",
      "R²: 0.6006\n",
      "\n",
      "\n",
      "EPOCH 4:\n",
      "Batch 500 loss: 0.0425\n",
      "Batch 1000 loss: 0.0419\n",
      "Batch 1500 loss: 0.0429\n",
      "Batch 2000 loss: 0.0418\n",
      "Batch 2500 loss: 0.0416\n",
      "LOSS train: 0.0421, valid: 0.0405\n",
      "--------------------------------\n",
      "MSE: 0.0818\n",
      "RMSE: 0.2859\n",
      "R²: 0.6606\n",
      "--------------------------------\n",
      "Original scale\n",
      "MSE: 119815592.0000\n",
      "RMSE: 10946.0309\n",
      "R²: 0.6153\n",
      "\n",
      "\n",
      "EPOCH 5:\n",
      "Batch 500 loss: 0.0404\n",
      "Batch 1000 loss: 0.0405\n",
      "Batch 1500 loss: 0.0404\n",
      "Batch 2000 loss: 0.0396\n",
      "Batch 2500 loss: 0.0407\n",
      "LOSS train: 0.0403, valid: 0.0382\n",
      "--------------------------------\n",
      "MSE: 0.0770\n",
      "RMSE: 0.2776\n",
      "R²: 0.6802\n",
      "--------------------------------\n",
      "Original scale\n",
      "MSE: 117622256.0000\n",
      "RMSE: 10845.3795\n",
      "R²: 0.6224\n",
      "\n",
      "\n",
      "EPOCH 6:\n",
      "Batch 500 loss: 0.0386\n",
      "Batch 1000 loss: 0.0387\n",
      "Batch 1500 loss: 0.0390\n",
      "Batch 2000 loss: 0.0395\n",
      "Batch 2500 loss: 0.0393\n",
      "LOSS train: 0.0390, valid: 0.0377\n",
      "--------------------------------\n",
      "MSE: 0.0762\n",
      "RMSE: 0.2760\n",
      "R²: 0.6838\n",
      "--------------------------------\n",
      "Original scale\n",
      "MSE: 120197848.0000\n",
      "RMSE: 10963.4779\n",
      "R²: 0.6141\n",
      "\n",
      "\n",
      "EPOCH 7:\n",
      "Batch 500 loss: 0.0373\n",
      "Batch 1000 loss: 0.0375\n",
      "Batch 1500 loss: 0.0379\n",
      "Batch 2000 loss: 0.0384\n",
      "Batch 2500 loss: 0.0383\n",
      "LOSS train: 0.0379, valid: 0.0368\n",
      "--------------------------------\n",
      "MSE: 0.0742\n",
      "RMSE: 0.2724\n",
      "R²: 0.6918\n",
      "--------------------------------\n",
      "Original scale\n",
      "MSE: 116657024.0000\n",
      "RMSE: 10800.7881\n",
      "R²: 0.6255\n",
      "\n",
      "\n",
      "EPOCH 8:\n",
      "Batch 500 loss: 0.0366\n",
      "Batch 1000 loss: 0.0375\n",
      "Batch 1500 loss: 0.0363\n",
      "Batch 2000 loss: 0.0369\n",
      "Batch 2500 loss: 0.0369\n",
      "LOSS train: 0.0369, valid: 0.0364\n",
      "--------------------------------\n",
      "MSE: 0.0734\n",
      "RMSE: 0.2710\n",
      "R²: 0.6952\n",
      "--------------------------------\n",
      "Original scale\n",
      "MSE: 114140608.0000\n",
      "RMSE: 10683.6608\n",
      "R²: 0.6335\n",
      "\n",
      "\n",
      "EPOCH 9:\n",
      "Batch 500 loss: 0.0347\n",
      "Batch 1000 loss: 0.0362\n",
      "Batch 1500 loss: 0.0366\n",
      "Batch 2000 loss: 0.0360\n",
      "Batch 2500 loss: 0.0367\n",
      "LOSS train: 0.0360, valid: 0.0358\n",
      "--------------------------------\n",
      "MSE: 0.0722\n",
      "RMSE: 0.2687\n",
      "R²: 0.7002\n",
      "--------------------------------\n",
      "Original scale\n",
      "MSE: 112882304.0000\n",
      "RMSE: 10624.6084\n",
      "R²: 0.6376\n",
      "\n",
      "\n",
      "EPOCH 10:\n",
      "Batch 500 loss: 0.0347\n",
      "Batch 1000 loss: 0.0354\n",
      "Batch 1500 loss: 0.0355\n",
      "Batch 2000 loss: 0.0355\n",
      "Batch 2500 loss: 0.0360\n",
      "LOSS train: 0.0355, valid: 0.0356\n",
      "--------------------------------\n",
      "MSE: 0.0719\n",
      "RMSE: 0.2681\n",
      "R²: 0.7016\n",
      "--------------------------------\n",
      "Original scale\n",
      "MSE: 108960112.0000\n",
      "RMSE: 10438.3960\n",
      "R²: 0.6502\n",
      "\n",
      "\n",
      "EPOCH 11:\n",
      "Batch 500 loss: 0.0347\n",
      "Batch 1000 loss: 0.0341\n",
      "Batch 1500 loss: 0.0348\n",
      "Batch 2000 loss: 0.0355\n",
      "Batch 2500 loss: 0.0362\n",
      "LOSS train: 0.0350, valid: 0.0352\n",
      "--------------------------------\n",
      "MSE: 0.0712\n",
      "RMSE: 0.2668\n",
      "R²: 0.7045\n",
      "--------------------------------\n",
      "Original scale\n",
      "MSE: 108494560.0000\n",
      "RMSE: 10416.0722\n",
      "R²: 0.6517\n",
      "\n",
      "\n",
      "EPOCH 12:\n",
      "Batch 500 loss: 0.0335\n",
      "Batch 1000 loss: 0.0335\n",
      "Batch 1500 loss: 0.0347\n",
      "Batch 2000 loss: 0.0354\n",
      "Batch 2500 loss: 0.0344\n",
      "LOSS train: 0.0344, valid: 0.0359\n",
      "--------------------------------\n",
      "MSE: 0.0725\n",
      "RMSE: 0.2692\n",
      "R²: 0.6992\n",
      "--------------------------------\n",
      "Original scale\n",
      "MSE: 107018632.0000\n",
      "RMSE: 10344.9810\n",
      "R²: 0.6564\n",
      "\n",
      "\n",
      "EPOCH 13:\n",
      "Batch 500 loss: 0.0337\n",
      "Batch 1000 loss: 0.0340\n",
      "Batch 1500 loss: 0.0336\n",
      "Batch 2000 loss: 0.0337\n",
      "Batch 2500 loss: 0.0342\n",
      "LOSS train: 0.0338, valid: 0.0351\n",
      "--------------------------------\n",
      "MSE: 0.0709\n",
      "RMSE: 0.2664\n",
      "R²: 0.7055\n",
      "--------------------------------\n",
      "Original scale\n",
      "MSE: 112236776.0000\n",
      "RMSE: 10594.1860\n",
      "R²: 0.6396\n",
      "\n",
      "\n",
      "EPOCH 14:\n",
      "Batch 500 loss: 0.0327\n",
      "Batch 1000 loss: 0.0333\n",
      "Batch 1500 loss: 0.0338\n",
      "Batch 2000 loss: 0.0326\n",
      "Batch 2500 loss: 0.0340\n",
      "LOSS train: 0.0334, valid: 0.0363\n",
      "--------------------------------\n",
      "MSE: 0.0732\n",
      "RMSE: 0.2705\n",
      "R²: 0.6963\n",
      "--------------------------------\n",
      "Original scale\n",
      "MSE: 118295576.0000\n",
      "RMSE: 10876.3770\n",
      "R²: 0.6202\n",
      "\n",
      "\n",
      "EPOCH 15:\n",
      "Batch 500 loss: 0.0325\n",
      "Batch 1000 loss: 0.0322\n",
      "Batch 1500 loss: 0.0331\n",
      "Batch 2000 loss: 0.0335\n",
      "Batch 2500 loss: 0.0337\n",
      "LOSS train: 0.0330, valid: 0.0350\n",
      "--------------------------------\n",
      "MSE: 0.0706\n",
      "RMSE: 0.2658\n",
      "R²: 0.7067\n",
      "--------------------------------\n",
      "Original scale\n",
      "MSE: 105461368.0000\n",
      "RMSE: 10269.4385\n",
      "R²: 0.6614\n",
      "\n",
      "\n",
      "EPOCH 16:\n",
      "Batch 500 loss: 0.0321\n",
      "Batch 1000 loss: 0.0323\n",
      "Batch 1500 loss: 0.0323\n",
      "Batch 2000 loss: 0.0337\n",
      "Batch 2500 loss: 0.0328\n",
      "LOSS train: 0.0327, valid: 0.0343\n",
      "--------------------------------\n",
      "MSE: 0.0692\n",
      "RMSE: 0.2631\n",
      "R²: 0.7126\n",
      "--------------------------------\n",
      "Original scale\n",
      "MSE: 105833472.0000\n",
      "RMSE: 10287.5396\n",
      "R²: 0.6602\n",
      "\n",
      "\n",
      "EPOCH 17:\n",
      "Batch 500 loss: 0.0311\n",
      "Batch 1000 loss: 0.0324\n",
      "Batch 1500 loss: 0.0323\n",
      "Batch 2000 loss: 0.0328\n",
      "Batch 2500 loss: 0.0326\n",
      "LOSS train: 0.0323, valid: 0.0341\n",
      "--------------------------------\n",
      "MSE: 0.0688\n",
      "RMSE: 0.2623\n",
      "R²: 0.7145\n",
      "--------------------------------\n",
      "Original scale\n",
      "MSE: 105485864.0000\n",
      "RMSE: 10270.6311\n",
      "R²: 0.6613\n",
      "\n",
      "\n",
      "EPOCH 18:\n",
      "Batch 500 loss: 0.0305\n",
      "Batch 1000 loss: 0.0320\n",
      "Batch 1500 loss: 0.0318\n",
      "Batch 2000 loss: 0.0325\n",
      "Batch 2500 loss: 0.0325\n",
      "LOSS train: 0.0319, valid: 0.0342\n",
      "--------------------------------\n",
      "MSE: 0.0692\n",
      "RMSE: 0.2630\n",
      "R²: 0.7129\n",
      "--------------------------------\n",
      "Original scale\n",
      "MSE: 104405944.0000\n",
      "RMSE: 10217.9227\n",
      "R²: 0.6648\n",
      "\n",
      "\n",
      "EPOCH 19:\n",
      "Batch 500 loss: 0.0315\n",
      "Batch 1000 loss: 0.0315\n",
      "Batch 1500 loss: 0.0314\n",
      "Batch 2000 loss: 0.0317\n",
      "Batch 2500 loss: 0.0319\n",
      "LOSS train: 0.0317, valid: 0.0341\n",
      "--------------------------------\n",
      "MSE: 0.0688\n",
      "RMSE: 0.2624\n",
      "R²: 0.7142\n",
      "--------------------------------\n",
      "Original scale\n",
      "MSE: 106656904.0000\n",
      "RMSE: 10327.4829\n",
      "R²: 0.6576\n",
      "\n",
      "\n",
      "EPOCH 20:\n",
      "Batch 500 loss: 0.0312\n",
      "Batch 1000 loss: 0.0316\n",
      "Batch 1500 loss: 0.0309\n",
      "Batch 2000 loss: 0.0320\n",
      "Batch 2500 loss: 0.0313\n",
      "LOSS train: 0.0313, valid: 0.0346\n",
      "--------------------------------\n",
      "MSE: 0.0699\n",
      "RMSE: 0.2643\n",
      "R²: 0.7099\n",
      "--------------------------------\n",
      "Original scale\n",
      "MSE: 102838176.0000\n",
      "RMSE: 10140.9159\n",
      "R²: 0.6698\n",
      "\n",
      "\n",
      "EPOCH 21:\n",
      "Batch 500 loss: 0.0293\n",
      "Batch 1000 loss: 0.0298\n",
      "Batch 1500 loss: 0.0301\n",
      "Batch 2000 loss: 0.0295\n",
      "Batch 2500 loss: 0.0295\n",
      "LOSS train: 0.0296, valid: 0.0338\n",
      "--------------------------------\n",
      "MSE: 0.0683\n",
      "RMSE: 0.2614\n",
      "R²: 0.7163\n",
      "--------------------------------\n",
      "Original scale\n",
      "MSE: 107567840.0000\n",
      "RMSE: 10371.4917\n",
      "R²: 0.6546\n",
      "\n",
      "\n",
      "EPOCH 22:\n",
      "Batch 500 loss: 0.0286\n",
      "Batch 1000 loss: 0.0291\n",
      "Batch 1500 loss: 0.0293\n",
      "Batch 2000 loss: 0.0289\n",
      "Batch 2500 loss: 0.0290\n",
      "LOSS train: 0.0290, valid: 0.0332\n",
      "--------------------------------\n",
      "MSE: 0.0671\n",
      "RMSE: 0.2591\n",
      "R²: 0.7213\n",
      "--------------------------------\n",
      "Original scale\n",
      "MSE: 102534520.0000\n",
      "RMSE: 10125.9330\n",
      "R²: 0.6708\n",
      "\n",
      "\n",
      "EPOCH 23:\n",
      "Batch 500 loss: 0.0286\n",
      "Batch 1000 loss: 0.0292\n",
      "Batch 1500 loss: 0.0288\n",
      "Batch 2000 loss: 0.0285\n",
      "Batch 2500 loss: 0.0287\n",
      "LOSS train: 0.0288, valid: 0.0336\n",
      "--------------------------------\n",
      "MSE: 0.0679\n",
      "RMSE: 0.2606\n",
      "R²: 0.7180\n",
      "--------------------------------\n",
      "Original scale\n",
      "MSE: 101247192.0000\n",
      "RMSE: 10062.1664\n",
      "R²: 0.6749\n",
      "\n",
      "\n",
      "EPOCH 24:\n",
      "Batch 500 loss: 0.0280\n",
      "Batch 1000 loss: 0.0285\n",
      "Batch 1500 loss: 0.0289\n",
      "Batch 2000 loss: 0.0288\n",
      "Batch 2500 loss: 0.0288\n",
      "LOSS train: 0.0287, valid: 0.0335\n",
      "--------------------------------\n",
      "MSE: 0.0677\n",
      "RMSE: 0.2602\n",
      "R²: 0.7190\n",
      "--------------------------------\n",
      "Original scale\n",
      "MSE: 101573728.0000\n",
      "RMSE: 10078.3792\n",
      "R²: 0.6739\n",
      "\n",
      "\n",
      "EPOCH 25:\n",
      "Batch 500 loss: 0.0278\n",
      "Batch 1000 loss: 0.0279\n",
      "Batch 1500 loss: 0.0283\n",
      "Batch 2000 loss: 0.0289\n",
      "Batch 2500 loss: 0.0289\n",
      "LOSS train: 0.0284, valid: 0.0334\n",
      "--------------------------------\n",
      "MSE: 0.0675\n",
      "RMSE: 0.2599\n",
      "R²: 0.7196\n",
      "--------------------------------\n",
      "Original scale\n",
      "MSE: 106614144.0000\n",
      "RMSE: 10325.4125\n",
      "R²: 0.6577\n",
      "\n",
      "\n",
      "EPOCH 26:\n",
      "Batch 500 loss: 0.0271\n",
      "Batch 1000 loss: 0.0267\n",
      "Batch 1500 loss: 0.0273\n",
      "Batch 2000 loss: 0.0280\n",
      "Batch 2500 loss: 0.0280\n",
      "LOSS train: 0.0274, valid: 0.0329\n",
      "--------------------------------\n",
      "MSE: 0.0665\n",
      "RMSE: 0.2579\n",
      "R²: 0.7238\n",
      "--------------------------------\n",
      "Original scale\n",
      "MSE: 102049592.0000\n",
      "RMSE: 10101.9598\n",
      "R²: 0.6724\n",
      "\n",
      "\n",
      "EPOCH 27:\n",
      "Batch 500 loss: 0.0273\n",
      "Batch 1000 loss: 0.0269\n",
      "Batch 1500 loss: 0.0264\n",
      "Batch 2000 loss: 0.0274\n",
      "Batch 2500 loss: 0.0274\n",
      "LOSS train: 0.0271, valid: 0.0327\n",
      "--------------------------------\n",
      "MSE: 0.0661\n",
      "RMSE: 0.2571\n",
      "R²: 0.7255\n",
      "--------------------------------\n",
      "Original scale\n",
      "MSE: 101697088.0000\n",
      "RMSE: 10084.4974\n",
      "R²: 0.6735\n",
      "\n",
      "\n",
      "EPOCH 28:\n",
      "Batch 500 loss: 0.0269\n",
      "Batch 1000 loss: 0.0271\n",
      "Batch 1500 loss: 0.0265\n",
      "Batch 2000 loss: 0.0274\n",
      "Batch 2500 loss: 0.0269\n",
      "LOSS train: 0.0270, valid: 0.0329\n",
      "--------------------------------\n",
      "MSE: 0.0664\n",
      "RMSE: 0.2577\n",
      "R²: 0.7243\n",
      "--------------------------------\n",
      "Original scale\n",
      "MSE: 102422664.0000\n",
      "RMSE: 10120.4083\n",
      "R²: 0.6712\n",
      "\n",
      "\n",
      "EPOCH 29:\n",
      "Batch 500 loss: 0.0270\n",
      "Batch 1000 loss: 0.0270\n",
      "Batch 1500 loss: 0.0264\n",
      "Batch 2000 loss: 0.0269\n",
      "Batch 2500 loss: 0.0268\n",
      "LOSS train: 0.0268, valid: 0.0329\n",
      "--------------------------------\n",
      "MSE: 0.0665\n",
      "RMSE: 0.2579\n",
      "R²: 0.7238\n",
      "--------------------------------\n",
      "Original scale\n",
      "MSE: 100491456.0000\n",
      "RMSE: 10024.5427\n",
      "R²: 0.6774\n",
      "\n",
      "\n",
      "EPOCH 30:\n",
      "Batch 500 loss: 0.0261\n",
      "Batch 1000 loss: 0.0272\n",
      "Batch 1500 loss: 0.0268\n",
      "Batch 2000 loss: 0.0261\n",
      "Batch 2500 loss: 0.0267\n",
      "LOSS train: 0.0267, valid: 0.0328\n",
      "--------------------------------\n",
      "MSE: 0.0664\n",
      "RMSE: 0.2577\n",
      "R²: 0.7243\n",
      "--------------------------------\n",
      "Original scale\n",
      "MSE: 100751312.0000\n",
      "RMSE: 10037.4953\n",
      "R²: 0.6765\n",
      "\n",
      "\n",
      "EPOCH 31:\n",
      "Batch 500 loss: 0.0257\n",
      "Batch 1000 loss: 0.0261\n",
      "Batch 1500 loss: 0.0260\n",
      "Batch 2000 loss: 0.0264\n",
      "Batch 2500 loss: 0.0266\n",
      "LOSS train: 0.0262, valid: 0.0328\n",
      "--------------------------------\n",
      "MSE: 0.0662\n",
      "RMSE: 0.2574\n",
      "R²: 0.7250\n",
      "--------------------------------\n",
      "Original scale\n",
      "MSE: 100789664.0000\n",
      "RMSE: 10039.4056\n",
      "R²: 0.6764\n",
      "\n",
      "\n",
      "EPOCH 32:\n",
      "Batch 500 loss: 0.0265\n",
      "Batch 1000 loss: 0.0258\n",
      "Batch 1500 loss: 0.0255\n",
      "Batch 2000 loss: 0.0260\n",
      "Batch 2500 loss: 0.0260\n",
      "LOSS train: 0.0260, valid: 0.0327\n",
      "--------------------------------\n",
      "MSE: 0.0662\n",
      "RMSE: 0.2572\n",
      "R²: 0.7253\n",
      "--------------------------------\n",
      "Original scale\n",
      "MSE: 101188208.0000\n",
      "RMSE: 10059.2350\n",
      "R²: 0.6751\n",
      "\n",
      "\n",
      "Early stopping at epoch 32\n"
     ]
    }
   ],
   "source": [
    "patience = 5\n",
    "best_vloss = float('inf')\n",
    "epochs_without_improvement = 0\n",
    "model_save_path = 'best_model.pth'\n",
    "\n",
    "timestamp = datetime.now().strftime('%Y%m%d_%H%M%S')\n",
    "writer = SummaryWriter('runs/fashion_trainer_{}'.format(timestamp))\n",
    "\n",
    "epoch_number = 0\n",
    "EPOCHS = 100\n",
    "\n",
    "train_losses = []\n",
    "val_losses = []\n",
    "train_batch_losses = []\n",
    "val_batch_losses = []\n",
    "\n",
    "\n",
    "for epoch in range(EPOCHS):\n",
    "    print(f'EPOCH {epoch_number + 1}:')\n",
    "\n",
    "    model.train(True)\n",
    "    avg_train_loss, batch_train_losses = train_one_epoch(epoch_number, writer)\n",
    "    train_losses.append(avg_train_loss)\n",
    "    train_batch_losses.extend(batch_train_losses)\n",
    "\n",
    "    model.eval()\n",
    "    running_vloss = 0.0\n",
    "    r_vloss = 0.0\n",
    "    batch_val_losses = []\n",
    "    all_val_outputs = []\n",
    "    all_val_labels = []\n",
    "\n",
    "    with torch.no_grad():\n",
    "        for i, vdata in enumerate(val_loader):\n",
    "            cat_inputs, text_inputs, vlabels = vdata\n",
    "\n",
    "            cat_inputs = cat_inputs.to(device)\n",
    "            text_inputs = text_inputs.to(device)\n",
    "            vlabels = vlabels.to(device)\n",
    "\n",
    "            voutputs = model(cat_inputs, text_inputs)\n",
    "            vloss = loss_fn(voutputs, vlabels)\n",
    "\n",
    "            loss_value = vloss.item()\n",
    "            running_vloss += loss_value\n",
    "            r_vloss += loss_value\n",
    "            if i % 500 == 499:\n",
    "                last_loss = r_vloss / 500\n",
    "                batch_val_losses.append(last_loss)\n",
    "                r_vloss = 0.0\n",
    "\n",
    "            all_val_outputs.extend(voutputs.cpu().numpy())\n",
    "            all_val_labels.extend(vlabels.cpu().numpy())\n",
    "\n",
    "    avg_vloss = running_vloss / (i + 1)\n",
    "    val_losses.append(avg_vloss)\n",
    "    val_batch_losses.extend(batch_val_losses)\n",
    "    scheduler.step(avg_vloss)\n",
    "\n",
    "\n",
    "    mse_val = mean_squared_error(all_val_labels, all_val_outputs)\n",
    "    rmse_val = np.sqrt(mse_val)\n",
    "    r2_val = r2_score(all_val_labels, all_val_outputs)\n",
    "\n",
    "    print(f'LOSS train: {avg_train_loss:.4f}, valid: {avg_vloss:.4f}')\n",
    "    print(\"--------------------------------\")\n",
    "    print(f\"MSE: {mse_val:.4f}\")\n",
    "    print(f\"RMSE: {rmse_val:.4f}\")\n",
    "    print(f\"R²: {r2_val:.4f}\")\n",
    "    print(\"--------------------------------\")\n",
    "    print(\"Original scale\")\n",
    "    all_val_outputs_original, all_val_labels_original = changing_to_original_metric(all_val_outputs, all_val_labels)\n",
    "    mse_val_original = mean_squared_error(all_val_labels_original, all_val_outputs_original)\n",
    "    rmse_val_original = np.sqrt(mse_val_original)\n",
    "    r2_val_original = r2_score(all_val_labels_original, all_val_outputs_original)\n",
    "    print(\"\\n\")\n",
    "\n",
    "    writer.add_scalars('Training vs. Validation Loss',\n",
    "                       {'Training': avg_train_loss, 'Validation': avg_vloss},\n",
    "                       epoch_number + 1)\n",
    "    writer.flush()\n",
    "\n",
    "    if avg_vloss < best_vloss:\n",
    "        best_vloss = avg_vloss\n",
    "        epochs_without_improvement = 0\n",
    "        torch.save(model.state_dict(), model_save_path)\n",
    "    else:\n",
    "        epochs_without_improvement += 1\n",
    "\n",
    "    if epochs_without_improvement >= patience:\n",
    "        print(f'Early stopping at epoch {epoch_number + 1}')\n",
    "        break\n",
    "\n",
    "    epoch_number += 1\n"
   ]
  },
  {
   "cell_type": "markdown",
   "metadata": {
    "id": "z6Mvdel1eF0c"
   },
   "source": [
    "### Improvements"
   ]
  },
  {
   "cell_type": "markdown",
   "metadata": {
    "id": "Ct9KGJZpNnfE"
   },
   "source": [
    "3 fc layers without Norm and Dropouts:\n",
    "\n",
    "LOSS train: 0.0457, valid: 0.0452\n",
    "MSE: 0.0910\n",
    "RMSE: 0.3017\n",
    "R²: 0.6220\n",
    "Original scale\n",
    "MSE: 137206528.0000\n",
    "RMSE: 11713.5190\n",
    "R²: 0.5595\n"
   ]
  },
  {
   "cell_type": "markdown",
   "metadata": {
    "id": "7el-F-EuPGJI"
   },
   "source": [
    "4 fc layers 32->1 without Norm and Dropouts:\n",
    "\n",
    "LOSS train: 0.0414, valid: 0.0420\n",
    "MSE: 0.0847\n",
    "RMSE: 0.2911\n",
    "R²: 0.6483\n",
    "Original scale\n",
    "MSE: 125557360.0000\n",
    "RMSE: 11205.2381\n",
    "R²: 0.5969\n",
    "\n",
    "\n"
   ]
  },
  {
   "cell_type": "markdown",
   "metadata": {
    "id": "TEAVwv3XQ0Ko"
   },
   "source": [
    "4 fc layers 128->1 without Norm and Dropouts\n",
    "\n",
    "LOSS train: 0.0400, valid: 0.0409\n",
    "MSE: 0.0824\n",
    "RMSE: 0.2871\n",
    "R²: 0.6578\n",
    "Original scale\n",
    "MSE: 124039752.0000\n",
    "RMSE: 11137.3135\n",
    "R²: 0.6017"
   ]
  },
  {
   "cell_type": "markdown",
   "metadata": {
    "id": "jg4W4WZDR56F"
   },
   "source": [
    "Adding BatchNorm:\n",
    "\n",
    "LOSS train: 0.0309, valid: 0.0352\n",
    "MSE: 0.0711\n",
    "RMSE: 0.2666\n",
    "R²: 0.7049\n",
    "Original scale\n",
    "MSE: 108920920.0000\n",
    "RMSE: 10436.5186\n",
    "R²: 0.6503"
   ]
  },
  {
   "cell_type": "markdown",
   "metadata": {
    "id": "N7RyGoQqS32J"
   },
   "source": [
    "Changing to LayerNorm:\n",
    "\n",
    "LOSS train: 0.0297, valid: 0.0353\n",
    "MSE: 0.0713\n",
    "RMSE: 0.2670\n",
    "R²: 0.7039\n",
    "Original scale\n",
    "MSE: 110048640.0000\n",
    "RMSE: 10490.4070\n",
    "R²: 0.6467"
   ]
  },
  {
   "cell_type": "markdown",
   "metadata": {
    "id": "EcOhCa5EQz4t"
   },
   "source": [
    "Dropout 0.3 after first fc\n",
    "\n",
    "LOSS train: 0.0269, valid: 0.0331\n",
    "MSE: 0.0669\n",
    "RMSE: 0.2586\n",
    "R²: 0.7223\n",
    "Original scale\n",
    "MSE: 103070344.0000\n",
    "RMSE: 10152.3566\n",
    "R²: 0.6691"
   ]
  },
  {
   "cell_type": "markdown",
   "metadata": {
    "id": "r338pOp2W_Rz"
   },
   "source": [
    "Changing emb_cat_size:\n",
    "\n",
    "LOSS train: 0.0250, valid: 0.0330\n",
    "MSE: 0.0668\n",
    "RMSE: 0.2584\n",
    "R²: 0.7229\n",
    "Original scale\n",
    "MSE: 100841456.0000\n",
    "RMSE: 10041.9847\n",
    "R²: 0.6762\n"
   ]
  },
  {
   "cell_type": "markdown",
   "metadata": {
    "id": "soX71ajTj4ly"
   },
   "source": [
    "Changing to L6 model:\n",
    "\n",
    "LOSS train: 0.0296, valid: 0.0354\n",
    "MSE: 0.0714\n",
    "RMSE: 0.2671\n",
    "R²: 0.7037\n",
    "Original scale\n",
    "MSE: 108699888.0000\n",
    "RMSE: 10425.9238\n",
    "R²: 0.6510"
   ]
  },
  {
   "cell_type": "markdown",
   "metadata": {
    "id": "mtGTv9jbq5Id"
   },
   "source": [
    "Changing to all L6 model:\n",
    "\n",
    "LOSS train: 0.0271, valid: 0.0327\n",
    "MSE: 0.0661\n",
    "RMSE: 0.2571\n",
    "R²: 0.7255\n",
    "Original scale\n",
    "MSE: 101697088.0000\n",
    "RMSE: 10084.4974\n",
    "R²: 0.6735"
   ]
  },
  {
   "cell_type": "code",
   "execution_count": 26,
   "metadata": {
    "colab": {
     "base_uri": "https://localhost:8080/",
     "height": 449
    },
    "id": "074XkkBdyvoX",
    "outputId": "026c62c5-a5d9-4058-fc4e-fb84d650c7ae",
    "tags": []
   },
   "outputs": [
    {
     "data": {
      "image/png": "[encoded data removed]",
      "text/plain": [
       "<Figure size 640x480 with 1 Axes>"
      ]
     },
     "metadata": {},
     "output_type": "display_data"
    }
   ],
   "source": [
    "plt.plot(train_losses, label='Train Loss')\n",
    "plt.plot(val_losses, label='Validation Loss')\n",
    "plt.xlabel('Epoch')\n",
    "plt.ylabel('Loss')\n",
    "plt.xlim(0)\n",
    "plt.legend()\n",
    "plt.grid(True)\n",
    "plt.show()\n"
   ]
  },
  {
   "cell_type": "markdown",
   "metadata": {
    "id": "TzGoZtEGNLsL"
   },
   "source": [
    "## Evaluation on the test set"
   ]
  },
  {
   "cell_type": "code",
   "execution_count": 32,
   "metadata": {
    "colab": {
     "base_uri": "https://localhost:8080/"
    },
    "id": "wxVDFc_mGxVw",
    "outputId": "0c15728e-7961-4c98-af45-8d05607099c2",
    "tags": []
   },
   "outputs": [
    {
     "data": {
      "text/plain": [
       "SalaryModel(\n",
       "  (embeddings): ModuleList(\n",
       "    (0): Embedding(1000, 10, padding_idx=0)\n",
       "    (1-2): 2 x Embedding(3, 2, padding_idx=0)\n",
       "    (3): Embedding(1001, 10, padding_idx=0)\n",
       "    (4): Embedding(29, 10, padding_idx=0)\n",
       "  )\n",
       "  (fc1): Linear(in_features=418, out_features=128, bias=True)\n",
       "  (ln1): LayerNorm((128,), eps=1e-05, elementwise_affine=True)\n",
       "  (bn1): BatchNorm1d(128, eps=1e-05, momentum=0.1, affine=True, track_running_stats=True)\n",
       "  (dropout1): Dropout(p=0.3, inplace=False)\n",
       "  (fc2): Linear(in_features=128, out_features=64, bias=True)\n",
       "  (ln2): LayerNorm((64,), eps=1e-05, elementwise_affine=True)\n",
       "  (bn2): BatchNorm1d(64, eps=1e-05, momentum=0.1, affine=True, track_running_stats=True)\n",
       "  (dropout2): Dropout(p=0.2, inplace=False)\n",
       "  (fc3): Linear(in_features=64, out_features=32, bias=True)\n",
       "  (ln3): LayerNorm((32,), eps=1e-05, elementwise_affine=True)\n",
       "  (bn3): BatchNorm1d(32, eps=1e-05, momentum=0.1, affine=True, track_running_stats=True)\n",
       "  (dropout3): Dropout(p=0.1, inplace=False)\n",
       "  (fc4): Linear(in_features=32, out_features=1, bias=True)\n",
       ")"
      ]
     },
     "execution_count": 32,
     "metadata": {},
     "output_type": "execute_result"
    }
   ],
   "source": [
    "model = SalaryModel(embedding_sizes, text_emb_dim=384)\n",
    "model = model.to(device)\n",
    "model.load_state_dict(torch.load(model_save_path))\n",
    "model.eval()"
   ]
  },
  {
   "cell_type": "code",
   "execution_count": 34,
   "metadata": {
    "colab": {
     "base_uri": "https://localhost:8080/"
    },
    "id": "-MHB-Y0sHGJ5",
    "outputId": "938b37ad-962c-4f8f-9932-e4b7e3ebcd49",
    "tags": []
   },
   "outputs": [
    {
     "name": "stdout",
     "output_type": "stream",
     "text": [
      "Test Loss: 0.0326\n",
      "MSE: 0.0662\n",
      "RMSE: 0.2572\n",
      "R²: 0.7258\n"
     ]
    }
   ],
   "source": [
    "running_test_loss = 0.0\n",
    "\n",
    "\n",
    "all_outputs = []\n",
    "all_labels = []\n",
    "\n",
    "with torch.no_grad():\n",
    "    for i, (cat_inputs, text_inputs, test_labels) in enumerate(test_loader):\n",
    "        cat_inputs = cat_inputs.to(device)\n",
    "        text_inputs = text_inputs.to(device)\n",
    "        test_labels = test_labels.to(device)\n",
    "        test_outputs = model(cat_inputs, text_inputs)\n",
    "        test_loss = loss_fn(test_outputs, test_labels)\n",
    "        running_test_loss += test_loss.item()\n",
    "\n",
    "        all_outputs.extend(test_outputs.cpu().numpy())\n",
    "        all_labels.extend(test_labels.cpu().numpy())\n",
    "\n",
    "avg_test_loss = running_test_loss / (i + 1)\n",
    "print(f\"Test Loss: {avg_test_loss:.4f}\")\n",
    "\n",
    "mse = mean_squared_error(all_labels, all_outputs)\n",
    "rmse = np.sqrt(mse)\n",
    "r2 = r2_score(all_labels, all_outputs)\n",
    "\n",
    "print(f\"MSE: {mse:.4f}\")\n",
    "print(f\"RMSE: {rmse:.4f}\")\n",
    "print(f\"R²: {r2:.4f}\")"
   ]
  },
  {
   "cell_type": "code",
   "execution_count": 35,
   "metadata": {
    "colab": {
     "base_uri": "https://localhost:8080/"
    },
    "id": "s3rjDcAGRzAQ",
    "outputId": "bf440611-bba6-497a-f6a6-83aacc3ec6dd",
    "tags": []
   },
   "outputs": [
    {
     "name": "stdout",
     "output_type": "stream",
     "text": [
      "MSE: 103386624.0000\n",
      "RMSE: 10167.9213\n",
      "R²: 0.6687\n"
     ]
    }
   ],
   "source": [
    "all_outputs, all_labels = changing_to_original_metric(all_outputs, all_labels)"
   ]
  }
 ],
 "metadata": {
  "accelerator": "GPU",
  "colab": {
   "collapsed_sections": [
    "uSFak2UyhQBj",
    "mlutQW5SZZd3",
    "c_bu4IZghUHZ",
    "xsUhoAEYGtUN",
    "yAWatT2Ohgp-",
    "Z1MNkf-9h2ai",
    "cXmpQDo6h_mx"
   ],
   "gpuType": "T4",
   "provenance": [],
   "toc_visible": true
  },
  "environment": {
   "kernel": "conda-base-py",
   "name": "workbench-notebooks.m129",
   "type": "gcloud",
   "uri": "us-docker.pkg.dev/deeplearning-platform-release/gcr.io/workbench-notebooks:m129"
  },
  "kernelspec": {
   "display_name": "Python 3 (ipykernel) (Local)",
   "language": "python",
   "name": "conda-base-py"
  },
  "language_info": {
   "codemirror_mode": {
    "name": "ipython",
    "version": 3
   },
   "file_extension": ".py",
   "mimetype": "text/x-python",
   "name": "python",
   "nbconvert_exporter": "python",
   "pygments_lexer": "ipython3",
   "version": "3.10.16"
  },
  "widgets": {
   "application/vnd.jupyter.widget-state+json": {
    "05e3d687688a44f1919ec12c5b54cb70": {
     "model_module": "@jupyter-widgets/controls",
     "model_module_version": "1.5.0",
     "model_name": "DescriptionStyleModel",
     "state": {
      "_model_module": "@jupyter-widgets/controls",
      "_model_module_version": "1.5.0",
      "_model_name": "DescriptionStyleModel",
      "_view_count": null,
      "_view_module": "@jupyter-widgets/base",
      "_view_module_version": "1.2.0",
      "_view_name": "StyleView",
      "description_width": ""
     }
    },
    "078564c714074a47a2123a8ee768e1a4": {
     "model_module": "@jupyter-widgets/controls",
     "model_module_version": "1.5.0",
     "model_name": "DescriptionStyleModel",
     "state": {
      "_model_module": "@jupyter-widgets/controls",
      "_model_module_version": "1.5.0",
      "_model_name": "DescriptionStyleModel",
      "_view_count": null,
      "_view_module": "@jupyter-widgets/base",
      "_view_module_version": "1.2.0",
      "_view_name": "StyleView",
      "description_width": ""
     }
    },
    "14ad3cc569664a4e854457fbf0fb6dbf": {
     "model_module": "@jupyter-widgets/controls",
     "model_module_version": "1.5.0",
     "model_name": "HTMLModel",
     "state": {
      "_dom_classes": [],
      "_model_module": "@jupyter-widgets/controls",
      "_model_module_version": "1.5.0",
      "_model_name": "HTMLModel",
      "_view_count": null,
      "_view_module": "@jupyter-widgets/controls",
      "_view_module_version": "1.5.0",
      "_view_name": "HTMLView",
      "description": "",
      "description_tooltip": null,
      "layout": "IPY_MODEL_e6f5a59623de4f4990ae010d481c98ba",
      "placeholder": "​",
      "style": "IPY_MODEL_078564c714074a47a2123a8ee768e1a4",
      "value": "Batches: 100%"
     }
    },
    "24dd70c0e1de4b158a7b59497555ae0b": {
     "model_module": "@jupyter-widgets/base",
     "model_module_version": "1.2.0",
     "model_name": "LayoutModel",
     "state": {
      "_model_module": "@jupyter-widgets/base",
      "_model_module_version": "1.2.0",
      "_model_name": "LayoutModel",
      "_view_count": null,
      "_view_module": "@jupyter-widgets/base",
      "_view_module_version": "1.2.0",
      "_view_name": "LayoutView",
      "align_content": null,
      "align_items": null,
      "align_self": null,
      "border": null,
      "bottom": null,
      "display": null,
      "flex": null,
      "flex_flow": null,
      "grid_area": null,
      "grid_auto_columns": null,
      "grid_auto_flow": null,
      "grid_auto_rows": null,
      "grid_column": null,
      "grid_gap": null,
      "grid_row": null,
      "grid_template_areas": null,
      "grid_template_columns": null,
      "grid_template_rows": null,
      "height": null,
      "justify_content": null,
      "justify_items": null,
      "left": null,
      "margin": null,
      "max_height": null,
      "max_width": null,
      "min_height": null,
      "min_width": null,
      "object_fit": null,
      "object_position": null,
      "order": null,
      "overflow": null,
      "overflow_x": null,
      "overflow_y": null,
      "padding": null,
      "right": null,
      "top": null,
      "visibility": null,
      "width": null
     }
    },
    "31fa3f5d967847798ab806693fd3e469": {
     "model_module": "@jupyter-widgets/controls",
     "model_module_version": "1.5.0",
     "model_name": "DescriptionStyleModel",
     "state": {
      "_model_module": "@jupyter-widgets/controls",
      "_model_module_version": "1.5.0",
      "_model_name": "DescriptionStyleModel",
      "_view_count": null,
      "_view_module": "@jupyter-widgets/base",
      "_view_module_version": "1.2.0",
      "_view_name": "StyleView",
      "description_width": ""
     }
    },
    "3410e4b554d24455b149601ca342315e": {
     "model_module": "@jupyter-widgets/base",
     "model_module_version": "1.2.0",
     "model_name": "LayoutModel",
     "state": {
      "_model_module": "@jupyter-widgets/base",
      "_model_module_version": "1.2.0",
      "_model_name": "LayoutModel",
      "_view_count": null,
      "_view_module": "@jupyter-widgets/base",
      "_view_module_version": "1.2.0",
      "_view_name": "LayoutView",
      "align_content": null,
      "align_items": null,
      "align_self": null,
      "border": null,
      "bottom": null,
      "display": null,
      "flex": null,
      "flex_flow": null,
      "grid_area": null,
      "grid_auto_columns": null,
      "grid_auto_flow": null,
      "grid_auto_rows": null,
      "grid_column": null,
      "grid_gap": null,
      "grid_row": null,
      "grid_template_areas": null,
      "grid_template_columns": null,
      "grid_template_rows": null,
      "height": null,
      "justify_content": null,
      "justify_items": null,
      "left": null,
      "margin": null,
      "max_height": null,
      "max_width": null,
      "min_height": null,
      "min_width": null,
      "object_fit": null,
      "object_position": null,
      "order": null,
      "overflow": null,
      "overflow_x": null,
      "overflow_y": null,
      "padding": null,
      "right": null,
      "top": null,
      "visibility": null,
      "width": null
     }
    },
    "39e0d9a3950243a89597d4d95cc7d6d4": {
     "model_module": "@jupyter-widgets/controls",
     "model_module_version": "1.5.0",
     "model_name": "ProgressStyleModel",
     "state": {
      "_model_module": "@jupyter-widgets/controls",
      "_model_module_version": "1.5.0",
      "_model_name": "ProgressStyleModel",
      "_view_count": null,
      "_view_module": "@jupyter-widgets/base",
      "_view_module_version": "1.2.0",
      "_view_name": "StyleView",
      "bar_color": null,
      "description_width": ""
     }
    },
    "4b6d150afcf6457bbf04664d0fde11fe": {
     "model_module": "@jupyter-widgets/controls",
     "model_module_version": "1.5.0",
     "model_name": "ProgressStyleModel",
     "state": {
      "_model_module": "@jupyter-widgets/controls",
      "_model_module_version": "1.5.0",
      "_model_name": "ProgressStyleModel",
      "_view_count": null,
      "_view_module": "@jupyter-widgets/base",
      "_view_module_version": "1.2.0",
      "_view_name": "StyleView",
      "bar_color": null,
      "description_width": ""
     }
    },
    "4d58ac03fc6d41da9b304f9b42c62762": {
     "model_module": "@jupyter-widgets/base",
     "model_module_version": "1.2.0",
     "model_name": "LayoutModel",
     "state": {
      "_model_module": "@jupyter-widgets/base",
      "_model_module_version": "1.2.0",
      "_model_name": "LayoutModel",
      "_view_count": null,
      "_view_module": "@jupyter-widgets/base",
      "_view_module_version": "1.2.0",
      "_view_name": "LayoutView",
      "align_content": null,
      "align_items": null,
      "align_self": null,
      "border": null,
      "bottom": null,
      "display": null,
      "flex": null,
      "flex_flow": null,
      "grid_area": null,
      "grid_auto_columns": null,
      "grid_auto_flow": null,
      "grid_auto_rows": null,
      "grid_column": null,
      "grid_gap": null,
      "grid_row": null,
      "grid_template_areas": null,
      "grid_template_columns": null,
      "grid_template_rows": null,
      "height": null,
      "justify_content": null,
      "justify_items": null,
      "left": null,
      "margin": null,
      "max_height": null,
      "max_width": null,
      "min_height": null,
      "min_width": null,
      "object_fit": null,
      "object_position": null,
      "order": null,
      "overflow": null,
      "overflow_x": null,
      "overflow_y": null,
      "padding": null,
      "right": null,
      "top": null,
      "visibility": null,
      "width": null
     }
    },
    "50258acbdbda44ae88a499e6ee2c4944": {
     "model_module": "@jupyter-widgets/controls",
     "model_module_version": "1.5.0",
     "model_name": "FloatProgressModel",
     "state": {
      "_dom_classes": [],
      "_model_module": "@jupyter-widgets/controls",
      "_model_module_version": "1.5.0",
      "_model_name": "FloatProgressModel",
      "_view_count": null,
      "_view_module": "@jupyter-widgets/controls",
      "_view_module_version": "1.5.0",
      "_view_name": "ProgressView",
      "bar_style": "success",
      "description": "",
      "description_tooltip": null,
      "layout": "IPY_MODEL_903d3fc833614e6fb5e06d3765bcd1fd",
      "max": 1106,
      "min": 0,
      "orientation": "horizontal",
      "style": "IPY_MODEL_39e0d9a3950243a89597d4d95cc7d6d4",
      "value": 1106
     }
    },
    "51de9334c97f4513b75b3629a20a36ea": {
     "model_module": "@jupyter-widgets/base",
     "model_module_version": "1.2.0",
     "model_name": "LayoutModel",
     "state": {
      "_model_module": "@jupyter-widgets/base",
      "_model_module_version": "1.2.0",
      "_model_name": "LayoutModel",
      "_view_count": null,
      "_view_module": "@jupyter-widgets/base",
      "_view_module_version": "1.2.0",
      "_view_name": "LayoutView",
      "align_content": null,
      "align_items": null,
      "align_self": null,
      "border": null,
      "bottom": null,
      "display": null,
      "flex": null,
      "flex_flow": null,
      "grid_area": null,
      "grid_auto_columns": null,
      "grid_auto_flow": null,
      "grid_auto_rows": null,
      "grid_column": null,
      "grid_gap": null,
      "grid_row": null,
      "grid_template_areas": null,
      "grid_template_columns": null,
      "grid_template_rows": null,
      "height": null,
      "justify_content": null,
      "justify_items": null,
      "left": null,
      "margin": null,
      "max_height": null,
      "max_width": null,
      "min_height": null,
      "min_width": null,
      "object_fit": null,
      "object_position": null,
      "order": null,
      "overflow": null,
      "overflow_x": null,
      "overflow_y": null,
      "padding": null,
      "right": null,
      "top": null,
      "visibility": null,
      "width": null
     }
    },
    "588ac97265894bea9498f87ff7b5d62a": {
     "model_module": "@jupyter-widgets/controls",
     "model_module_version": "1.5.0",
     "model_name": "DescriptionStyleModel",
     "state": {
      "_model_module": "@jupyter-widgets/controls",
      "_model_module_version": "1.5.0",
      "_model_name": "DescriptionStyleModel",
      "_view_count": null,
      "_view_module": "@jupyter-widgets/base",
      "_view_module_version": "1.2.0",
      "_view_name": "StyleView",
      "description_width": ""
     }
    },
    "5defbd5974844148bbd528e821037073": {
     "model_module": "@jupyter-widgets/base",
     "model_module_version": "1.2.0",
     "model_name": "LayoutModel",
     "state": {
      "_model_module": "@jupyter-widgets/base",
      "_model_module_version": "1.2.0",
      "_model_name": "LayoutModel",
      "_view_count": null,
      "_view_module": "@jupyter-widgets/base",
      "_view_module_version": "1.2.0",
      "_view_name": "LayoutView",
      "align_content": null,
      "align_items": null,
      "align_self": null,
      "border": null,
      "bottom": null,
      "display": null,
      "flex": null,
      "flex_flow": null,
      "grid_area": null,
      "grid_auto_columns": null,
      "grid_auto_flow": null,
      "grid_auto_rows": null,
      "grid_column": null,
      "grid_gap": null,
      "grid_row": null,
      "grid_template_areas": null,
      "grid_template_columns": null,
      "grid_template_rows": null,
      "height": null,
      "justify_content": null,
      "justify_items": null,
      "left": null,
      "margin": null,
      "max_height": null,
      "max_width": null,
      "min_height": null,
      "min_width": null,
      "object_fit": null,
      "object_position": null,
      "order": null,
      "overflow": null,
      "overflow_x": null,
      "overflow_y": null,
      "padding": null,
      "right": null,
      "top": null,
      "visibility": null,
      "width": null
     }
    },
    "5e456768d42b48e1b8124e655c8b0183": {
     "model_module": "@jupyter-widgets/controls",
     "model_module_version": "1.5.0",
     "model_name": "HTMLModel",
     "state": {
      "_dom_classes": [],
      "_model_module": "@jupyter-widgets/controls",
      "_model_module_version": "1.5.0",
      "_model_name": "HTMLModel",
      "_view_count": null,
      "_view_module": "@jupyter-widgets/controls",
      "_view_module_version": "1.5.0",
      "_view_name": "HTMLView",
      "description": "",
      "description_tooltip": null,
      "layout": "IPY_MODEL_b5263ac64fe7474dbee65ed118dec62d",
      "placeholder": "​",
      "style": "IPY_MODEL_31fa3f5d967847798ab806693fd3e469",
      "value": "Batches: 100%"
     }
    },
    "631d66cfc6d842349ad7bea85e10cd19": {
     "model_module": "@jupyter-widgets/controls",
     "model_module_version": "1.5.0",
     "model_name": "HTMLModel",
     "state": {
      "_dom_classes": [],
      "_model_module": "@jupyter-widgets/controls",
      "_model_module_version": "1.5.0",
      "_model_name": "HTMLModel",
      "_view_count": null,
      "_view_module": "@jupyter-widgets/controls",
      "_view_module_version": "1.5.0",
      "_view_name": "HTMLView",
      "description": "",
      "description_tooltip": null,
      "layout": "IPY_MODEL_4d58ac03fc6d41da9b304f9b42c62762",
      "placeholder": "​",
      "style": "IPY_MODEL_e8346d6c2f7f43dc89157c500ccc2275",
      "value": " 1148/1148 [01:14&lt;00:00, 49.20it/s]"
     }
    },
    "70656896cc02464294f2e20358f47da0": {
     "model_module": "@jupyter-widgets/base",
     "model_module_version": "1.2.0",
     "model_name": "LayoutModel",
     "state": {
      "_model_module": "@jupyter-widgets/base",
      "_model_module_version": "1.2.0",
      "_model_name": "LayoutModel",
      "_view_count": null,
      "_view_module": "@jupyter-widgets/base",
      "_view_module_version": "1.2.0",
      "_view_name": "LayoutView",
      "align_content": null,
      "align_items": null,
      "align_self": null,
      "border": null,
      "bottom": null,
      "display": null,
      "flex": null,
      "flex_flow": null,
      "grid_area": null,
      "grid_auto_columns": null,
      "grid_auto_flow": null,
      "grid_auto_rows": null,
      "grid_column": null,
      "grid_gap": null,
      "grid_row": null,
      "grid_template_areas": null,
      "grid_template_columns": null,
      "grid_template_rows": null,
      "height": null,
      "justify_content": null,
      "justify_items": null,
      "left": null,
      "margin": null,
      "max_height": null,
      "max_width": null,
      "min_height": null,
      "min_width": null,
      "object_fit": null,
      "object_position": null,
      "order": null,
      "overflow": null,
      "overflow_x": null,
      "overflow_y": null,
      "padding": null,
      "right": null,
      "top": null,
      "visibility": null,
      "width": null
     }
    },
    "88c6304156594bffba5b31e465f07026": {
     "model_module": "@jupyter-widgets/controls",
     "model_module_version": "1.5.0",
     "model_name": "HTMLModel",
     "state": {
      "_dom_classes": [],
      "_model_module": "@jupyter-widgets/controls",
      "_model_module_version": "1.5.0",
      "_model_name": "HTMLModel",
      "_view_count": null,
      "_view_module": "@jupyter-widgets/controls",
      "_view_module_version": "1.5.0",
      "_view_name": "HTMLView",
      "description": "",
      "description_tooltip": null,
      "layout": "IPY_MODEL_c9ae8828b5a747f8a23733257667bd93",
      "placeholder": "​",
      "style": "IPY_MODEL_05e3d687688a44f1919ec12c5b54cb70",
      "value": " 5397/5397 [05:50&lt;00:00, 60.05it/s]"
     }
    },
    "8b198b120c6c4f3cb1ed3ee747c401ad": {
     "model_module": "@jupyter-widgets/base",
     "model_module_version": "1.2.0",
     "model_name": "LayoutModel",
     "state": {
      "_model_module": "@jupyter-widgets/base",
      "_model_module_version": "1.2.0",
      "_model_name": "LayoutModel",
      "_view_count": null,
      "_view_module": "@jupyter-widgets/base",
      "_view_module_version": "1.2.0",
      "_view_name": "LayoutView",
      "align_content": null,
      "align_items": null,
      "align_self": null,
      "border": null,
      "bottom": null,
      "display": null,
      "flex": null,
      "flex_flow": null,
      "grid_area": null,
      "grid_auto_columns": null,
      "grid_auto_flow": null,
      "grid_auto_rows": null,
      "grid_column": null,
      "grid_gap": null,
      "grid_row": null,
      "grid_template_areas": null,
      "grid_template_columns": null,
      "grid_template_rows": null,
      "height": null,
      "justify_content": null,
      "justify_items": null,
      "left": null,
      "margin": null,
      "max_height": null,
      "max_width": null,
      "min_height": null,
      "min_width": null,
      "object_fit": null,
      "object_position": null,
      "order": null,
      "overflow": null,
      "overflow_x": null,
      "overflow_y": null,
      "padding": null,
      "right": null,
      "top": null,
      "visibility": null,
      "width": null
     }
    },
    "903d3fc833614e6fb5e06d3765bcd1fd": {
     "model_module": "@jupyter-widgets/base",
     "model_module_version": "1.2.0",
     "model_name": "LayoutModel",
     "state": {
      "_model_module": "@jupyter-widgets/base",
      "_model_module_version": "1.2.0",
      "_model_name": "LayoutModel",
      "_view_count": null,
      "_view_module": "@jupyter-widgets/base",
      "_view_module_version": "1.2.0",
      "_view_name": "LayoutView",
      "align_content": null,
      "align_items": null,
      "align_self": null,
      "border": null,
      "bottom": null,
      "display": null,
      "flex": null,
      "flex_flow": null,
      "grid_area": null,
      "grid_auto_columns": null,
      "grid_auto_flow": null,
      "grid_auto_rows": null,
      "grid_column": null,
      "grid_gap": null,
      "grid_row": null,
      "grid_template_areas": null,
      "grid_template_columns": null,
      "grid_template_rows": null,
      "height": null,
      "justify_content": null,
      "justify_items": null,
      "left": null,
      "margin": null,
      "max_height": null,
      "max_width": null,
      "min_height": null,
      "min_width": null,
      "object_fit": null,
      "object_position": null,
      "order": null,
      "overflow": null,
      "overflow_x": null,
      "overflow_y": null,
      "padding": null,
      "right": null,
      "top": null,
      "visibility": null,
      "width": null
     }
    },
    "91aba9fd249d4b0b9f985def8edbe764": {
     "model_module": "@jupyter-widgets/base",
     "model_module_version": "1.2.0",
     "model_name": "LayoutModel",
     "state": {
      "_model_module": "@jupyter-widgets/base",
      "_model_module_version": "1.2.0",
      "_model_name": "LayoutModel",
      "_view_count": null,
      "_view_module": "@jupyter-widgets/base",
      "_view_module_version": "1.2.0",
      "_view_name": "LayoutView",
      "align_content": null,
      "align_items": null,
      "align_self": null,
      "border": null,
      "bottom": null,
      "display": null,
      "flex": null,
      "flex_flow": null,
      "grid_area": null,
      "grid_auto_columns": null,
      "grid_auto_flow": null,
      "grid_auto_rows": null,
      "grid_column": null,
      "grid_gap": null,
      "grid_row": null,
      "grid_template_areas": null,
      "grid_template_columns": null,
      "grid_template_rows": null,
      "height": null,
      "justify_content": null,
      "justify_items": null,
      "left": null,
      "margin": null,
      "max_height": null,
      "max_width": null,
      "min_height": null,
      "min_width": null,
      "object_fit": null,
      "object_position": null,
      "order": null,
      "overflow": null,
      "overflow_x": null,
      "overflow_y": null,
      "padding": null,
      "right": null,
      "top": null,
      "visibility": null,
      "width": null
     }
    },
    "98ce93916358447b8453a15f9fae49fe": {
     "model_module": "@jupyter-widgets/controls",
     "model_module_version": "1.5.0",
     "model_name": "HTMLModel",
     "state": {
      "_dom_classes": [],
      "_model_module": "@jupyter-widgets/controls",
      "_model_module_version": "1.5.0",
      "_model_name": "HTMLModel",
      "_view_count": null,
      "_view_module": "@jupyter-widgets/controls",
      "_view_module_version": "1.5.0",
      "_view_name": "HTMLView",
      "description": "",
      "description_tooltip": null,
      "layout": "IPY_MODEL_70656896cc02464294f2e20358f47da0",
      "placeholder": "​",
      "style": "IPY_MODEL_588ac97265894bea9498f87ff7b5d62a",
      "value": "Batches: 100%"
     }
    },
    "ac8313b3be5244b797a9a9cecc24eaa3": {
     "model_module": "@jupyter-widgets/controls",
     "model_module_version": "1.5.0",
     "model_name": "HBoxModel",
     "state": {
      "_dom_classes": [],
      "_model_module": "@jupyter-widgets/controls",
      "_model_module_version": "1.5.0",
      "_model_name": "HBoxModel",
      "_view_count": null,
      "_view_module": "@jupyter-widgets/controls",
      "_view_module_version": "1.5.0",
      "_view_name": "HBoxView",
      "box_style": "",
      "children": [
       "IPY_MODEL_5e456768d42b48e1b8124e655c8b0183",
       "IPY_MODEL_50258acbdbda44ae88a499e6ee2c4944",
       "IPY_MODEL_edfd4d4af5aa404f8b609db5aa359065"
      ],
      "layout": "IPY_MODEL_8b198b120c6c4f3cb1ed3ee747c401ad"
     }
    },
    "b4d7b3b0396e4510b3dac023bd664a85": {
     "model_module": "@jupyter-widgets/controls",
     "model_module_version": "1.5.0",
     "model_name": "DescriptionStyleModel",
     "state": {
      "_model_module": "@jupyter-widgets/controls",
      "_model_module_version": "1.5.0",
      "_model_name": "DescriptionStyleModel",
      "_view_count": null,
      "_view_module": "@jupyter-widgets/base",
      "_view_module_version": "1.2.0",
      "_view_name": "StyleView",
      "description_width": ""
     }
    },
    "b5263ac64fe7474dbee65ed118dec62d": {
     "model_module": "@jupyter-widgets/base",
     "model_module_version": "1.2.0",
     "model_name": "LayoutModel",
     "state": {
      "_model_module": "@jupyter-widgets/base",
      "_model_module_version": "1.2.0",
      "_model_name": "LayoutModel",
      "_view_count": null,
      "_view_module": "@jupyter-widgets/base",
      "_view_module_version": "1.2.0",
      "_view_name": "LayoutView",
      "align_content": null,
      "align_items": null,
      "align_self": null,
      "border": null,
      "bottom": null,
      "display": null,
      "flex": null,
      "flex_flow": null,
      "grid_area": null,
      "grid_auto_columns": null,
      "grid_auto_flow": null,
      "grid_auto_rows": null,
      "grid_column": null,
      "grid_gap": null,
      "grid_row": null,
      "grid_template_areas": null,
      "grid_template_columns": null,
      "grid_template_rows": null,
      "height": null,
      "justify_content": null,
      "justify_items": null,
      "left": null,
      "margin": null,
      "max_height": null,
      "max_width": null,
      "min_height": null,
      "min_width": null,
      "object_fit": null,
      "object_position": null,
      "order": null,
      "overflow": null,
      "overflow_x": null,
      "overflow_y": null,
      "padding": null,
      "right": null,
      "top": null,
      "visibility": null,
      "width": null
     }
    },
    "c9ae8828b5a747f8a23733257667bd93": {
     "model_module": "@jupyter-widgets/base",
     "model_module_version": "1.2.0",
     "model_name": "LayoutModel",
     "state": {
      "_model_module": "@jupyter-widgets/base",
      "_model_module_version": "1.2.0",
      "_model_name": "LayoutModel",
      "_view_count": null,
      "_view_module": "@jupyter-widgets/base",
      "_view_module_version": "1.2.0",
      "_view_name": "LayoutView",
      "align_content": null,
      "align_items": null,
      "align_self": null,
      "border": null,
      "bottom": null,
      "display": null,
      "flex": null,
      "flex_flow": null,
      "grid_area": null,
      "grid_auto_columns": null,
      "grid_auto_flow": null,
      "grid_auto_rows": null,
      "grid_column": null,
      "grid_gap": null,
      "grid_row": null,
      "grid_template_areas": null,
      "grid_template_columns": null,
      "grid_template_rows": null,
      "height": null,
      "justify_content": null,
      "justify_items": null,
      "left": null,
      "margin": null,
      "max_height": null,
      "max_width": null,
      "min_height": null,
      "min_width": null,
      "object_fit": null,
      "object_position": null,
      "order": null,
      "overflow": null,
      "overflow_x": null,
      "overflow_y": null,
      "padding": null,
      "right": null,
      "top": null,
      "visibility": null,
      "width": null
     }
    },
    "cc3ee2d0de9b4f8794e3a39cd51b6396": {
     "model_module": "@jupyter-widgets/controls",
     "model_module_version": "1.5.0",
     "model_name": "HBoxModel",
     "state": {
      "_dom_classes": [],
      "_model_module": "@jupyter-widgets/controls",
      "_model_module_version": "1.5.0",
      "_model_name": "HBoxModel",
      "_view_count": null,
      "_view_module": "@jupyter-widgets/controls",
      "_view_module_version": "1.5.0",
      "_view_name": "HBoxView",
      "box_style": "",
      "children": [
       "IPY_MODEL_98ce93916358447b8453a15f9fae49fe",
       "IPY_MODEL_f8f8002a4c5d468c8f70f8795ad76fa2",
       "IPY_MODEL_631d66cfc6d842349ad7bea85e10cd19"
      ],
      "layout": "IPY_MODEL_24dd70c0e1de4b158a7b59497555ae0b"
     }
    },
    "d9cdaa0b640a405fbc0d6189f465f019": {
     "model_module": "@jupyter-widgets/controls",
     "model_module_version": "1.5.0",
     "model_name": "HBoxModel",
     "state": {
      "_dom_classes": [],
      "_model_module": "@jupyter-widgets/controls",
      "_model_module_version": "1.5.0",
      "_model_name": "HBoxModel",
      "_view_count": null,
      "_view_module": "@jupyter-widgets/controls",
      "_view_module_version": "1.5.0",
      "_view_name": "HBoxView",
      "box_style": "",
      "children": [
       "IPY_MODEL_14ad3cc569664a4e854457fbf0fb6dbf",
       "IPY_MODEL_db1ccc0b04de4e019c75f53721a458db",
       "IPY_MODEL_88c6304156594bffba5b31e465f07026"
      ],
      "layout": "IPY_MODEL_91aba9fd249d4b0b9f985def8edbe764"
     }
    },
    "db1ccc0b04de4e019c75f53721a458db": {
     "model_module": "@jupyter-widgets/controls",
     "model_module_version": "1.5.0",
     "model_name": "FloatProgressModel",
     "state": {
      "_dom_classes": [],
      "_model_module": "@jupyter-widgets/controls",
      "_model_module_version": "1.5.0",
      "_model_name": "FloatProgressModel",
      "_view_count": null,
      "_view_module": "@jupyter-widgets/controls",
      "_view_module_version": "1.5.0",
      "_view_name": "ProgressView",
      "bar_style": "success",
      "description": "",
      "description_tooltip": null,
      "layout": "IPY_MODEL_3410e4b554d24455b149601ca342315e",
      "max": 5397,
      "min": 0,
      "orientation": "horizontal",
      "style": "IPY_MODEL_f0decc0c82c2492b86caf70a42bd3fef",
      "value": 5397
     }
    },
    "e6f5a59623de4f4990ae010d481c98ba": {
     "model_module": "@jupyter-widgets/base",
     "model_module_version": "1.2.0",
     "model_name": "LayoutModel",
     "state": {
      "_model_module": "@jupyter-widgets/base",
      "_model_module_version": "1.2.0",
      "_model_name": "LayoutModel",
      "_view_count": null,
      "_view_module": "@jupyter-widgets/base",
      "_view_module_version": "1.2.0",
      "_view_name": "LayoutView",
      "align_content": null,
      "align_items": null,
      "align_self": null,
      "border": null,
      "bottom": null,
      "display": null,
      "flex": null,
      "flex_flow": null,
      "grid_area": null,
      "grid_auto_columns": null,
      "grid_auto_flow": null,
      "grid_auto_rows": null,
      "grid_column": null,
      "grid_gap": null,
      "grid_row": null,
      "grid_template_areas": null,
      "grid_template_columns": null,
      "grid_template_rows": null,
      "height": null,
      "justify_content": null,
      "justify_items": null,
      "left": null,
      "margin": null,
      "max_height": null,
      "max_width": null,
      "min_height": null,
      "min_width": null,
      "object_fit": null,
      "object_position": null,
      "order": null,
      "overflow": null,
      "overflow_x": null,
      "overflow_y": null,
      "padding": null,
      "right": null,
      "top": null,
      "visibility": null,
      "width": null
     }
    },
    "e8346d6c2f7f43dc89157c500ccc2275": {
     "model_module": "@jupyter-widgets/controls",
     "model_module_version": "1.5.0",
     "model_name": "DescriptionStyleModel",
     "state": {
      "_model_module": "@jupyter-widgets/controls",
      "_model_module_version": "1.5.0",
      "_model_name": "DescriptionStyleModel",
      "_view_count": null,
      "_view_module": "@jupyter-widgets/base",
      "_view_module_version": "1.2.0",
      "_view_name": "StyleView",
      "description_width": ""
     }
    },
    "edfd4d4af5aa404f8b609db5aa359065": {
     "model_module": "@jupyter-widgets/controls",
     "model_module_version": "1.5.0",
     "model_name": "HTMLModel",
     "state": {
      "_dom_classes": [],
      "_model_module": "@jupyter-widgets/controls",
      "_model_module_version": "1.5.0",
      "_model_name": "HTMLModel",
      "_view_count": null,
      "_view_module": "@jupyter-widgets/controls",
      "_view_module_version": "1.5.0",
      "_view_name": "HTMLView",
      "description": "",
      "description_tooltip": null,
      "layout": "IPY_MODEL_5defbd5974844148bbd528e821037073",
      "placeholder": "​",
      "style": "IPY_MODEL_b4d7b3b0396e4510b3dac023bd664a85",
      "value": " 1106/1106 [01:10&lt;00:00, 51.60it/s]"
     }
    },
    "f0decc0c82c2492b86caf70a42bd3fef": {
     "model_module": "@jupyter-widgets/controls",
     "model_module_version": "1.5.0",
     "model_name": "ProgressStyleModel",
     "state": {
      "_model_module": "@jupyter-widgets/controls",
      "_model_module_version": "1.5.0",
      "_model_name": "ProgressStyleModel",
      "_view_count": null,
      "_view_module": "@jupyter-widgets/base",
      "_view_module_version": "1.2.0",
      "_view_name": "StyleView",
      "bar_color": null,
      "description_width": ""
     }
    },
    "f8f8002a4c5d468c8f70f8795ad76fa2": {
     "model_module": "@jupyter-widgets/controls",
     "model_module_version": "1.5.0",
     "model_name": "FloatProgressModel",
     "state": {
      "_dom_classes": [],
      "_model_module": "@jupyter-widgets/controls",
      "_model_module_version": "1.5.0",
      "_model_name": "FloatProgressModel",
      "_view_count": null,
      "_view_module": "@jupyter-widgets/controls",
      "_view_module_version": "1.5.0",
      "_view_name": "ProgressView",
      "bar_style": "success",
      "description": "",
      "description_tooltip": null,
      "layout": "IPY_MODEL_51de9334c97f4513b75b3629a20a36ea",
      "max": 1148,
      "min": 0,
      "orientation": "horizontal",
      "style": "IPY_MODEL_4b6d150afcf6457bbf04664d0fde11fe",
      "value": 1148
     }
    }
   }
  }
 },
 "nbformat": 4,
 "nbformat_minor": 4
}
