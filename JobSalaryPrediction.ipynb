{
 "cells": [
  {
   "cell_type": "markdown",
   "metadata": {
    "id": "uSFak2UyhQBj"
   },
   "source": [
    "## Imports"
   ]
  },
  {
   "cell_type": "code",
   "execution_count": 2,
   "metadata": {
    "colab": {
     "base_uri": "https://localhost:8080/"
    },
    "id": "nI-INK1EJJw-",
    "outputId": "fcc642fc-af9a-49d3-ad85-fdaeb0bd6d08",
    "tags": []
   },
   "outputs": [
    {
     "name": "stderr",
     "output_type": "stream",
     "text": [
      "[nltk_data] Downloading package punkt_tab to\n",
      "[nltk_data]     /home/jupyter/nltk_data...\n",
      "[nltk_data]   Package punkt_tab is already up-to-date!\n",
      "[nltk_data] Downloading package stopwords to\n",
      "[nltk_data]     /home/jupyter/nltk_data...\n",
      "[nltk_data]   Package stopwords is already up-to-date!\n"
     ]
    },
    {
     "data": {
      "text/plain": [
       "True"
      ]
     },
     "execution_count": 2,
     "metadata": {},
     "output_type": "execute_result"
    }
   ],
   "source": [
    "import nltk\n",
    "nltk.download('punkt_tab')\n",
    "nltk.download('stopwords')"
   ]
  },
  {
   "cell_type": "code",
   "execution_count": 31,
   "metadata": {
    "id": "sgsHqpbefmZA",
    "tags": []
   },
   "outputs": [],
   "source": [
    "import pandas as pd\n",
    "import numpy as np\n",
    "import matplotlib.pyplot as plt\n",
    "import seaborn as sns\n",
    "import torch\n",
    "\n",
    "import string\n",
    "from nltk.corpus import stopwords\n",
    "from nltk.tokenize import word_tokenize\n",
    "from nltk.probability import FreqDist\n",
    "from torch.nn.utils.rnn import pad_sequence\n",
    "\n",
    "from sklearn.preprocessing import LabelEncoder\n",
    "from torch.utils.data import Dataset, DataLoader\n",
    "from sklearn.preprocessing import StandardScaler, OneHotEncoder\n",
    "from sklearn.compose import ColumnTransformer\n",
    "from sklearn.pipeline import Pipeline\n",
    "from sklearn.impute import SimpleImputer\n",
    "from datetime import datetime\n",
    "from torch.utils.tensorboard import SummaryWriter\n",
    "import torch.nn as nn\n",
    "import torch.nn.functional as F\n",
    "from sklearn.metrics import mean_squared_error, r2_score, mean_absolute_error\n",
    "import torch.optim as optim\n",
    "from torch.optim.lr_scheduler import ReduceLROnPlateau\n",
    "import os\n",
    "import random"
   ]
  },
  {
   "cell_type": "code",
   "execution_count": 4,
   "metadata": {
    "colab": {
     "base_uri": "https://localhost:8080/"
    },
    "id": "52tvKCfage66",
    "outputId": "00a3c12a-d886-4d6a-a3d3-d01bd4957bc7",
    "tags": []
   },
   "outputs": [],
   "source": [
    "data_path = '/home/jupyter/SalaryPrediction/Data/'\n",
    "\n",
    "train_path = data_path + 'train_clean_with_text.csv'\n",
    "val_path = data_path + 'val_clean_with_text.csv'\n",
    "test_path = data_path + 'test_clean_with_text.csv'"
   ]
  },
  {
   "cell_type": "code",
   "execution_count": 5,
   "metadata": {
    "colab": {
     "base_uri": "https://localhost:8080/"
    },
    "id": "TDO5jHid25fG",
    "outputId": "53e1b274-2c22-4b45-fec3-50d5fc69619f",
    "tags": []
   },
   "outputs": [
    {
     "name": "stdout",
     "output_type": "stream",
     "text": [
      "cuda\n"
     ]
    }
   ],
   "source": [
    "device = torch.device(\"cuda\" if torch.cuda.is_available() else \"cpu\")\n",
    "print(device)"
   ]
  },
  {
   "cell_type": "markdown",
   "metadata": {
    "id": "mlutQW5SZZd3"
   },
   "source": [
    "## Fixing seeds"
   ]
  },
  {
   "cell_type": "code",
   "execution_count": 6,
   "metadata": {
    "id": "83llIoZeWuky",
    "tags": []
   },
   "outputs": [],
   "source": [
    "def set_seed(seed=42):\n",
    "    os.environ[\"PYTHONHASHSEED\"] = str(seed) #const hash for python\n",
    "    random.seed(seed)\n",
    "    np.random.seed(seed)\n",
    "    torch.manual_seed(seed)\n",
    "    torch.backends.cudnn.deterministic = True\n",
    "    torch.backends.cudnn.benchmark = False"
   ]
  },
  {
   "cell_type": "markdown",
   "metadata": {
    "id": "c_bu4IZghUHZ"
   },
   "source": [
    "## Data reading"
   ]
  },
  {
   "cell_type": "code",
   "execution_count": 8,
   "metadata": {
    "id": "TUAwuXHff8Qk",
    "tags": []
   },
   "outputs": [],
   "source": [
    "df_train = pd.read_csv(train_path)\n",
    "df_val = pd.read_csv(val_path)\n",
    "df_test = pd.read_csv(test_path)"
   ]
  },
  {
   "cell_type": "code",
   "execution_count": 9,
   "metadata": {
    "colab": {
     "base_uri": "https://localhost:8080/",
     "height": 394
    },
    "id": "YlDUWtmfhBKd",
    "outputId": "4de8a569-bf69-4b93-caa9-e434ac831508",
    "tags": []
   },
   "outputs": [
    {
     "data": {
      "text/html": [
       "<div>\n",
       "<style scoped>\n",
       "    .dataframe tbody tr th:only-of-type {\n",
       "        vertical-align: middle;\n",
       "    }\n",
       "\n",
       "    .dataframe tbody tr th {\n",
       "        vertical-align: top;\n",
       "    }\n",
       "\n",
       "    .dataframe thead th {\n",
       "        text-align: right;\n",
       "    }\n",
       "</style>\n",
       "<table border=\"1\" class=\"dataframe\">\n",
       "  <thead>\n",
       "    <tr style=\"text-align: right;\">\n",
       "      <th></th>\n",
       "      <th>FullDescription</th>\n",
       "      <th>LocationNormalized</th>\n",
       "      <th>ContractType</th>\n",
       "      <th>ContractTime</th>\n",
       "      <th>Company</th>\n",
       "      <th>Category</th>\n",
       "      <th>SalaryNormalized</th>\n",
       "    </tr>\n",
       "  </thead>\n",
       "  <tbody>\n",
       "    <tr>\n",
       "      <th>0</th>\n",
       "      <td>The Litigation team at this well regarded Comm...</td>\n",
       "      <td>london</td>\n",
       "      <td>full_time</td>\n",
       "      <td>permanent</td>\n",
       "      <td>Other</td>\n",
       "      <td>Legal Jobs</td>\n",
       "      <td>100000</td>\n",
       "    </tr>\n",
       "    <tr>\n",
       "      <th>1</th>\n",
       "      <td>Endoscopy Staff Nurse NHS  London ****  **** H...</td>\n",
       "      <td>thecity</td>\n",
       "      <td>full_time</td>\n",
       "      <td>permanent</td>\n",
       "      <td>ukstaffsearch</td>\n",
       "      <td>Other/General Jobs</td>\n",
       "      <td>29284</td>\n",
       "    </tr>\n",
       "    <tr>\n",
       "      <th>2</th>\n",
       "      <td>An experienced Operations Director is required...</td>\n",
       "      <td>letchworthgardencity</td>\n",
       "      <td>full_time</td>\n",
       "      <td>permanent</td>\n",
       "      <td>ukstaffsearch</td>\n",
       "      <td>Consultancy Jobs</td>\n",
       "      <td>97500</td>\n",
       "    </tr>\n",
       "    <tr>\n",
       "      <th>3</th>\n",
       "      <td>The Danny Sullivan Group is looking for a Site...</td>\n",
       "      <td>dudley</td>\n",
       "      <td>full_time</td>\n",
       "      <td>permanent</td>\n",
       "      <td>cvbrowser</td>\n",
       "      <td>Engineering Jobs</td>\n",
       "      <td>34320</td>\n",
       "    </tr>\n",
       "    <tr>\n",
       "      <th>4</th>\n",
       "      <td>A promising opportunity for an exceptional man...</td>\n",
       "      <td>kent</td>\n",
       "      <td>full_time</td>\n",
       "      <td>permanent</td>\n",
       "      <td>Other</td>\n",
       "      <td>Accounting &amp; Finance Jobs</td>\n",
       "      <td>37500</td>\n",
       "    </tr>\n",
       "  </tbody>\n",
       "</table>\n",
       "</div>"
      ],
      "text/plain": [
       "                                     FullDescription    LocationNormalized  \\\n",
       "0  The Litigation team at this well regarded Comm...                london   \n",
       "1  Endoscopy Staff Nurse NHS  London ****  **** H...               thecity   \n",
       "2  An experienced Operations Director is required...  letchworthgardencity   \n",
       "3  The Danny Sullivan Group is looking for a Site...                dudley   \n",
       "4  A promising opportunity for an exceptional man...                  kent   \n",
       "\n",
       "  ContractType ContractTime        Company                   Category  \\\n",
       "0    full_time    permanent          Other                 Legal Jobs   \n",
       "1    full_time    permanent  ukstaffsearch         Other/General Jobs   \n",
       "2    full_time    permanent  ukstaffsearch           Consultancy Jobs   \n",
       "3    full_time    permanent      cvbrowser           Engineering Jobs   \n",
       "4    full_time    permanent          Other  Accounting & Finance Jobs   \n",
       "\n",
       "   SalaryNormalized  \n",
       "0            100000  \n",
       "1             29284  \n",
       "2             97500  \n",
       "3             34320  \n",
       "4             37500  "
      ]
     },
     "execution_count": 9,
     "metadata": {},
     "output_type": "execute_result"
    }
   ],
   "source": [
    "df_train.head()"
   ]
  },
  {
   "cell_type": "markdown",
   "metadata": {
    "id": "xsUhoAEYGtUN"
   },
   "source": [
    "## Data cleaning"
   ]
  },
  {
   "cell_type": "markdown",
   "metadata": {
    "id": "yAWatT2Ohgp-"
   },
   "source": [
    "#### Spliting dataset"
   ]
  },
  {
   "cell_type": "code",
   "execution_count": 10,
   "metadata": {
    "id": "rahBPQr0jT1T",
    "tags": []
   },
   "outputs": [],
   "source": [
    "X_train = df_train.drop('SalaryNormalized', axis=1)\n",
    "y_train = df_train['SalaryNormalized']\n",
    "\n",
    "X_val = df_val.drop('SalaryNormalized', axis=1)\n",
    "y_val = df_val['SalaryNormalized']\n",
    "\n",
    "X_test = df_test.drop('SalaryNormalized', axis=1)\n",
    "y_test = df_test['SalaryNormalized']"
   ]
  },
  {
   "cell_type": "code",
   "execution_count": 11,
   "metadata": {
    "colab": {
     "base_uri": "https://localhost:8080/"
    },
    "id": "XIX5rQC7Jsx8",
    "outputId": "1aa8fe7d-08c6-466f-aee9-3b98ac13dd46",
    "tags": []
   },
   "outputs": [
    {
     "data": {
      "text/plain": [
       "(172683, 6)"
      ]
     },
     "execution_count": 11,
     "metadata": {},
     "output_type": "execute_result"
    }
   ],
   "source": [
    "X_train.shape"
   ]
  },
  {
   "cell_type": "markdown",
   "metadata": {
    "id": "Z1MNkf-9h2ai"
   },
   "source": [
    "#### Log transformation"
   ]
  },
  {
   "cell_type": "code",
   "execution_count": 12,
   "metadata": {
    "colab": {
     "base_uri": "https://localhost:8080/",
     "height": 54
    },
    "id": "a20y1ptjQojw",
    "outputId": "a88a33ec-10f7-450b-abb2-feed958cf299",
    "tags": []
   },
   "outputs": [
    {
     "data": {
      "image/png": "[encoded data removed]",
      "text/plain": [
       "<Figure size 640x480 with 1 Axes>"
      ]
     },
     "metadata": {},
     "output_type": "display_data"
    }
   ],
   "source": [
    "sns.histplot(y_train, bins=50, kde=True)\n",
    "plt.title('Distribution of SalaryNormalized')\n",
    "plt.xlabel('SalaryNormalized')\n",
    "plt.ylabel('Frequency')\n",
    "plt.show()"
   ]
  },
  {
   "cell_type": "code",
   "execution_count": 13,
   "metadata": {
    "id": "zEwZKOyyRNKE",
    "tags": []
   },
   "outputs": [],
   "source": [
    "y_train = np.log1p(y_train)\n",
    "y_val = np.log1p(y_val)\n",
    "y_test = np.log1p(y_test)"
   ]
  },
  {
   "cell_type": "code",
   "execution_count": 14,
   "metadata": {
    "colab": {
     "base_uri": "https://localhost:8080/",
     "height": 54
    },
    "id": "WLFPEAWJRRIc",
    "outputId": "5dab4b43-d7f9-4551-90fd-7fa3cc8aa95b",
    "tags": []
   },
   "outputs": [
    {
     "data": {
      "image/png": "[encoded data removed]",
      "text/plain": [
       "<Figure size 640x480 with 1 Axes>"
      ]
     },
     "metadata": {},
     "output_type": "display_data"
    }
   ],
   "source": [
    "sns.histplot(y_train, bins=50, kde=True)\n",
    "plt.title('Distribution of SalaryNormalized')\n",
    "plt.xlabel('SalaryNormalized')\n",
    "plt.ylabel('Frequency')\n",
    "plt.show()"
   ]
  },
  {
   "cell_type": "markdown",
   "metadata": {
    "id": "kVk25khvG5tC"
   },
   "source": [
    "#### Tokenization"
   ]
  },
  {
   "cell_type": "code",
   "execution_count": 15,
   "metadata": {
    "colab": {
     "base_uri": "https://localhost:8080/",
     "height": 190
    },
    "id": "jkluIVSUG8nj",
    "outputId": "051ff0bd-63f9-4b00-a1dc-db3bed298cba",
    "tags": []
   },
   "outputs": [
    {
     "name": "stdout",
     "output_type": "stream",
     "text": [
      "Original Description: \n",
      "The Litigation team at this well regarded Commercial firm has an opportunity for an intelligent and personable Senior Associate (5 years’ PQE) to handle an interesting spread of commercial and financial litigation. The successful candidate will ideally have experience in financial/banking litigation as well as general commercial litigation, be accustomed to handling their own cases and managing a team. He or she will also be adept at maintaining and developing client relations. The candidate will also have experience of working with clients and lawyers in jurisdictions outside the UK. You will currently be working as a Commercial Litigator at a firm well regarded for the work it does in Commercial Litigation. They will also consider barristers who have undertaken predominantly Commercial Litigation matters and currently hold tenancy with a strong London set.\n",
      "\n",
      "Tokenized Description: \n",
      "['Litigation', 'team', 'well', 'regarded', 'Commercial', 'firm', 'opportunity', 'intelligent', 'personable', 'Senior', 'Associate', '5', 'years', '’', 'PQE', 'handle', 'interesting', 'spread', 'commercial', 'financial', 'litigation', 'successful', 'candidate', 'ideally', 'experience', 'financialbanking', 'litigation', 'well', 'general', 'commercial', 'litigation', 'accustomed', 'handling', 'cases', 'managing', 'team', 'also', 'adept', 'maintaining', 'developing', 'client', 'relations', 'candidate', 'also', 'experience', 'working', 'clients', 'lawyers', 'jurisdictions', 'outside', 'UK', 'currently', 'working', 'Commercial', 'Litigator', 'firm', 'well', 'regarded', 'work', 'Commercial', 'Litigation', 'also', 'consider', 'barristers', 'undertaken', 'predominantly', 'Commercial', 'Litigation', 'matters', 'currently', 'hold', 'tenancy', 'strong', 'London', 'set']\n",
      "\n",
      "Five Most Common Words and Their Frequencies:\n",
      "[('within', 16), ('skills', 14), ('business', 13), ('experience', 12), ('requirements', 10)]\n"
     ]
    },
    {
     "data": {
      "image/png": "[encoded data removed]",
      "text/plain": [
       "<Figure size 640x480 with 1 Axes>"
      ]
     },
     "metadata": {},
     "output_type": "display_data"
    }
   ],
   "source": [
    "descriptions_tokens = []\n",
    "stop_words = set(stopwords.words(\"english\"))\n",
    "\n",
    "X_train_copy = X_train.copy()[:10]\n",
    "\n",
    "for description in X_train_copy['FullDescription']:\n",
    "    description = description.translate(str.maketrans('', '', string.punctuation))\n",
    "    word_tokens = word_tokenize(description)\n",
    "    filtered = [word for word in word_tokens if word.lower() not in stop_words]\n",
    "    descriptions_tokens.append(filtered)\n",
    "\n",
    "X_train_copy['Token_Description'] = descriptions_tokens\n",
    "print('Original Description: \\n' + X_train_copy.loc[0, 'FullDescription'])\n",
    "print('\\nTokenized Description: ')\n",
    "print(X_train_copy.loc[0, 'Token_Description'])\n",
    "\n",
    "fdist = FreqDist()\n",
    "\n",
    "for token_des in X_train_copy['Token_Description']:\n",
    "    for word in token_des:\n",
    "        fdist[word.lower()] += 1\n",
    "\n",
    "print('\\nFive Most Common Words and Their Frequencies:')\n",
    "print(fdist.most_common(5))\n",
    "fdist.plot(20, title = 'Frequency of Top 20 Words in Five Description')\n",
    "plt.show()"
   ]
  },
  {
   "cell_type": "code",
   "execution_count": 16,
   "metadata": {
    "id": "DvTdgpzvSCam",
    "tags": []
   },
   "outputs": [],
   "source": [
    "stop_words = set(stopwords.words(\"english\"))\n",
    "\n",
    "#'The white flower.'\n",
    "def tokenize_description(text):\n",
    "    text = text.translate(str.maketrans('', '', string.punctuation)) #'The white flower'\n",
    "    tokens = word_tokenize(text) #['The', 'white', 'flower']\n",
    "    filtered = [word.lower() for word in tokens if word.lower() not in stop_words] #['white', 'flower']\n",
    "    return filtered\n",
    "\n",
    "def build_vocab(token_lists, min_freq=5):\n",
    "    word2idx = {'<PAD>': 0, '<UNK>': 1}\n",
    "    freq = {}\n",
    "\n",
    "    for tokens in token_lists:\n",
    "        for word in tokens:\n",
    "            freq[word] = freq.get(word, 0) + 1\n",
    "            if freq[word] == min_freq:\n",
    "                word2idx[word] = len(word2idx)\n",
    "\n",
    "    return word2idx #word2idx = {'<PAD>':0, '<UNK>':1, 'white':2, 'flower':3}\n",
    "\n",
    "\n",
    "def tokens_to_indices(tokens, word2idx):\n",
    "    return [word2idx.get(word, word2idx['<UNK>']) for word in tokens]\n",
    "#tokens=['white', 'flower', 'dog']\n",
    "#word2idx = {'<PAD>':0, '<UNK>':1, 'white':2, 'flower':3}\n",
    "#output = [2, 3, 1]"
   ]
  },
  {
   "cell_type": "code",
   "execution_count": 17,
   "metadata": {
    "colab": {
     "background_save": true
    },
    "id": "cg2uJatsTzIT",
    "tags": []
   },
   "outputs": [],
   "source": [
    "X_train['Token_Description'] = X_train['FullDescription'].apply(tokenize_description)\n",
    "X_val['Token_Description'] = X_val['FullDescription'].apply(tokenize_description)\n",
    "X_test['Token_Description'] = X_test['FullDescription'].apply(tokenize_description)\n",
    "\n",
    "word2idx = build_vocab(X_train['Token_Description'])\n",
    "\n",
    "train_seqs = [torch.tensor(tokens_to_indices(t, word2idx)) for t in X_train['Token_Description']]\n",
    "val_seqs = [torch.tensor(tokens_to_indices(t, word2idx)) for t in X_val['Token_Description']]\n",
    "test_seqs = [torch.tensor(tokens_to_indices(t, word2idx)) for t in X_test['Token_Description']]\n",
    "\n",
    "#Before: [[2,1], [5], [2, 3, 4]]\n",
    "train_seqs = pad_sequence(train_seqs, batch_first=True)\n",
    "val_seqs = pad_sequence(val_seqs, batch_first=True)\n",
    "test_seqs = pad_sequence(test_seqs, batch_first=True)\n",
    "#After: [[2, 1, 0], [5, 0, 0], [2, 3, 4]]\n",
    "\n",
    "vocab_size = len(word2idx)"
   ]
  },
  {
   "cell_type": "markdown",
   "metadata": {
    "id": "LpeB3Hi2QAf_"
   },
   "source": [
    "#### Label encoding"
   ]
  },
  {
   "cell_type": "code",
   "execution_count": 18,
   "metadata": {
    "colab": {
     "background_save": true
    },
    "id": "tNlt08_-Rci9",
    "tags": []
   },
   "outputs": [],
   "source": [
    "encoders = {}\n",
    "X_train_encoded = X_train.copy()\n",
    "X_val_encoded = X_val.copy()\n",
    "X_test_encoded = X_test.copy()\n",
    "\n",
    "for col in X_train.columns:\n",
    "    if col != 'FullDescription' and col != 'Token_Description':\n",
    "        le = LabelEncoder()\n",
    "        X_train_encoded[col] = le.fit_transform(X_train[col])\n",
    "        X_val_encoded[col] = le.transform(X_val[col])\n",
    "        X_test_encoded[col] = le.transform(X_test[col])\n",
    "        encoders[col] = le"
   ]
  },
  {
   "cell_type": "code",
   "execution_count": 19,
   "metadata": {
    "colab": {
     "background_save": true
    },
    "id": "fe6g4D71QUq3",
    "outputId": "c91ea02b-f913-4dbb-c40f-f8314361ccf5",
    "tags": []
   },
   "outputs": [
    {
     "name": "stdout",
     "output_type": "stream",
     "text": [
      "(172683, 7) (35369, 7) (36716, 7)\n"
     ]
    }
   ],
   "source": [
    "print(X_train.shape, X_val.shape, X_test.shape)"
   ]
  },
  {
   "cell_type": "code",
   "execution_count": 20,
   "metadata": {
    "colab": {
     "background_save": true
    },
    "id": "orI-hSbfWSTu",
    "tags": []
   },
   "outputs": [],
   "source": [
    "X_train_encoded.drop(['FullDescription'], axis=1, inplace=True)\n",
    "X_val_encoded.drop(['FullDescription'], axis=1, inplace=True)\n",
    "X_test_encoded.drop(['FullDescription'], axis=1, inplace=True)"
   ]
  },
  {
   "cell_type": "markdown",
   "metadata": {
    "id": "7hTrC0DeQnIV"
   },
   "source": [
    "#### Embedding"
   ]
  },
  {
   "cell_type": "code",
   "execution_count": 21,
   "metadata": {
    "colab": {
     "background_save": true
    },
    "id": "TFb2lBO5RFcZ",
    "tags": []
   },
   "outputs": [],
   "source": [
    "embedding_sizes = []\n",
    "\n",
    "for col in X_train_encoded.columns:\n",
    "    if col == \"Token_Description\":\n",
    "        continue\n",
    "    num_categories = len(encoders[col].classes_) #num of unique values\n",
    "    emb_dim = min(5, (num_categories + 1) // 4)\n",
    "    embedding_sizes.append((num_categories, emb_dim))"
   ]
  },
  {
   "cell_type": "markdown",
   "metadata": {
    "id": "cXmpQDo6h_mx"
   },
   "source": [
    "#### Architecture"
   ]
  },
  {
   "cell_type": "code",
   "execution_count": 22,
   "metadata": {
    "colab": {
     "background_save": true
    },
    "id": "DTwMcL1jhnyY",
    "tags": []
   },
   "outputs": [],
   "source": [
    "class SalaryDataset(Dataset):\n",
    "    def __init__(self, X, y, word2idx):\n",
    "        self.y = torch.tensor(y.values, dtype=torch.float32).unsqueeze(1)\n",
    "        self.cat_data = torch.tensor(X.drop(columns=[\"Token_Description\"]).values, dtype=torch.long)\n",
    "        self.text_data = X[\"Token_Description\"].tolist()\n",
    "        self.word2idx = word2idx\n",
    "\n",
    "    def __len__(self):\n",
    "        return len(self.cat_data)\n",
    "\n",
    "    def __getitem__(self, idx):\n",
    "        text_indices = tokens_to_indices(self.text_data[idx], self.word2idx)\n",
    "        return self.cat_data[idx], torch.tensor(text_indices, dtype=torch.long), self.y[idx]"
   ]
  },
  {
   "cell_type": "code",
   "execution_count": 32,
   "metadata": {
    "colab": {
     "background_save": true
    },
    "id": "Z8vJ4RcIkAY6",
    "tags": []
   },
   "outputs": [],
   "source": [
    "class SalaryModel(nn.Module):\n",
    "    def __init__(self, embedding_sizes, vocab_size, text_emb_dim=50):\n",
    "        super().__init__()\n",
    "        # [(2,3), (10, 2)]\n",
    "        self.embeddings = nn.ModuleList([\n",
    "            nn.Embedding(num_categories, emb_dim) # nn.Embedding(2, 3)\n",
    "            for num_categories, emb_dim in embedding_sizes\n",
    "        ])\n",
    "\n",
    "        cat_emb_dim = sum([emb_dim for _, emb_dim in embedding_sizes])\n",
    "\n",
    "        self.text_embedding = nn.Embedding(vocab_size, text_emb_dim, padding_idx=0)\n",
    "        total_input_dim = cat_emb_dim + text_emb_dim\n",
    "\n",
    "        #self.bn01 = nn.BatchNorm1d(total_input_dim)\n",
    "        self.fc1 = nn.Linear(total_input_dim, 32)\n",
    "        self.bn1 = nn.BatchNorm1d(32)\n",
    "        self.ln1 = nn.LayerNorm(32)\n",
    "        self.dropout1 = nn.Dropout(0.1)\n",
    "        self.fc2 = nn.Linear(32, 16)\n",
    "        self.bn2 = nn.BatchNorm1d(16)\n",
    "        self.ln2 = nn.LayerNorm(16)\n",
    "        self.dropout2 = nn.Dropout(0.05)\n",
    "        self.fc3 = nn.Linear(16, 1)\n",
    "\n",
    "    def forward(self, cat_input, text_input):\n",
    "        embedded_cat = [emb(cat_input[:, i]) for i, emb in enumerate(self.embeddings)]\n",
    "        cat_out = torch.cat(embedded_cat, dim=1)\n",
    "\n",
    "        text_emb = self.text_embedding(text_input)\n",
    "        text_out = text_emb.mean(dim=1)\n",
    "\n",
    "        x = torch.cat([cat_out, text_out], dim=1)\n",
    "\n",
    "        #x = F.relu(self.bn1(self.fc1(x)))\n",
    "        x = F.relu(self.ln1(self.fc1(x)))\n",
    "        x = self.dropout1(x)\n",
    "        #x = F.relu(self.bn2(self.fc2(x)))\n",
    "        x = F.relu(self.ln2(self.fc2(x)))\n",
    "        x = self.dropout2(x)\n",
    "\n",
    "        return self.fc3(x)\n"
   ]
  },
  {
   "cell_type": "markdown",
   "metadata": {
    "id": "WlP5b9Tnj4Cr"
   },
   "source": [
    "## Training the model"
   ]
  },
  {
   "cell_type": "code",
   "execution_count": 24,
   "metadata": {
    "colab": {
     "background_save": true
    },
    "id": "jbuYr_JgXy_q",
    "tags": []
   },
   "outputs": [],
   "source": [
    "#__get_item__: (cat_tensor, text_tensor, label)\n",
    "#batch = [(tensor([1, 2]), tensor([3, 4, 5]), tensor([50000.])),\n",
    "#         (tensor([0, 1]), tensor([7, 8]), tensor([60000.]))]\n",
    "\n",
    "\n",
    "def collate_fn(batch):\n",
    "    cat_feats, text_feats, labels = zip(*batch) #cat_feats = (tensor([1, 2]), tensor([0, 1]))\n",
    "                                                #text_feats = (tensor([3, 4, 5]), tensor([7, 8]))\n",
    "                                                #labels = (tensor([50000.]), tensor([60000.]))\n",
    "\n",
    "    cat_feats = torch.stack(cat_feats) #cat_feats = (tensor([1,2], [0,1]))\n",
    "    text_feats = pad_sequence(text_feats, batch_first=True, padding_value=0) #text_feats =(tensor([3,4,5], [7,8,0]))\n",
    "    labels = torch.stack(labels) #labels = tensor([50000.], [60000.])\n",
    "\n",
    "    return cat_feats, text_feats, labels"
   ]
  },
  {
   "cell_type": "code",
   "execution_count": 33,
   "metadata": {
    "colab": {
     "background_save": true
    },
    "id": "oDFVezmijh6a",
    "tags": []
   },
   "outputs": [],
   "source": [
    "train_dataset = SalaryDataset(X_train_encoded, y_train, word2idx)\n",
    "val_dataset = SalaryDataset(X_val_encoded, y_val, word2idx)\n",
    "test_dataset = SalaryDataset(X_test_encoded, y_test, word2idx)\n",
    "\n",
    "g = torch.Generator()\n",
    "g.manual_seed(42)\n",
    "\n",
    "BATCH_SIZE = 64\n",
    "train_loader = DataLoader(train_dataset, batch_size=BATCH_SIZE, shuffle=True, generator=g, collate_fn=collate_fn)\n",
    "val_loader = DataLoader(val_dataset, batch_size=BATCH_SIZE, shuffle=False, generator=g, collate_fn=collate_fn)\n",
    "test_loader = DataLoader(test_dataset, batch_size=BATCH_SIZE, shuffle=False, generator=g, collate_fn=collate_fn)"
   ]
  },
  {
   "cell_type": "code",
   "execution_count": 34,
   "metadata": {
    "colab": {
     "background_save": true
    },
    "id": "As-TTO4nj65x",
    "outputId": "616fa032-39e0-4b6f-ebd8-feb9d49dcd15",
    "tags": []
   },
   "outputs": [
    {
     "name": "stdout",
     "output_type": "stream",
     "text": [
      "Number of trainable parameters: 247189\n"
     ]
    }
   ],
   "source": [
    "set_seed(42)\n",
    "model = SalaryModel(embedding_sizes, vocab_size=vocab_size, text_emb_dim=5)\n",
    "model = model.to(device)\n",
    "loss_fn = torch.nn.SmoothL1Loss()\n",
    "\n",
    "optimizer = torch.optim.AdamW(model.parameters(), lr=0.001)\n",
    "scheduler = ReduceLROnPlateau(optimizer, 'min', patience=1, factor=0.5)\n",
    "\n",
    "\n",
    "def count_trainable_params(model):\n",
    "    return sum(p.numel() for p in model.parameters() if p.requires_grad)\n",
    "print(f\"Number of trainable parameters: {count_trainable_params(model)}\")\n"
   ]
  },
  {
   "cell_type": "code",
   "execution_count": 35,
   "metadata": {
    "colab": {
     "background_save": true
    },
    "id": "IlvmGbI60lSe",
    "tags": []
   },
   "outputs": [],
   "source": [
    "def train_one_epoch(epoch_index, tb_writer):\n",
    "    running_loss = 0.0\n",
    "    num_batches = 0\n",
    "    batch_losses = []\n",
    "\n",
    "    for i, (cat_inputs, text_inputs, labels) in enumerate(train_loader):\n",
    "        # Move data to the same device as the model\n",
    "        cat_inputs = cat_inputs.to(device)\n",
    "        text_inputs = text_inputs.to(device)\n",
    "        labels = labels.to(device)\n",
    "\n",
    "        optimizer.zero_grad()\n",
    "        outputs = model(cat_inputs, text_inputs)\n",
    "        loss = loss_fn(outputs, labels)\n",
    "        loss.backward()\n",
    "        optimizer.step()\n",
    "\n",
    "        loss_value = loss.item()\n",
    "        running_loss += loss_value\n",
    "\n",
    "        if i % 500 == 499:\n",
    "            last_loss = running_loss / 500\n",
    "            batch_losses.append(last_loss)\n",
    "            print(f'  batch {i+1} loss: {last_loss:.4f}')\n",
    "            tb_x = epoch_index * len(train_loader) + i + 1\n",
    "            tb_writer.add_scalar('Loss/train', last_loss, tb_x)\n",
    "            running_loss = 0.0\n",
    "\n",
    "    avg_epoch_loss = sum(batch_losses) / len(batch_losses)\n",
    "    return last_loss, batch_losses"
   ]
  },
  {
   "cell_type": "markdown",
   "metadata": {
    "id": "W8URYwp6NE0q"
   },
   "source": [
    "## Evaluation the model"
   ]
  },
  {
   "cell_type": "code",
   "execution_count": 42,
   "metadata": {
    "colab": {
     "background_save": true
    },
    "id": "JXjuxMxXQ3YE",
    "tags": []
   },
   "outputs": [],
   "source": [
    "def changing_to_original_metric(y_pred, y_true):\n",
    "    y_pred = np.expm1(y_pred)\n",
    "    y_true = np.expm1(y_true)\n",
    "    print(f\"MSE: {mean_squared_error(y_true, y_pred):.4f}\")\n",
    "    print(f\"RMSE: {np.sqrt(mean_squared_error(y_true, y_pred)):.4f}\")\n",
    "    print(f\"MAE: {mean_absolute_error(y_true, y_pred):.4f}\")\n",
    "    print(f\"R²: {r2_score(y_true, y_pred):.4f}\")\n",
    "    return y_pred, y_true"
   ]
  },
  {
   "cell_type": "code",
   "execution_count": 37,
   "metadata": {
    "colab": {
     "background_save": true
    },
    "id": "S7yEruda03JS",
    "outputId": "df588007-651b-4127-ca86-46bea0b2b103",
    "tags": []
   },
   "outputs": [
    {
     "name": "stdout",
     "output_type": "stream",
     "text": [
      "EPOCH 1:\n",
      "  batch 500 loss: 4.1904\n",
      "  batch 1000 loss: 0.4252\n",
      "  batch 1500 loss: 0.3900\n",
      "  batch 2000 loss: 0.3650\n",
      "  batch 2500 loss: 0.3551\n",
      "LOSS train: 0.3551, valid: 0.0823\n",
      "--------------------------------\n",
      "MSE: 0.1659\n",
      "RMSE: 0.4073\n",
      "R²: 0.3112\n",
      "--------------------------------\n",
      "Original scale\n",
      "MSE: 268506848.0000\n",
      "RMSE: 16386.1786\n",
      "R²: 0.1379\n",
      "\n",
      "\n",
      "EPOCH 2:\n",
      "  batch 500 loss: 0.3369\n",
      "  batch 1000 loss: 0.3299\n",
      "  batch 1500 loss: 0.3185\n",
      "  batch 2000 loss: 0.2862\n",
      "  batch 2500 loss: 0.2581\n",
      "LOSS train: 0.2581, valid: 0.0550\n",
      "--------------------------------\n",
      "MSE: 0.1107\n",
      "RMSE: 0.3327\n",
      "R²: 0.5403\n",
      "--------------------------------\n",
      "Original scale\n",
      "MSE: 181152944.0000\n",
      "RMSE: 13459.3070\n",
      "R²: 0.4184\n",
      "\n",
      "\n",
      "EPOCH 3:\n",
      "  batch 500 loss: 0.2504\n",
      "  batch 1000 loss: 0.2400\n",
      "  batch 1500 loss: 0.2368\n",
      "  batch 2000 loss: 0.2257\n",
      "  batch 2500 loss: 0.2199\n",
      "LOSS train: 0.2199, valid: 0.0494\n",
      "--------------------------------\n",
      "MSE: 0.0995\n",
      "RMSE: 0.3155\n",
      "R²: 0.5868\n",
      "--------------------------------\n",
      "Original scale\n",
      "MSE: 164102656.0000\n",
      "RMSE: 12810.2559\n",
      "R²: 0.4731\n",
      "\n",
      "\n",
      "EPOCH 4:\n",
      "  batch 500 loss: 0.2049\n",
      "  batch 1000 loss: 0.2010\n",
      "  batch 1500 loss: 0.1883\n",
      "  batch 2000 loss: 0.1752\n",
      "  batch 2500 loss: 0.1681\n",
      "LOSS train: 0.1681, valid: 0.0442\n",
      "--------------------------------\n",
      "MSE: 0.0891\n",
      "RMSE: 0.2984\n",
      "R²: 0.6303\n",
      "--------------------------------\n",
      "Original scale\n",
      "MSE: 142244544.0000\n",
      "RMSE: 11926.6317\n",
      "R²: 0.5433\n",
      "\n",
      "\n",
      "EPOCH 5:\n",
      "  batch 500 loss: 0.1586\n",
      "  batch 1000 loss: 0.1542\n",
      "  batch 1500 loss: 0.1487\n",
      "  batch 2000 loss: 0.1431\n",
      "  batch 2500 loss: 0.1385\n",
      "LOSS train: 0.1385, valid: 0.0405\n",
      "--------------------------------\n",
      "MSE: 0.0816\n",
      "RMSE: 0.2856\n",
      "R²: 0.6613\n",
      "--------------------------------\n",
      "Original scale\n",
      "MSE: 127099472.0000\n",
      "RMSE: 11273.8402\n",
      "R²: 0.5919\n",
      "\n",
      "\n",
      "EPOCH 6:\n",
      "  batch 500 loss: 0.1301\n",
      "  batch 1000 loss: 0.1252\n",
      "  batch 1500 loss: 0.1211\n",
      "  batch 2000 loss: 0.1162\n",
      "  batch 2500 loss: 0.1095\n",
      "LOSS train: 0.1095, valid: 0.0390\n",
      "--------------------------------\n",
      "MSE: 0.0787\n",
      "RMSE: 0.2806\n",
      "R²: 0.6732\n",
      "--------------------------------\n",
      "Original scale\n",
      "MSE: 124527048.0000\n",
      "RMSE: 11159.1688\n",
      "R²: 0.6002\n",
      "\n",
      "\n",
      "EPOCH 7:\n",
      "  batch 500 loss: 0.1042\n",
      "  batch 1000 loss: 0.1017\n",
      "  batch 1500 loss: 0.0970\n",
      "  batch 2000 loss: 0.0933\n",
      "  batch 2500 loss: 0.0897\n",
      "LOSS train: 0.0897, valid: 0.0371\n",
      "--------------------------------\n",
      "MSE: 0.0750\n",
      "RMSE: 0.2738\n",
      "R²: 0.6887\n",
      "--------------------------------\n",
      "Original scale\n",
      "MSE: 115477576.0000\n",
      "RMSE: 10746.0493\n",
      "R²: 0.6292\n",
      "\n",
      "\n",
      "EPOCH 8:\n",
      "  batch 500 loss: 0.0841\n",
      "  batch 1000 loss: 0.0821\n",
      "  batch 1500 loss: 0.0767\n",
      "  batch 2000 loss: 0.0746\n",
      "  batch 2500 loss: 0.0693\n",
      "LOSS train: 0.0693, valid: 0.0358\n",
      "--------------------------------\n",
      "MSE: 0.0721\n",
      "RMSE: 0.2686\n",
      "R²: 0.7006\n",
      "--------------------------------\n",
      "Original scale\n",
      "MSE: 114644008.0000\n",
      "RMSE: 10707.1942\n",
      "R²: 0.6319\n",
      "\n",
      "\n",
      "EPOCH 9:\n",
      "  batch 500 loss: 0.0652\n",
      "  batch 1000 loss: 0.0632\n",
      "  batch 1500 loss: 0.0615\n",
      "  batch 2000 loss: 0.0589\n",
      "  batch 2500 loss: 0.0572\n",
      "LOSS train: 0.0572, valid: 0.0356\n",
      "--------------------------------\n",
      "MSE: 0.0718\n",
      "RMSE: 0.2679\n",
      "R²: 0.7021\n",
      "--------------------------------\n",
      "Original scale\n",
      "MSE: 117680408.0000\n",
      "RMSE: 10848.0601\n",
      "R²: 0.6222\n",
      "\n",
      "\n",
      "EPOCH 10:\n",
      "  batch 500 loss: 0.0531\n",
      "  batch 1000 loss: 0.0527\n",
      "  batch 1500 loss: 0.0517\n",
      "  batch 2000 loss: 0.0497\n",
      "  batch 2500 loss: 0.0490\n",
      "LOSS train: 0.0490, valid: 0.0339\n",
      "--------------------------------\n",
      "MSE: 0.0686\n",
      "RMSE: 0.2619\n",
      "R²: 0.7153\n",
      "--------------------------------\n",
      "Original scale\n",
      "MSE: 103025480.0000\n",
      "RMSE: 10150.1468\n",
      "R²: 0.6692\n",
      "\n",
      "\n",
      "EPOCH 11:\n",
      "  batch 500 loss: 0.0470\n",
      "  batch 1000 loss: 0.0450\n",
      "  batch 1500 loss: 0.0443\n",
      "  batch 2000 loss: 0.0440\n",
      "  batch 2500 loss: 0.0446\n",
      "LOSS train: 0.0446, valid: 0.0329\n",
      "--------------------------------\n",
      "MSE: 0.0664\n",
      "RMSE: 0.2577\n",
      "R²: 0.7243\n",
      "--------------------------------\n",
      "Original scale\n",
      "MSE: 101373584.0000\n",
      "RMSE: 10068.4450\n",
      "R²: 0.6745\n",
      "\n",
      "\n",
      "EPOCH 12:\n",
      "  batch 500 loss: 0.0411\n",
      "  batch 1000 loss: 0.0401\n",
      "  batch 1500 loss: 0.0400\n",
      "  batch 2000 loss: 0.0397\n",
      "  batch 2500 loss: 0.0378\n",
      "LOSS train: 0.0378, valid: 0.0323\n",
      "--------------------------------\n",
      "MSE: 0.0653\n",
      "RMSE: 0.2555\n",
      "R²: 0.7289\n",
      "--------------------------------\n",
      "Original scale\n",
      "MSE: 104247528.0000\n",
      "RMSE: 10210.1679\n",
      "R²: 0.6653\n",
      "\n",
      "\n",
      "EPOCH 13:\n",
      "  batch 500 loss: 0.0371\n",
      "  batch 1000 loss: 0.0368\n",
      "  batch 1500 loss: 0.0357\n",
      "  batch 2000 loss: 0.0351\n",
      "  batch 2500 loss: 0.0356\n",
      "LOSS train: 0.0356, valid: 0.0319\n",
      "--------------------------------\n",
      "MSE: 0.0645\n",
      "RMSE: 0.2539\n",
      "R²: 0.7324\n",
      "--------------------------------\n",
      "Original scale\n",
      "MSE: 100448168.0000\n",
      "RMSE: 10022.3833\n",
      "R²: 0.6775\n",
      "\n",
      "\n",
      "EPOCH 14:\n",
      "  batch 500 loss: 0.0339\n",
      "  batch 1000 loss: 0.0342\n",
      "  batch 1500 loss: 0.0333\n",
      "  batch 2000 loss: 0.0327\n",
      "  batch 2500 loss: 0.0335\n",
      "LOSS train: 0.0335, valid: 0.0314\n",
      "--------------------------------\n",
      "MSE: 0.0634\n",
      "RMSE: 0.2518\n",
      "R²: 0.7368\n",
      "--------------------------------\n",
      "Original scale\n",
      "MSE: 99399072.0000\n",
      "RMSE: 9969.9083\n",
      "R²: 0.6809\n",
      "\n",
      "\n",
      "EPOCH 15:\n",
      "  batch 500 loss: 0.0315\n",
      "  batch 1000 loss: 0.0312\n",
      "  batch 1500 loss: 0.0313\n",
      "  batch 2000 loss: 0.0313\n",
      "  batch 2500 loss: 0.0313\n",
      "LOSS train: 0.0313, valid: 0.0310\n",
      "--------------------------------\n",
      "MSE: 0.0626\n",
      "RMSE: 0.2502\n",
      "R²: 0.7401\n",
      "--------------------------------\n",
      "Original scale\n",
      "MSE: 95146848.0000\n",
      "RMSE: 9754.3246\n",
      "R²: 0.6945\n",
      "\n",
      "\n",
      "EPOCH 16:\n",
      "  batch 500 loss: 0.0299\n",
      "  batch 1000 loss: 0.0294\n",
      "  batch 1500 loss: 0.0298\n",
      "  batch 2000 loss: 0.0306\n",
      "  batch 2500 loss: 0.0295\n",
      "LOSS train: 0.0295, valid: 0.0313\n",
      "--------------------------------\n",
      "MSE: 0.0633\n",
      "RMSE: 0.2516\n",
      "R²: 0.7373\n",
      "--------------------------------\n",
      "Original scale\n",
      "MSE: 95699544.0000\n",
      "RMSE: 9782.6144\n",
      "R²: 0.6927\n",
      "\n",
      "\n",
      "EPOCH 17:\n",
      "  batch 500 loss: 0.0285\n",
      "  batch 1000 loss: 0.0285\n",
      "  batch 1500 loss: 0.0283\n",
      "  batch 2000 loss: 0.0286\n",
      "  batch 2500 loss: 0.0289\n",
      "LOSS train: 0.0289, valid: 0.0304\n",
      "--------------------------------\n",
      "MSE: 0.0615\n",
      "RMSE: 0.2480\n",
      "R²: 0.7446\n",
      "--------------------------------\n",
      "Original scale\n",
      "MSE: 93830976.0000\n",
      "RMSE: 9686.6390\n",
      "R²: 0.6987\n",
      "\n",
      "\n",
      "EPOCH 18:\n",
      "  batch 500 loss: 0.0271\n",
      "  batch 1000 loss: 0.0277\n",
      "  batch 1500 loss: 0.0277\n",
      "  batch 2000 loss: 0.0277\n",
      "  batch 2500 loss: 0.0276\n",
      "LOSS train: 0.0276, valid: 0.0312\n",
      "--------------------------------\n",
      "MSE: 0.0630\n",
      "RMSE: 0.2509\n",
      "R²: 0.7386\n",
      "--------------------------------\n",
      "Original scale\n",
      "MSE: 96819944.0000\n",
      "RMSE: 9839.7126\n",
      "R²: 0.6891\n",
      "\n",
      "\n",
      "EPOCH 19:\n",
      "  batch 500 loss: 0.0267\n",
      "  batch 1000 loss: 0.0268\n",
      "  batch 1500 loss: 0.0266\n",
      "  batch 2000 loss: 0.0264\n",
      "  batch 2500 loss: 0.0267\n",
      "LOSS train: 0.0267, valid: 0.0301\n",
      "--------------------------------\n",
      "MSE: 0.0608\n",
      "RMSE: 0.2466\n",
      "R²: 0.7476\n",
      "--------------------------------\n",
      "Original scale\n",
      "MSE: 92967040.0000\n",
      "RMSE: 9641.9417\n",
      "R²: 0.7015\n",
      "\n",
      "\n",
      "EPOCH 20:\n",
      "  batch 500 loss: 0.0257\n",
      "  batch 1000 loss: 0.0263\n",
      "  batch 1500 loss: 0.0263\n",
      "  batch 2000 loss: 0.0261\n",
      "  batch 2500 loss: 0.0254\n",
      "LOSS train: 0.0254, valid: 0.0300\n",
      "--------------------------------\n",
      "MSE: 0.0607\n",
      "RMSE: 0.2464\n",
      "R²: 0.7479\n",
      "--------------------------------\n",
      "Original scale\n",
      "MSE: 94878312.0000\n",
      "RMSE: 9740.5499\n",
      "R²: 0.6954\n",
      "\n",
      "\n",
      "EPOCH 21:\n",
      "  batch 500 loss: 0.0252\n",
      "  batch 1000 loss: 0.0254\n",
      "  batch 1500 loss: 0.0256\n",
      "  batch 2000 loss: 0.0251\n",
      "  batch 2500 loss: 0.0253\n",
      "LOSS train: 0.0253, valid: 0.0304\n",
      "--------------------------------\n",
      "MSE: 0.0614\n",
      "RMSE: 0.2478\n",
      "R²: 0.7450\n",
      "--------------------------------\n",
      "Original scale\n",
      "MSE: 93157080.0000\n",
      "RMSE: 9651.7915\n",
      "R²: 0.7009\n",
      "\n",
      "\n",
      "EPOCH 22:\n",
      "  batch 500 loss: 0.0244\n",
      "  batch 1000 loss: 0.0247\n",
      "  batch 1500 loss: 0.0244\n",
      "  batch 2000 loss: 0.0245\n",
      "  batch 2500 loss: 0.0249\n",
      "LOSS train: 0.0249, valid: 0.0301\n",
      "--------------------------------\n",
      "MSE: 0.0609\n",
      "RMSE: 0.2468\n",
      "R²: 0.7471\n",
      "--------------------------------\n",
      "Original scale\n",
      "MSE: 91607920.0000\n",
      "RMSE: 9571.2026\n",
      "R²: 0.7059\n",
      "\n",
      "\n",
      "EPOCH 23:\n",
      "  batch 500 loss: 0.0231\n",
      "  batch 1000 loss: 0.0236\n",
      "  batch 1500 loss: 0.0241\n",
      "  batch 2000 loss: 0.0231\n",
      "  batch 2500 loss: 0.0233\n",
      "LOSS train: 0.0233, valid: 0.0300\n",
      "--------------------------------\n",
      "MSE: 0.0607\n",
      "RMSE: 0.2463\n",
      "R²: 0.7481\n",
      "--------------------------------\n",
      "Original scale\n",
      "MSE: 91030536.0000\n",
      "RMSE: 9540.9924\n",
      "R²: 0.7077\n",
      "\n",
      "\n",
      "EPOCH 24:\n",
      "  batch 500 loss: 0.0226\n",
      "  batch 1000 loss: 0.0225\n",
      "  batch 1500 loss: 0.0234\n",
      "  batch 2000 loss: 0.0231\n",
      "  batch 2500 loss: 0.0231\n",
      "LOSS train: 0.0231, valid: 0.0297\n",
      "--------------------------------\n",
      "MSE: 0.0601\n",
      "RMSE: 0.2451\n",
      "R²: 0.7506\n",
      "--------------------------------\n",
      "Original scale\n",
      "MSE: 92290896.0000\n",
      "RMSE: 9606.8151\n",
      "R²: 0.7037\n",
      "\n",
      "\n",
      "EPOCH 25:\n",
      "  batch 500 loss: 0.0228\n",
      "  batch 1000 loss: 0.0221\n",
      "  batch 1500 loss: 0.0228\n",
      "  batch 2000 loss: 0.0229\n",
      "  batch 2500 loss: 0.0230\n",
      "LOSS train: 0.0230, valid: 0.0297\n",
      "--------------------------------\n",
      "MSE: 0.0600\n",
      "RMSE: 0.2450\n",
      "R²: 0.7509\n",
      "--------------------------------\n",
      "Original scale\n",
      "MSE: 91618752.0000\n",
      "RMSE: 9571.7685\n",
      "R²: 0.7058\n",
      "\n",
      "\n",
      "EPOCH 26:\n",
      "  batch 500 loss: 0.0220\n",
      "  batch 1000 loss: 0.0218\n",
      "  batch 1500 loss: 0.0225\n",
      "  batch 2000 loss: 0.0229\n",
      "  batch 2500 loss: 0.0231\n",
      "LOSS train: 0.0231, valid: 0.0299\n",
      "--------------------------------\n",
      "MSE: 0.0605\n",
      "RMSE: 0.2459\n",
      "R²: 0.7490\n",
      "--------------------------------\n",
      "Original scale\n",
      "MSE: 91461960.0000\n",
      "RMSE: 9563.5746\n",
      "R²: 0.7063\n",
      "\n",
      "\n",
      "EPOCH 27:\n",
      "  batch 500 loss: 0.0224\n",
      "  batch 1000 loss: 0.0222\n",
      "  batch 1500 loss: 0.0219\n",
      "  batch 2000 loss: 0.0220\n",
      "  batch 2500 loss: 0.0223\n",
      "LOSS train: 0.0223, valid: 0.0300\n",
      "--------------------------------\n",
      "MSE: 0.0606\n",
      "RMSE: 0.2462\n",
      "R²: 0.7483\n",
      "--------------------------------\n",
      "Original scale\n",
      "MSE: 93930848.0000\n",
      "RMSE: 9691.7928\n",
      "R²: 0.6984\n",
      "\n",
      "\n",
      "EPOCH 28:\n",
      "  batch 500 loss: 0.0214\n",
      "  batch 1000 loss: 0.0221\n",
      "  batch 1500 loss: 0.0210\n",
      "  batch 2000 loss: 0.0221\n",
      "  batch 2500 loss: 0.0219\n",
      "LOSS train: 0.0219, valid: 0.0299\n",
      "--------------------------------\n",
      "MSE: 0.0606\n",
      "RMSE: 0.2461\n",
      "R²: 0.7486\n",
      "--------------------------------\n",
      "Original scale\n",
      "MSE: 92062816.0000\n",
      "RMSE: 9594.9370\n",
      "R²: 0.7044\n",
      "\n",
      "\n",
      "EPOCH 29:\n",
      "  batch 500 loss: 0.0212\n",
      "  batch 1000 loss: 0.0216\n",
      "  batch 1500 loss: 0.0213\n",
      "  batch 2000 loss: 0.0216\n",
      "  batch 2500 loss: 0.0214\n",
      "LOSS train: 0.0214, valid: 0.0300\n",
      "--------------------------------\n",
      "MSE: 0.0608\n",
      "RMSE: 0.2466\n",
      "R²: 0.7476\n",
      "--------------------------------\n",
      "Original scale\n",
      "MSE: 91293616.0000\n",
      "RMSE: 9554.7693\n",
      "R²: 0.7069\n",
      "\n",
      "\n",
      "EPOCH 30:\n",
      "  batch 500 loss: 0.0214\n",
      "  batch 1000 loss: 0.0210\n",
      "  batch 1500 loss: 0.0211\n",
      "  batch 2000 loss: 0.0210\n",
      "  batch 2500 loss: 0.0211\n",
      "LOSS train: 0.0211, valid: 0.0300\n",
      "--------------------------------\n",
      "MSE: 0.0608\n",
      "RMSE: 0.2465\n",
      "R²: 0.7478\n",
      "--------------------------------\n",
      "Original scale\n",
      "MSE: 92080024.0000\n",
      "RMSE: 9595.8337\n",
      "R²: 0.7044\n",
      "\n",
      "\n",
      "Early stopping at epoch 30\n"
     ]
    }
   ],
   "source": [
    "patience = 5\n",
    "best_vloss = float('inf')\n",
    "epochs_without_improvement = 0\n",
    "model_save_path = 'best_model.pth'\n",
    "\n",
    "timestamp = datetime.now().strftime('%Y%m%d_%H%M%S')\n",
    "writer = SummaryWriter('runs/fashion_trainer_{}'.format(timestamp))\n",
    "\n",
    "epoch_number = 0\n",
    "EPOCHS = 100\n",
    "\n",
    "train_losses = []\n",
    "val_losses = []\n",
    "train_batch_losses = []\n",
    "val_batch_losses = []\n",
    "\n",
    "\n",
    "for epoch in range(EPOCHS):\n",
    "    print(f'EPOCH {epoch_number + 1}:')\n",
    "\n",
    "    model.train(True)\n",
    "    avg_train_loss, batch_train_losses = train_one_epoch(epoch_number, writer)\n",
    "    train_losses.append(avg_train_loss)\n",
    "    train_batch_losses.extend(batch_train_losses)\n",
    "\n",
    "    model.eval()\n",
    "    running_vloss = 0.0\n",
    "    r_vloss = 0.0\n",
    "    batch_val_losses = []\n",
    "    all_val_outputs = []\n",
    "    all_val_labels = []\n",
    "\n",
    "    with torch.no_grad():\n",
    "        for i, vdata in enumerate(val_loader):\n",
    "            cat_inputs, text_inputs, vlabels = vdata\n",
    "\n",
    "            cat_inputs = cat_inputs.to(device)\n",
    "            text_inputs = text_inputs.to(device)\n",
    "            vlabels = vlabels.to(device)\n",
    "\n",
    "            voutputs = model(cat_inputs, text_inputs)\n",
    "            vloss = loss_fn(voutputs, vlabels)\n",
    "\n",
    "            loss_value = vloss.item()\n",
    "            running_vloss += loss_value\n",
    "            r_vloss += loss_value\n",
    "            if i % 500 == 499:\n",
    "                last_loss = r_vloss / 500\n",
    "                batch_val_losses.append(last_loss)\n",
    "                r_vloss = 0.0\n",
    "\n",
    "            all_val_outputs.extend(voutputs.cpu().numpy())\n",
    "            all_val_labels.extend(vlabels.cpu().numpy())\n",
    "\n",
    "    avg_vloss = running_vloss / (i + 1)\n",
    "    val_losses.append(avg_vloss)\n",
    "    val_batch_losses.extend(batch_val_losses)\n",
    "    scheduler.step(avg_vloss)\n",
    "\n",
    "\n",
    "    mse_val = mean_squared_error(all_val_labels, all_val_outputs)\n",
    "    rmse_val = np.sqrt(mse_val)\n",
    "    r2_val = r2_score(all_val_labels, all_val_outputs)\n",
    "\n",
    "    print(f'LOSS train: {avg_train_loss:.4f}, valid: {avg_vloss:.4f}')\n",
    "    print(\"--------------------------------\")\n",
    "    print(f\"MSE: {mse_val:.4f}\")\n",
    "    print(f\"RMSE: {rmse_val:.4f}\")\n",
    "    print(f\"R²: {r2_val:.4f}\")\n",
    "    print(\"--------------------------------\")\n",
    "    print(\"Original scale\")\n",
    "    all_val_outputs_original, all_val_labels_original = changing_to_original_metric(all_val_outputs, all_val_labels)\n",
    "    mse_val_original = mean_squared_error(all_val_labels_original, all_val_outputs_original)\n",
    "    rmse_val_original = np.sqrt(mse_val_original)\n",
    "    r2_val_original = r2_score(all_val_labels_original, all_val_outputs_original)\n",
    "    print(\"\\n\")\n",
    "\n",
    "    writer.add_scalars('Training vs. Validation Loss',\n",
    "                       {'Training': avg_train_loss, 'Validation': avg_vloss},\n",
    "                       epoch_number + 1)\n",
    "    writer.flush()\n",
    "\n",
    "    if avg_vloss < best_vloss:\n",
    "        best_vloss = avg_vloss\n",
    "        epochs_without_improvement = 0\n",
    "        torch.save(model.state_dict(), model_save_path)\n",
    "    else:\n",
    "        epochs_without_improvement += 1\n",
    "\n",
    "    if epochs_without_improvement >= patience:\n",
    "        print(f'Early stopping at epoch {epoch_number + 1}')\n",
    "        break\n",
    "\n",
    "    epoch_number += 1\n"
   ]
  },
  {
   "cell_type": "markdown",
   "metadata": {
    "id": "z6Mvdel1eF0c"
   },
   "source": [
    "### Improvements"
   ]
  },
  {
   "cell_type": "markdown",
   "metadata": {
    "id": "a7AnprYdAigp"
   },
   "source": [
    "LOSS train: 0.0367, valid: 0.0395\n",
    "MSE: 0.0796\n",
    "RMSE: 0.2822\n",
    "R²: 0.6695\n",
    "Original scale\n",
    "MSE: 122744712.0000\n",
    "RMSE: 11079.0213\n",
    "R²: 0.6059"
   ]
  },
  {
   "cell_type": "markdown",
   "metadata": {
    "id": "dMzyScieIOoE"
   },
   "source": [
    "Dropout: 0.1 after first\n",
    "\n",
    "LOSS train: 0.0289, valid: 0.0321\n",
    "MSE: 0.0648\n",
    "RMSE: 0.2546\n",
    "R²: 0.7309\n",
    "Original scale\n",
    "MSE: 102198888.0000\n",
    "RMSE: 10109.3466\n",
    "R²: 0.6719"
   ]
  },
  {
   "cell_type": "markdown",
   "metadata": {
    "id": "UDNcnhlLQmel"
   },
   "source": [
    "Dropout: 0.1 and 0.1\n",
    "\n",
    "LOSS train: 0.0351, valid: 0.0317\n",
    "MSE: 0.0641\n",
    "RMSE: 0.2532\n",
    "R²: 0.7339\n",
    "Original scale\n",
    "MSE: 101942328.0000\n",
    "RMSE: 10096.6493\n",
    "R²: 0.6727"
   ]
  },
  {
   "cell_type": "markdown",
   "metadata": {
    "id": "s9OJef_cT-Fe"
   },
   "source": [
    "Dropout: 0.1 and 0.05\n",
    "\n",
    "LOSS train: 0.0346, valid: 0.0313\n",
    "MSE: 0.0631\n",
    "RMSE: 0.2512\n",
    "R²: 0.7380\n",
    "Original scale\n",
    "MSE: 101177544.0000\n",
    "RMSE: 10058.7049\n",
    "R²: 0.6752"
   ]
  },
  {
   "cell_type": "markdown",
   "metadata": {
    "id": "9v2bCTdPW263"
   },
   "source": [
    "Dropout 0.1 and 0.05, patience in ES: 5\n",
    "\n",
    "LOSS train: 0.0317, valid: 0.0307\n",
    "MSE: 0.0620\n",
    "RMSE: 0.2489\n",
    "R²: 0.7427\n",
    "Original scale\n",
    "MSE: 99788424.0000\n",
    "RMSE: 9989.4156\n",
    "R²: 0.6796"
   ]
  },
  {
   "cell_type": "markdown",
   "metadata": {
    "id": "f2U96094aYye"
   },
   "source": [
    "Drpout 0.1 and 0.05, patience in ES: 5, patience in scheduler: 1\n",
    "\n",
    "LOSS train: 0.0315, valid: 0.0307\n",
    "MSE: 0.0620\n",
    "RMSE: 0.2489\n",
    "R²: 0.7428\n",
    "Original scale\n",
    "MSE: 99773496.0000\n",
    "RMSE: 9988.6684\n",
    "R²: 0.6797"
   ]
  },
  {
   "cell_type": "markdown",
   "metadata": {
    "id": "NXfK0_64agZ3"
   },
   "source": [
    "Changing to LayerNorm:\n",
    "\n",
    "LOSS train: 0.0230, valid: 0.0297\n",
    "MSE: 0.0600\n",
    "RMSE: 0.2450\n",
    "R²: 0.7509\n",
    "Original scale\n",
    "MSE: 91618752.0000\n",
    "RMSE: 9571.7685\n",
    "R²: 0.7058"
   ]
  },
  {
   "cell_type": "markdown",
   "metadata": {
    "id": "gVpynGZGh5UZ"
   },
   "source": [
    "#### Before"
   ]
  },
  {
   "cell_type": "markdown",
   "metadata": {
    "id": "yW8YZBTsiAnw"
   },
   "source": [
    "#### After"
   ]
  },
  {
   "cell_type": "code",
   "execution_count": 38,
   "metadata": {
    "colab": {
     "background_save": true
    },
    "id": "074XkkBdyvoX",
    "outputId": "7b98a5ff-2a4c-472c-caa5-02c8735fc4fd",
    "tags": []
   },
   "outputs": [
    {
     "data": {
      "image/png": "[encoded data removed]",
      "text/plain": [
       "<Figure size 640x480 with 1 Axes>"
      ]
     },
     "metadata": {},
     "output_type": "display_data"
    }
   ],
   "source": [
    "plt.plot(train_losses, label='Train Loss')\n",
    "plt.plot(val_losses, label='Validation Loss')\n",
    "plt.xlabel('Epoch')\n",
    "plt.ylabel('Loss')\n",
    "plt.xlim(0)\n",
    "plt.legend()\n",
    "plt.grid(True)\n",
    "plt.show()\n"
   ]
  },
  {
   "cell_type": "markdown",
   "metadata": {
    "id": "TzGoZtEGNLsL"
   },
   "source": [
    "## Evaluation on the test set"
   ]
  },
  {
   "cell_type": "code",
   "execution_count": 39,
   "metadata": {
    "colab": {
     "base_uri": "https://localhost:8080/"
    },
    "id": "wxVDFc_mGxVw",
    "outputId": "eb7bb2d1-7616-447e-8283-c1694ef34e2b",
    "tags": []
   },
   "outputs": [
    {
     "data": {
      "text/plain": [
       "SalaryModel(\n",
       "  (embeddings): ModuleList(\n",
       "    (0): Embedding(1000, 5)\n",
       "    (1-2): 2 x Embedding(3, 1)\n",
       "    (3): Embedding(1001, 5)\n",
       "    (4): Embedding(29, 5)\n",
       "  )\n",
       "  (text_embedding): Embedding(47112, 5, padding_idx=0)\n",
       "  (fc1): Linear(in_features=22, out_features=32, bias=True)\n",
       "  (bn1): BatchNorm1d(32, eps=1e-05, momentum=0.1, affine=True, track_running_stats=True)\n",
       "  (ln1): LayerNorm((32,), eps=1e-05, elementwise_affine=True)\n",
       "  (dropout1): Dropout(p=0.1, inplace=False)\n",
       "  (fc2): Linear(in_features=32, out_features=16, bias=True)\n",
       "  (bn2): BatchNorm1d(16, eps=1e-05, momentum=0.1, affine=True, track_running_stats=True)\n",
       "  (ln2): LayerNorm((16,), eps=1e-05, elementwise_affine=True)\n",
       "  (dropout2): Dropout(p=0.05, inplace=False)\n",
       "  (fc3): Linear(in_features=16, out_features=1, bias=True)\n",
       ")"
      ]
     },
     "execution_count": 39,
     "metadata": {},
     "output_type": "execute_result"
    }
   ],
   "source": [
    "model = SalaryModel(embedding_sizes, vocab_size=vocab_size, text_emb_dim=5)\n",
    "model.load_state_dict(torch.load(model_save_path))\n",
    "model.eval()"
   ]
  },
  {
   "cell_type": "code",
   "execution_count": 43,
   "metadata": {
    "colab": {
     "base_uri": "https://localhost:8080/"
    },
    "id": "-MHB-Y0sHGJ5",
    "outputId": "264db640-ba63-4d67-8526-69a7feddb4b3",
    "tags": []
   },
   "outputs": [
    {
     "name": "stdout",
     "output_type": "stream",
     "text": [
      "Test Loss: 0.0296\n",
      "MSE: 0.0602\n",
      "RMSE: 0.2454\n",
      "MAE: 0.1759\n",
      "R²: 0.7506\n"
     ]
    }
   ],
   "source": [
    "running_test_loss = 0.0\n",
    "\n",
    "\n",
    "all_outputs = []\n",
    "all_labels = []\n",
    "\n",
    "with torch.no_grad():\n",
    "    for i, (cat_inputs, text_inputs, test_labels) in enumerate(test_loader):\n",
    "        test_outputs = model(cat_inputs, text_inputs)\n",
    "        test_loss = loss_fn(test_outputs, test_labels)\n",
    "        running_test_loss += test_loss.item()\n",
    "\n",
    "        all_outputs.extend(test_outputs.numpy())\n",
    "        all_labels.extend(test_labels.numpy())\n",
    "\n",
    "avg_test_loss = running_test_loss / (i + 1)\n",
    "print(f\"Test Loss: {avg_test_loss:.4f}\")\n",
    "\n",
    "mse = mean_squared_error(all_labels, all_outputs)\n",
    "rmse = np.sqrt(mse)\n",
    "mae= mean_absolute_error(all_labels, all_outputs)\n",
    "r2 = r2_score(all_labels, all_outputs)\n",
    "\n",
    "print(f\"MSE: {mse:.4f}\")\n",
    "print(f\"RMSE: {rmse:.4f}\")\n",
    "print(f\"MAE: {mae:.4f}\")\n",
    "print(f\"R²: {r2:.4f}\")"
   ]
  },
  {
   "cell_type": "code",
   "execution_count": 46,
   "metadata": {
    "tags": []
   },
   "outputs": [
    {
     "name": "stdout",
     "output_type": "stream",
     "text": [
      "MSE: 93263216.0000\n",
      "RMSE: 9657.2882\n",
      "MAE: 6140.5034\n",
      "R²: 0.7011\n",
      "(array([[30442.607],\n",
      "       [26054.348],\n",
      "       [27566.975],\n",
      "       ...,\n",
      "       [37089.008],\n",
      "       [38691.434],\n",
      "       [28211.393]], dtype=float32), array([[23500.002],\n",
      "       [23040.002],\n",
      "       [34850.016],\n",
      "       ...,\n",
      "       [39999.996],\n",
      "       [42500.   ],\n",
      "       [31000.006]], dtype=float32))\n"
     ]
    }
   ],
   "source": [
    "print(changing_to_original_metric(all_outputs, all_labels))"
   ]
  }
 ],
 "metadata": {
  "accelerator": "GPU",
  "colab": {
   "collapsed_sections": [
    "mlutQW5SZZd3",
    "c_bu4IZghUHZ",
    "xsUhoAEYGtUN",
    "yAWatT2Ohgp-",
    "Z1MNkf-9h2ai",
    "kVk25khvG5tC",
    "LpeB3Hi2QAf_",
    "cXmpQDo6h_mx",
    "WlP5b9Tnj4Cr",
    "W8URYwp6NE0q"
   ],
   "gpuType": "T4",
   "provenance": [],
   "toc_visible": true
  },
  "environment": {
   "kernel": "conda-base-py",
   "name": "workbench-notebooks.m129",
   "type": "gcloud",
   "uri": "us-docker.pkg.dev/deeplearning-platform-release/gcr.io/workbench-notebooks:m129"
  },
  "kernelspec": {
   "display_name": "Python 3 (ipykernel) (Local)",
   "language": "python",
   "name": "conda-base-py"
  },
  "language_info": {
   "codemirror_mode": {
    "name": "ipython",
    "version": 3
   },
   "file_extension": ".py",
   "mimetype": "text/x-python",
   "name": "python",
   "nbconvert_exporter": "python",
   "pygments_lexer": "ipython3",
   "version": "3.10.16"
  }
 },
 "nbformat": 4,
 "nbformat_minor": 4
}
