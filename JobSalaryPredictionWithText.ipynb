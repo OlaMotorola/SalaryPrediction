{
 "cells": [
  {
   "cell_type": "markdown",
   "metadata": {
    "id": "uSFak2UyhQBj",
    "tags": []
   },
   "source": [
    "## Imports"
   ]
  },
  {
   "cell_type": "code",
   "execution_count": 1,
   "metadata": {
    "colab": {
     "base_uri": "https://localhost:8080/"
    },
    "id": "nI-INK1EJJw-",
    "outputId": "8bbc7584-5ea7-4878-873f-699cb91b6ae5",
    "tags": []
   },
   "outputs": [
    {
     "name": "stderr",
     "output_type": "stream",
     "text": [
      "[nltk_data] Downloading package punkt_tab to\n",
      "[nltk_data]     /home/jupyter/nltk_data...\n",
      "[nltk_data]   Package punkt_tab is already up-to-date!\n",
      "[nltk_data] Downloading package stopwords to\n",
      "[nltk_data]     /home/jupyter/nltk_data...\n",
      "[nltk_data]   Package stopwords is already up-to-date!\n"
     ]
    },
    {
     "data": {
      "text/plain": [
       "True"
      ]
     },
     "execution_count": 1,
     "metadata": {},
     "output_type": "execute_result"
    }
   ],
   "source": [
    "import nltk\n",
    "nltk.download('punkt_tab')\n",
    "nltk.download('stopwords')"
   ]
  },
  {
   "cell_type": "code",
   "execution_count": 2,
   "metadata": {
    "id": "sgsHqpbefmZA",
    "tags": []
   },
   "outputs": [],
   "source": [
    "import pandas as pd\n",
    "import numpy as np\n",
    "import matplotlib.pyplot as plt\n",
    "import seaborn as sns\n",
    "import torch\n",
    "\n",
    "import string\n",
    "from nltk.corpus import stopwords\n",
    "from nltk.tokenize import word_tokenize\n",
    "from nltk.probability import FreqDist\n",
    "from torch.nn.utils.rnn import pad_sequence\n",
    "\n",
    "from sklearn.preprocessing import LabelEncoder\n",
    "from torch.utils.data import Dataset, DataLoader\n",
    "from sklearn.preprocessing import StandardScaler, OneHotEncoder\n",
    "from sklearn.compose import ColumnTransformer\n",
    "from sklearn.pipeline import Pipeline\n",
    "from sklearn.impute import SimpleImputer\n",
    "from datetime import datetime\n",
    "from torch.utils.tensorboard import SummaryWriter\n",
    "import torch.nn as nn\n",
    "import torch.nn.functional as F\n",
    "from sklearn.metrics import mean_squared_error, r2_score\n",
    "import torch.optim as optim\n",
    "from torch.optim.lr_scheduler import ReduceLROnPlateau\n",
    "import os\n",
    "import random"
   ]
  },
  {
   "cell_type": "code",
   "execution_count": 3,
   "metadata": {
    "colab": {
     "base_uri": "https://localhost:8080/"
    },
    "id": "52tvKCfage66",
    "outputId": "fce13a14-f0d7-436e-8920-5099e7f806cd",
    "tags": []
   },
   "outputs": [],
   "source": [
    "data_path = '/home/jupyter/SalaryPrediction/Data/'\n",
    "\n",
    "train_path = data_path + 'train_clean_with_text.csv'\n",
    "val_path = data_path + 'val_clean_with_text.csv'\n",
    "test_path = data_path + 'test_clean_with_text.csv'"
   ]
  },
  {
   "cell_type": "code",
   "execution_count": 4,
   "metadata": {
    "colab": {
     "base_uri": "https://localhost:8080/"
    },
    "id": "TDO5jHid25fG",
    "outputId": "5ccd1ff0-78bc-4150-ec1e-0396aca0c21c",
    "tags": []
   },
   "outputs": [
    {
     "name": "stdout",
     "output_type": "stream",
     "text": [
      "cuda\n"
     ]
    }
   ],
   "source": [
    "device = torch.device(\"cuda\" if torch.cuda.is_available() else \"cpu\")\n",
    "print(device)"
   ]
  },
  {
   "cell_type": "markdown",
   "metadata": {
    "id": "mlutQW5SZZd3"
   },
   "source": [
    "## Fixing seeds"
   ]
  },
  {
   "cell_type": "code",
   "execution_count": 5,
   "metadata": {
    "id": "83llIoZeWuky",
    "tags": []
   },
   "outputs": [],
   "source": [
    "def set_seed(seed=42):\n",
    "    os.environ[\"PYTHONHASHSEED\"] = str(seed) #const hash for python\n",
    "    random.seed(seed)\n",
    "    np.random.seed(seed)\n",
    "    torch.manual_seed(seed)\n",
    "    torch.backends.cudnn.deterministic = True\n",
    "    torch.backends.cudnn.benchmark = False"
   ]
  },
  {
   "cell_type": "markdown",
   "metadata": {
    "id": "c_bu4IZghUHZ"
   },
   "source": [
    "## Data reading"
   ]
  },
  {
   "cell_type": "code",
   "execution_count": 1,
   "metadata": {
    "id": "TUAwuXHff8Qk",
    "tags": []
   },
   "outputs": [
    {
     "ename": "NameError",
     "evalue": "name 'pd' is not defined",
     "output_type": "error",
     "traceback": [
      "\u001b[0;31m---------------------------------------------------------------------------\u001b[0m",
      "\u001b[0;31mNameError\u001b[0m                                 Traceback (most recent call last)",
      "Cell \u001b[0;32mIn[1], line 1\u001b[0m\n\u001b[0;32m----> 1\u001b[0m df_train \u001b[38;5;241m=\u001b[39m \u001b[43mpd\u001b[49m\u001b[38;5;241m.\u001b[39mread_csv(train_path)\n\u001b[1;32m      2\u001b[0m df_val \u001b[38;5;241m=\u001b[39m pd\u001b[38;5;241m.\u001b[39mread_csv(val_path)\n\u001b[1;32m      3\u001b[0m df_test \u001b[38;5;241m=\u001b[39m pd\u001b[38;5;241m.\u001b[39mread_csv(test_path)\n",
      "\u001b[0;31mNameError\u001b[0m: name 'pd' is not defined"
     ]
    }
   ],
   "source": [
    "df_train = pd.read_csv(train_path)\n",
    "df_val = pd.read_csv(val_path)\n",
    "df_test = pd.read_csv(test_path)"
   ]
  },
  {
   "cell_type": "code",
   "execution_count": 7,
   "metadata": {
    "colab": {
     "base_uri": "https://localhost:8080/",
     "height": 394
    },
    "id": "YlDUWtmfhBKd",
    "outputId": "3d7835dd-26fb-450e-e0d9-9910a0fe364c",
    "tags": []
   },
   "outputs": [
    {
     "data": {
      "text/html": [
       "<div>\n",
       "<style scoped>\n",
       "    .dataframe tbody tr th:only-of-type {\n",
       "        vertical-align: middle;\n",
       "    }\n",
       "\n",
       "    .dataframe tbody tr th {\n",
       "        vertical-align: top;\n",
       "    }\n",
       "\n",
       "    .dataframe thead th {\n",
       "        text-align: right;\n",
       "    }\n",
       "</style>\n",
       "<table border=\"1\" class=\"dataframe\">\n",
       "  <thead>\n",
       "    <tr style=\"text-align: right;\">\n",
       "      <th></th>\n",
       "      <th>FullDescription</th>\n",
       "      <th>LocationNormalized</th>\n",
       "      <th>ContractType</th>\n",
       "      <th>ContractTime</th>\n",
       "      <th>Company</th>\n",
       "      <th>Category</th>\n",
       "      <th>SalaryNormalized</th>\n",
       "    </tr>\n",
       "  </thead>\n",
       "  <tbody>\n",
       "    <tr>\n",
       "      <th>0</th>\n",
       "      <td>The Litigation team at this well regarded Comm...</td>\n",
       "      <td>london</td>\n",
       "      <td>full_time</td>\n",
       "      <td>permanent</td>\n",
       "      <td>Other</td>\n",
       "      <td>Legal Jobs</td>\n",
       "      <td>100000</td>\n",
       "    </tr>\n",
       "    <tr>\n",
       "      <th>1</th>\n",
       "      <td>Endoscopy Staff Nurse NHS  London ****  **** H...</td>\n",
       "      <td>thecity</td>\n",
       "      <td>full_time</td>\n",
       "      <td>permanent</td>\n",
       "      <td>ukstaffsearch</td>\n",
       "      <td>Other/General Jobs</td>\n",
       "      <td>29284</td>\n",
       "    </tr>\n",
       "    <tr>\n",
       "      <th>2</th>\n",
       "      <td>An experienced Operations Director is required...</td>\n",
       "      <td>letchworthgardencity</td>\n",
       "      <td>full_time</td>\n",
       "      <td>permanent</td>\n",
       "      <td>ukstaffsearch</td>\n",
       "      <td>Consultancy Jobs</td>\n",
       "      <td>97500</td>\n",
       "    </tr>\n",
       "    <tr>\n",
       "      <th>3</th>\n",
       "      <td>The Danny Sullivan Group is looking for a Site...</td>\n",
       "      <td>dudley</td>\n",
       "      <td>full_time</td>\n",
       "      <td>permanent</td>\n",
       "      <td>cvbrowser</td>\n",
       "      <td>Engineering Jobs</td>\n",
       "      <td>34320</td>\n",
       "    </tr>\n",
       "    <tr>\n",
       "      <th>4</th>\n",
       "      <td>A promising opportunity for an exceptional man...</td>\n",
       "      <td>kent</td>\n",
       "      <td>full_time</td>\n",
       "      <td>permanent</td>\n",
       "      <td>Other</td>\n",
       "      <td>Accounting &amp; Finance Jobs</td>\n",
       "      <td>37500</td>\n",
       "    </tr>\n",
       "  </tbody>\n",
       "</table>\n",
       "</div>"
      ],
      "text/plain": [
       "                                     FullDescription    LocationNormalized  \\\n",
       "0  The Litigation team at this well regarded Comm...                london   \n",
       "1  Endoscopy Staff Nurse NHS  London ****  **** H...               thecity   \n",
       "2  An experienced Operations Director is required...  letchworthgardencity   \n",
       "3  The Danny Sullivan Group is looking for a Site...                dudley   \n",
       "4  A promising opportunity for an exceptional man...                  kent   \n",
       "\n",
       "  ContractType ContractTime        Company                   Category  \\\n",
       "0    full_time    permanent          Other                 Legal Jobs   \n",
       "1    full_time    permanent  ukstaffsearch         Other/General Jobs   \n",
       "2    full_time    permanent  ukstaffsearch           Consultancy Jobs   \n",
       "3    full_time    permanent      cvbrowser           Engineering Jobs   \n",
       "4    full_time    permanent          Other  Accounting & Finance Jobs   \n",
       "\n",
       "   SalaryNormalized  \n",
       "0            100000  \n",
       "1             29284  \n",
       "2             97500  \n",
       "3             34320  \n",
       "4             37500  "
      ]
     },
     "execution_count": 7,
     "metadata": {},
     "output_type": "execute_result"
    }
   ],
   "source": [
    "df_train.head()"
   ]
  },
  {
   "cell_type": "markdown",
   "metadata": {
    "id": "xsUhoAEYGtUN"
   },
   "source": [
    "## Data cleaning"
   ]
  },
  {
   "cell_type": "markdown",
   "metadata": {
    "id": "yAWatT2Ohgp-"
   },
   "source": [
    "#### Spliting dataset"
   ]
  },
  {
   "cell_type": "code",
   "execution_count": 8,
   "metadata": {
    "id": "rahBPQr0jT1T",
    "tags": []
   },
   "outputs": [],
   "source": [
    "X_train = df_train.drop('SalaryNormalized', axis=1)\n",
    "y_train = df_train['SalaryNormalized']\n",
    "\n",
    "X_val = df_val.drop('SalaryNormalized', axis=1)\n",
    "y_val = df_val['SalaryNormalized']\n",
    "\n",
    "X_test = df_test.drop('SalaryNormalized', axis=1)\n",
    "y_test = df_test['SalaryNormalized']"
   ]
  },
  {
   "cell_type": "code",
   "execution_count": 9,
   "metadata": {
    "colab": {
     "base_uri": "https://localhost:8080/"
    },
    "id": "XIX5rQC7Jsx8",
    "outputId": "0a507b35-d64a-43ce-b184-73e6f395b170",
    "tags": []
   },
   "outputs": [
    {
     "data": {
      "text/plain": [
       "(172683, 6)"
      ]
     },
     "execution_count": 9,
     "metadata": {},
     "output_type": "execute_result"
    }
   ],
   "source": [
    "X_train.shape"
   ]
  },
  {
   "cell_type": "markdown",
   "metadata": {
    "id": "Z1MNkf-9h2ai"
   },
   "source": [
    "#### Log transformation"
   ]
  },
  {
   "cell_type": "code",
   "execution_count": 10,
   "metadata": {
    "colab": {
     "base_uri": "https://localhost:8080/",
     "height": 54
    },
    "id": "a20y1ptjQojw",
    "outputId": "3669c897-0420-405d-958d-4285e038dde2",
    "tags": []
   },
   "outputs": [
    {
     "data": {
      "image/png": "[encoded data removed]",
      "text/plain": [
       "<Figure size 640x480 with 1 Axes>"
      ]
     },
     "metadata": {},
     "output_type": "display_data"
    }
   ],
   "source": [
    "sns.histplot(y_train, bins=50, kde=True)\n",
    "plt.title('Distribution of SalaryNormalized')\n",
    "plt.xlabel('SalaryNormalized')\n",
    "plt.ylabel('Frequency')\n",
    "plt.show()"
   ]
  },
  {
   "cell_type": "code",
   "execution_count": 11,
   "metadata": {
    "id": "zEwZKOyyRNKE",
    "tags": []
   },
   "outputs": [],
   "source": [
    "y_train = np.log1p(y_train)\n",
    "y_val = np.log1p(y_val)\n",
    "y_test = np.log1p(y_test)"
   ]
  },
  {
   "cell_type": "code",
   "execution_count": 12,
   "metadata": {
    "colab": {
     "base_uri": "https://localhost:8080/",
     "height": 54
    },
    "id": "WLFPEAWJRRIc",
    "outputId": "534e9d89-e43d-44a1-cfcc-a5ce59c4ce06",
    "tags": []
   },
   "outputs": [
    {
     "data": {
      "image/png": "[encoded data removed]",
      "text/plain": [
       "<Figure size 640x480 with 1 Axes>"
      ]
     },
     "metadata": {},
     "output_type": "display_data"
    }
   ],
   "source": [
    "sns.histplot(y_train, bins=50, kde=True)\n",
    "plt.title('Distribution of SalaryNormalized')\n",
    "plt.xlabel('SalaryNormalized')\n",
    "plt.ylabel('Frequency')\n",
    "plt.show()"
   ]
  },
  {
   "cell_type": "markdown",
   "metadata": {
    "id": "kVk25khvG5tC"
   },
   "source": [
    "#### Tokenization"
   ]
  },
  {
   "cell_type": "code",
   "execution_count": 13,
   "metadata": {
    "id": "DvTdgpzvSCam",
    "tags": []
   },
   "outputs": [],
   "source": [
    "stop_words = set(stopwords.words(\"english\"))\n",
    "\n",
    "#'The white flower.'\n",
    "def tokenize_description(text):\n",
    "    text = text.translate(str.maketrans('', '', string.punctuation)) #'The white flower'\n",
    "    tokens = word_tokenize(text) #['The', 'white', 'flower']\n",
    "    filtered = [word.lower() for word in tokens if word.lower() not in stop_words] #['white', 'flower']\n",
    "    return filtered\n",
    "\n",
    "def build_vocab(token_lists, min_freq=5):\n",
    "    word2idx = {'<PAD>': 0, '<UNK>': 1}\n",
    "    freq = {}\n",
    "\n",
    "    for tokens in token_lists:\n",
    "        for word in tokens:\n",
    "            freq[word] = freq.get(word, 0) + 1\n",
    "            if freq[word] == min_freq:\n",
    "                word2idx[word] = len(word2idx)\n",
    "\n",
    "    return word2idx #word2idx = {'<PAD>':0, '<UNK>':1, 'white':2, 'flower':3}\n",
    "\n",
    "\n",
    "def tokens_to_indices(tokens, word2idx):\n",
    "    return [word2idx.get(word, word2idx['<UNK>']) for word in tokens]\n",
    "#tokens=['white', 'flower', 'dog']\n",
    "#word2idx = {'<PAD>':0, '<UNK>':1, 'white':2, 'flower':3}\n",
    "#output = [2, 3, 1]"
   ]
  },
  {
   "cell_type": "code",
   "execution_count": 14,
   "metadata": {
    "id": "cg2uJatsTzIT",
    "tags": []
   },
   "outputs": [],
   "source": [
    "X_train['Token_Description'] = X_train['FullDescription'].apply(tokenize_description)\n",
    "X_val['Token_Description'] = X_val['FullDescription'].apply(tokenize_description)\n",
    "X_test['Token_Description'] = X_test['FullDescription'].apply(tokenize_description)\n",
    "\n",
    "word2idx = build_vocab(X_train['Token_Description'])\n",
    "\n",
    "train_seqs = [torch.tensor(tokens_to_indices(t, word2idx)) for t in X_train['Token_Description']]\n",
    "val_seqs = [torch.tensor(tokens_to_indices(t, word2idx)) for t in X_val['Token_Description']]\n",
    "test_seqs = [torch.tensor(tokens_to_indices(t, word2idx)) for t in X_test['Token_Description']]\n",
    "\n",
    "#Before: [[2,1], [5], [2, 3, 4]]\n",
    "train_seqs = pad_sequence(train_seqs, batch_first=True)\n",
    "val_seqs = pad_sequence(val_seqs, batch_first=True)\n",
    "test_seqs = pad_sequence(test_seqs, batch_first=True)\n",
    "#After: [[2, 1, 0], [5, 0, 0], [2, 3, 4]]\n",
    "\n",
    "vocab_size = len(word2idx)"
   ]
  },
  {
   "cell_type": "code",
   "execution_count": null,
   "metadata": {
    "id": "qC7yP0pLjuUV"
   },
   "outputs": [],
   "source": [
    "def tokenize_description_char(text):\n",
    "    text = text.lower()\n",
    "    text = text.translate(str.maketrans('', '', string.punctuation))\n",
    "    return list(text.replace(\" \", \"\"))\n",
    "\n",
    "def build_char_vocab(token_lists, min_freq=1):\n",
    "    char2idx = {'<PAD>': 0, '<UNK>': 1}\n",
    "    freq = {}\n",
    "\n",
    "    for tokens in token_lists:\n",
    "        for char in tokens:\n",
    "            freq[char] = freq.get(char, 0) + 1\n",
    "            if freq[char] == min_freq:\n",
    "                char2idx[char] = len(char2idx)\n",
    "\n",
    "    return char2idx\n",
    "\n",
    "def chars_to_indices(tokens, char2idx):\n",
    "    return [char2idx.get(char, char2idx['<UNK>']) for char in tokens]"
   ]
  },
  {
   "cell_type": "code",
   "execution_count": null,
   "metadata": {
    "id": "F4_7ydg5kAZW"
   },
   "outputs": [],
   "source": [
    "X_train['Token_Description'] = X_train['FullDescription'].apply(tokenize_description_char)\n",
    "X_val['Token_Description'] = X_val['FullDescription'].apply(tokenize_description_char)\n",
    "X_test['Token_Description'] = X_test['FullDescription'].apply(tokenize_description_char)\n",
    "\n",
    "char2idx = build_char_vocab(X_train['Token_Description'])\n",
    "\n",
    "train_seqs = [torch.tensor(chars_to_indices(t, char2idx)) for t in X_train['Token_Description']]\n",
    "val_seqs = [torch.tensor(chars_to_indices(t, char2idx)) for t in X_val['Token_Description']]\n",
    "test_seqs = [torch.tensor(chars_to_indices(t, char2idx)) for t in X_test['Token_Description']]\n",
    "\n",
    "train_seqs = pad_sequence(train_seqs, batch_first=True).to(device)\n",
    "val_seqs = pad_sequence(val_seqs, batch_first=True).to(device)\n",
    "test_seqs = pad_sequence(test_seqs, batch_first=True).to(device)\n",
    "\n",
    "vocab_size = len(char2idx)"
   ]
  },
  {
   "cell_type": "markdown",
   "metadata": {
    "id": "LpeB3Hi2QAf_"
   },
   "source": [
    "#### Label encoding"
   ]
  },
  {
   "cell_type": "code",
   "execution_count": 15,
   "metadata": {
    "id": "tNlt08_-Rci9",
    "tags": []
   },
   "outputs": [],
   "source": [
    "encoders = {}\n",
    "\n",
    "X_train_encoded = X_train.copy()\n",
    "X_val_encoded = X_val.copy()\n",
    "X_test_encoded = X_test.copy()\n",
    "\n",
    "for col in X_train.columns:\n",
    "    if col != 'FullDescription' and col != 'Token_Description':  \n",
    "        \n",
    "        X_train_encoded[col] = le.fit_transform(X_train[col])\n",
    "        X_val_encoded[col] = le.transform(X_val[col])\n",
    "        X_test_encoded[col] = le.transform(X_test[col])\n",
    "        \n",
    "        encoders[col] = le\n"
   ]
  },
  {
   "cell_type": "code",
   "execution_count": 16,
   "metadata": {
    "colab": {
     "base_uri": "https://localhost:8080/"
    },
    "id": "fe6g4D71QUq3",
    "outputId": "bb2fb5df-4759-4228-b0df-a5017aab5eb2",
    "tags": []
   },
   "outputs": [
    {
     "name": "stdout",
     "output_type": "stream",
     "text": [
      "(172683, 7) (35369, 7) (36716, 7)\n"
     ]
    }
   ],
   "source": [
    "print(X_train.shape, X_val.shape, X_test.shape)"
   ]
  },
  {
   "cell_type": "markdown",
   "metadata": {
    "id": "7hTrC0DeQnIV"
   },
   "source": [
    "#### Embedding"
   ]
  },
  {
   "cell_type": "code",
   "execution_count": 18,
   "metadata": {
    "id": "TFb2lBO5RFcZ",
    "tags": []
   },
   "outputs": [],
   "source": [
    "embedding_sizes = []\n",
    "\n",
    "for col in X_train_encoded.columns:\n",
    "    if col == \"Token_Description\" or col == \"FullDescription\":\n",
    "        continue\n",
    "    num_categories = len(encoders[col].classes_) #num of unique values\n",
    "    emb_dim = min(5, (num_categories + 1) // 4)\n",
    "    embedding_sizes.append((num_categories, emb_dim))"
   ]
  },
  {
   "cell_type": "code",
   "execution_count": null,
   "metadata": {},
   "outputs": [],
   "source": [
    "device = 'cuda' if torch.cuda.is_available() else 'cpu'\n",
    "sbert = SentenceTransformer('all-MiniLM-L6-v2', device=device)\n",
    "\n",
    "with torch.no_grad():\n",
    "    X_train_text_embeddings = sbert.encode(X_train['FullDescription'].tolist(), convert_to_tensor=True, device=device, show_progress_bar=True)\n",
    "    X_val_text_embeddings = sbert.encode(X_val['FullDescription'].tolist(), convert_to_tensor=True, device=device, show_progress_bar=True)\n",
    "    X_test_text_embeddings = sbert.encode(X_test['FullDescription'].tolist(), convert_to_tensor=True, device=device, show_progress_bar=True)"
   ]
  },
  {
   "cell_type": "markdown",
   "metadata": {
    "id": "cXmpQDo6h_mx"
   },
   "source": [
    "## Architecture"
   ]
  },
  {
   "cell_type": "code",
   "execution_count": 41,
   "metadata": {
    "id": "DTwMcL1jhnyY",
    "tags": []
   },
   "outputs": [],
   "source": [
    "class SalaryDataset(Dataset):\n",
    "    def __init__(self, X, y, char2idx):\n",
    "        self.y = torch.tensor(y.values, dtype=torch.float32).unsqueeze(1)\n",
    "        self.cat_data = torch.tensor(X.drop(columns=[\"Token_Description\"]).values, dtype=torch.long)\n",
    "        self.text_data = X[\"Token_Description\"].tolist()\n",
    "        self.char2idx = char2idx\n",
    "\n",
    "    def __len__(self):\n",
    "        return len(self.cat_data)\n",
    "\n",
    "    def __getitem__(self, idx):\n",
    "        text_indices = tokens_to_indices(self.text_data[idx], self.char2idx)\n",
    "        return self.cat_data[idx], torch.tensor(text_indices, dtype=torch.long), self.y[idx]"
   ]
  },
  {
   "cell_type": "code",
   "execution_count": 51,
   "metadata": {
    "id": "GS4t6NkOaN_B",
    "tags": []
   },
   "outputs": [],
   "source": [
    "import torch\n",
    "import torch.nn as nn\n",
    "import torch.nn.functional as F\n",
    "from sentence_transformers import SentenceTransformer\n",
    "\n",
    "class SalaryModel(nn.Module):\n",
    "    def __init__(self, embedding_sizes, sentence_model_name='all-MiniLM-L6-v2', freeze_sentence_model=True):\n",
    "        super().__init__()\n",
    "\n",
    "        self.sentence_model = SentenceTransformer(sentence_model_name)\n",
    "\n",
    "        if freeze_sentence_model:\n",
    "            for param in self.sentence_model.parameters():\n",
    "                param.requires_grad = False \n",
    "\n",
    "        self.embeddings = nn.ModuleList([\n",
    "            nn.Embedding(num_categories, emb_dim)\n",
    "            for num_categories, emb_dim in embedding_sizes\n",
    "        ])\n",
    "        cat_emb_dim = sum([emb_dim for _, emb_dim in embedding_sizes])\n",
    "\n",
    "    \n",
    "        total_input_dim = cat_emb_dim + text_emb_dim\n",
    "\n",
    "        self.fc1 = nn.Linear(total_input_dim, 64)\n",
    "        self.dropout1 = nn.Dropout(0.5)\n",
    "\n",
    "        self.fc2 = nn.Linear(64, 32)\n",
    "        self.dropout2 = nn.Dropout(0.2)\n",
    "\n",
    "        self.fc3 = nn.Linear(32, 16)\n",
    "        self.dropout3 = nn.Dropout(0.1)\n",
    "\n",
    "        self.fc_final = nn.Linear(16, 1)\n",
    "\n",
    "    def forward(self, cat_input, text_input):\n",
    "        embedded_cat = [emb(cat_input[:, i]) for i, emb in enumerate(self.embeddings)]\n",
    "        cat_out = torch.cat(embedded_cat, dim=1)\n",
    "\n",
    "\n",
    "        text_input_list = [str(sentence) for sentence in text_input] \n",
    "\n",
    "        text_emb = self.sentence_model.encode(text_input_list, convert_to_tensor=True)\n",
    "\n",
    "        x = torch.cat([cat_out, text_emb], dim=1)\n",
    "        x = F.relu(self.fc1(x))\n",
    "        x = self.dropout1(x)\n",
    "\n",
    "        x = F.relu(self.fc2(x))\n",
    "        x = self.dropout2(x)\n",
    "\n",
    "        x = F.relu(self.fc3(x))\n",
    "        x = self.dropout3(x)\n",
    "\n",
    "        x = self.fc_final(x)\n",
    "\n",
    "        return x\n"
   ]
  },
  {
   "cell_type": "markdown",
   "metadata": {
    "id": "WlP5b9Tnj4Cr"
   },
   "source": [
    "## Training the model"
   ]
  },
  {
   "cell_type": "code",
   "execution_count": 43,
   "metadata": {
    "id": "jbuYr_JgXy_q",
    "tags": []
   },
   "outputs": [],
   "source": [
    "#__get_item__: (cat_tensor, text_tensor, label)\n",
    "#batch = [(tensor([1, 2]), tensor([3, 4, 5]), tensor([50000.])),\n",
    "#         (tensor([0, 1]), tensor([7, 8]), tensor([60000.]))]\n",
    "\n",
    "\n",
    "def collate_fn(batch):\n",
    "    cat_feats, text_feats, labels = zip(*batch) #cat_feats = (tensor([1, 2]), tensor([0, 1]))\n",
    "                                                #text_feats = (tensor([3, 4, 5]), tensor([7, 8]))\n",
    "                                                #labels = (tensor([50000.]), tensor([60000.]))\n",
    "\n",
    "    cat_feats = torch.stack(cat_feats) #cat_feats = (tensor([1,2], [0,1]))\n",
    "    text_feats = pad_sequence(text_feats, batch_first=True, padding_value=0) #text_feats =(tensor([3,4,5], [7,8,0]))\n",
    "    labels = torch.stack(labels) #labels = tensor([50000.], [60000.])\n",
    "\n",
    "    return cat_feats, text_feats, labels"
   ]
  },
  {
   "cell_type": "code",
   "execution_count": 52,
   "metadata": {
    "id": "oDFVezmijh6a",
    "tags": []
   },
   "outputs": [],
   "source": [
    "train_dataset = SalaryDataset(X_train_encoded, y_train, word2idx)\n",
    "val_dataset = SalaryDataset(X_val_encoded, y_val, word2idx)\n",
    "test_dataset = SalaryDataset(X_test_encoded, y_test, word2idx)\n",
    "\n",
    "g = torch.Generator()\n",
    "g.manual_seed(42)\n",
    "\n",
    "BATCH_SIZE = 64\n",
    "train_loader = DataLoader(train_dataset, batch_size=BATCH_SIZE, shuffle=True, generator=g, collate_fn=collate_fn)\n",
    "val_loader = DataLoader(val_dataset, batch_size=BATCH_SIZE, shuffle=False, generator=g, collate_fn=collate_fn)\n",
    "test_loader = DataLoader(test_dataset, batch_size=BATCH_SIZE, shuffle=False, generator=g, collate_fn=collate_fn)"
   ]
  },
  {
   "cell_type": "code",
   "execution_count": 53,
   "metadata": {
    "colab": {
     "base_uri": "https://localhost:8080/"
    },
    "id": "As-TTO4nj65x",
    "outputId": "5c427890-05c8-4936-d8b9-a4c584b18450",
    "tags": []
   },
   "outputs": [
    {
     "name": "stdout",
     "output_type": "stream",
     "text": [
      "Number of trainable parameters: 38509\n"
     ]
    }
   ],
   "source": [
    "set_seed(42)\n",
    "\n",
    "model = SalaryModel(\n",
    "    embedding_sizes=embedding_sizes,\n",
    "    sentence_model_name='all-MiniLM-L6-v2',\n",
    "    freeze_sentence_model=True  \n",
    ")\n",
    "\n",
    "model = model.to(device)\n",
    "\n",
    "loss_fn = torch.nn.SmoothL1Loss()\n",
    "\n",
    "optimizer = torch.optim.AdamW(filter(lambda p: p.requires_grad, model.parameters()), lr=0.001)\n",
    "\n",
    "scheduler = ReduceLROnPlateau(optimizer, 'min', patience=2, factor=0.5)\n",
    "\n",
    "def count_trainable_params(model):\n",
    "    return sum(p.numel() for p in model.parameters() if p.requires_grad)\n",
    "\n",
    "print(f\"Number of trainable parameters: {count_trainable_params(model)}\")\n"
   ]
  },
  {
   "cell_type": "code",
   "execution_count": 54,
   "metadata": {
    "id": "IlvmGbI60lSe",
    "tags": []
   },
   "outputs": [],
   "source": [
    "def train_one_epoch(epoch_index, tb_writer):\n",
    "    running_loss = 0.0\n",
    "    num_batches = 0\n",
    "    batch_losses = []\n",
    "\n",
    "    for i, (cat_inputs, text_inputs, labels) in enumerate(train_loader):\n",
    "        cat_inputs = cat_inputs.to(device)\n",
    "        text_inputs = text_inputs.to(device)\n",
    "        labels = labels.to(device)\n",
    "\n",
    "        optimizer.zero_grad()\n",
    "        outputs = model(cat_inputs, text_inputs)\n",
    "        loss = loss_fn(outputs, labels)\n",
    "        loss.backward()\n",
    "        optimizer.step()\n",
    "\n",
    "        loss_value = loss.item()\n",
    "        running_loss += loss_value\n",
    "\n",
    "        if i % 500 == 499:\n",
    "            last_loss = running_loss / 500\n",
    "            batch_losses.append(last_loss)\n",
    "            print(f'  batch {i+1} loss: {last_loss:.4f}')\n",
    "            tb_x = epoch_index * len(train_loader) + i + 1\n",
    "            tb_writer.add_scalar('Loss/train', last_loss, tb_x)\n",
    "            running_loss = 0.0\n",
    "\n",
    "    avg_epoch_loss = sum(batch_losses) / len(batch_losses)\n",
    "    return last_loss, batch_losses"
   ]
  },
  {
   "cell_type": "markdown",
   "metadata": {
    "id": "W8URYwp6NE0q"
   },
   "source": [
    "## Evaluation the model"
   ]
  },
  {
   "cell_type": "code",
   "execution_count": 47,
   "metadata": {
    "id": "JXjuxMxXQ3YE",
    "tags": []
   },
   "outputs": [],
   "source": [
    "def changing_to_original_metric(y_pred, y_true):\n",
    "    y_pred = np.expm1(y_pred)\n",
    "    y_true = np.expm1(y_true)\n",
    "    print(f\"MSE: {mean_squared_error(y_true, y_pred):.4f}\")\n",
    "    print(f\"RMSE: {np.sqrt(mean_squared_error(y_true, y_pred)):.4f}\")\n",
    "    print(f\"R²: {r2_score(y_true, y_pred):.4f}\")\n",
    "    return y_pred, y_true"
   ]
  },
  {
   "cell_type": "code",
   "execution_count": 55,
   "metadata": {
    "colab": {
     "base_uri": "https://localhost:8080/"
    },
    "id": "S7yEruda03JS",
    "outputId": "5bfa2c12-da6a-4a7d-f4b4-013f65285d79",
    "tags": []
   },
   "outputs": [
    {
     "name": "stdout",
     "output_type": "stream",
     "text": [
      "EPOCH 1:\n"
     ]
    },
    {
     "ename": "KeyboardInterrupt",
     "evalue": "",
     "output_type": "error",
     "traceback": [
      "\u001b[0;31m---------------------------------------------------------------------------\u001b[0m",
      "\u001b[0;31mKeyboardInterrupt\u001b[0m                         Traceback (most recent call last)",
      "Cell \u001b[0;32mIn[55], line 22\u001b[0m\n\u001b[1;32m     19\u001b[0m \u001b[38;5;28mprint\u001b[39m(\u001b[38;5;124mf\u001b[39m\u001b[38;5;124m'\u001b[39m\u001b[38;5;124mEPOCH \u001b[39m\u001b[38;5;132;01m{\u001b[39;00mepoch_number\u001b[38;5;250m \u001b[39m\u001b[38;5;241m+\u001b[39m\u001b[38;5;250m \u001b[39m\u001b[38;5;241m1\u001b[39m\u001b[38;5;132;01m}\u001b[39;00m\u001b[38;5;124m:\u001b[39m\u001b[38;5;124m'\u001b[39m)\n\u001b[1;32m     21\u001b[0m model\u001b[38;5;241m.\u001b[39mtrain(\u001b[38;5;28;01mTrue\u001b[39;00m)\n\u001b[0;32m---> 22\u001b[0m avg_train_loss, batch_train_losses \u001b[38;5;241m=\u001b[39m \u001b[43mtrain_one_epoch\u001b[49m\u001b[43m(\u001b[49m\u001b[43mepoch_number\u001b[49m\u001b[43m,\u001b[49m\u001b[43m \u001b[49m\u001b[43mwriter\u001b[49m\u001b[43m)\u001b[49m\n\u001b[1;32m     23\u001b[0m train_losses\u001b[38;5;241m.\u001b[39mappend(avg_train_loss)\n\u001b[1;32m     24\u001b[0m train_batch_losses\u001b[38;5;241m.\u001b[39mextend(batch_train_losses)\n",
      "Cell \u001b[0;32mIn[54], line 12\u001b[0m, in \u001b[0;36mtrain_one_epoch\u001b[0;34m(epoch_index, tb_writer)\u001b[0m\n\u001b[1;32m      9\u001b[0m labels \u001b[38;5;241m=\u001b[39m labels\u001b[38;5;241m.\u001b[39mto(device)\n\u001b[1;32m     11\u001b[0m optimizer\u001b[38;5;241m.\u001b[39mzero_grad()\n\u001b[0;32m---> 12\u001b[0m outputs \u001b[38;5;241m=\u001b[39m \u001b[43mmodel\u001b[49m\u001b[43m(\u001b[49m\u001b[43mcat_inputs\u001b[49m\u001b[43m,\u001b[49m\u001b[43m \u001b[49m\u001b[43mtext_inputs\u001b[49m\u001b[43m)\u001b[49m\n\u001b[1;32m     13\u001b[0m loss \u001b[38;5;241m=\u001b[39m loss_fn(outputs, labels)\n\u001b[1;32m     14\u001b[0m loss\u001b[38;5;241m.\u001b[39mbackward()\n",
      "File \u001b[0;32m/opt/conda/lib/python3.10/site-packages/torch/nn/modules/module.py:1751\u001b[0m, in \u001b[0;36mModule._wrapped_call_impl\u001b[0;34m(self, *args, **kwargs)\u001b[0m\n\u001b[1;32m   1749\u001b[0m     \u001b[38;5;28;01mreturn\u001b[39;00m \u001b[38;5;28mself\u001b[39m\u001b[38;5;241m.\u001b[39m_compiled_call_impl(\u001b[38;5;241m*\u001b[39margs, \u001b[38;5;241m*\u001b[39m\u001b[38;5;241m*\u001b[39mkwargs)  \u001b[38;5;66;03m# type: ignore[misc]\u001b[39;00m\n\u001b[1;32m   1750\u001b[0m \u001b[38;5;28;01melse\u001b[39;00m:\n\u001b[0;32m-> 1751\u001b[0m     \u001b[38;5;28;01mreturn\u001b[39;00m \u001b[38;5;28;43mself\u001b[39;49m\u001b[38;5;241;43m.\u001b[39;49m\u001b[43m_call_impl\u001b[49m\u001b[43m(\u001b[49m\u001b[38;5;241;43m*\u001b[39;49m\u001b[43margs\u001b[49m\u001b[43m,\u001b[49m\u001b[43m \u001b[49m\u001b[38;5;241;43m*\u001b[39;49m\u001b[38;5;241;43m*\u001b[39;49m\u001b[43mkwargs\u001b[49m\u001b[43m)\u001b[49m\n",
      "File \u001b[0;32m/opt/conda/lib/python3.10/site-packages/torch/nn/modules/module.py:1762\u001b[0m, in \u001b[0;36mModule._call_impl\u001b[0;34m(self, *args, **kwargs)\u001b[0m\n\u001b[1;32m   1757\u001b[0m \u001b[38;5;66;03m# If we don't have any hooks, we want to skip the rest of the logic in\u001b[39;00m\n\u001b[1;32m   1758\u001b[0m \u001b[38;5;66;03m# this function, and just call forward.\u001b[39;00m\n\u001b[1;32m   1759\u001b[0m \u001b[38;5;28;01mif\u001b[39;00m \u001b[38;5;129;01mnot\u001b[39;00m (\u001b[38;5;28mself\u001b[39m\u001b[38;5;241m.\u001b[39m_backward_hooks \u001b[38;5;129;01mor\u001b[39;00m \u001b[38;5;28mself\u001b[39m\u001b[38;5;241m.\u001b[39m_backward_pre_hooks \u001b[38;5;129;01mor\u001b[39;00m \u001b[38;5;28mself\u001b[39m\u001b[38;5;241m.\u001b[39m_forward_hooks \u001b[38;5;129;01mor\u001b[39;00m \u001b[38;5;28mself\u001b[39m\u001b[38;5;241m.\u001b[39m_forward_pre_hooks\n\u001b[1;32m   1760\u001b[0m         \u001b[38;5;129;01mor\u001b[39;00m _global_backward_pre_hooks \u001b[38;5;129;01mor\u001b[39;00m _global_backward_hooks\n\u001b[1;32m   1761\u001b[0m         \u001b[38;5;129;01mor\u001b[39;00m _global_forward_hooks \u001b[38;5;129;01mor\u001b[39;00m _global_forward_pre_hooks):\n\u001b[0;32m-> 1762\u001b[0m     \u001b[38;5;28;01mreturn\u001b[39;00m \u001b[43mforward_call\u001b[49m\u001b[43m(\u001b[49m\u001b[38;5;241;43m*\u001b[39;49m\u001b[43margs\u001b[49m\u001b[43m,\u001b[49m\u001b[43m \u001b[49m\u001b[38;5;241;43m*\u001b[39;49m\u001b[38;5;241;43m*\u001b[39;49m\u001b[43mkwargs\u001b[49m\u001b[43m)\u001b[49m\n\u001b[1;32m   1764\u001b[0m result \u001b[38;5;241m=\u001b[39m \u001b[38;5;28;01mNone\u001b[39;00m\n\u001b[1;32m   1765\u001b[0m called_always_called_hooks \u001b[38;5;241m=\u001b[39m \u001b[38;5;28mset\u001b[39m()\n",
      "Cell \u001b[0;32mIn[51], line 53\u001b[0m, in \u001b[0;36mSalaryModel.forward\u001b[0;34m(self, cat_input, text_input)\u001b[0m\n\u001b[1;32m     50\u001b[0m text_input_list \u001b[38;5;241m=\u001b[39m [\u001b[38;5;28mstr\u001b[39m(sentence) \u001b[38;5;28;01mfor\u001b[39;00m sentence \u001b[38;5;129;01min\u001b[39;00m text_input]  \u001b[38;5;66;03m# Convert tensor to list of strings\u001b[39;00m\n\u001b[1;32m     52\u001b[0m \u001b[38;5;66;03m# Text → SentenceTransformer\u001b[39;00m\n\u001b[0;32m---> 53\u001b[0m text_emb \u001b[38;5;241m=\u001b[39m \u001b[38;5;28;43mself\u001b[39;49m\u001b[38;5;241;43m.\u001b[39;49m\u001b[43msentence_model\u001b[49m\u001b[38;5;241;43m.\u001b[39;49m\u001b[43mencode\u001b[49m\u001b[43m(\u001b[49m\u001b[43mtext_input_list\u001b[49m\u001b[43m,\u001b[49m\u001b[43m \u001b[49m\u001b[43mconvert_to_tensor\u001b[49m\u001b[38;5;241;43m=\u001b[39;49m\u001b[38;5;28;43;01mTrue\u001b[39;49;00m\u001b[43m)\u001b[49m\n\u001b[1;32m     55\u001b[0m \u001b[38;5;66;03m# Combine categorical and text embeddings\u001b[39;00m\n\u001b[1;32m     56\u001b[0m x \u001b[38;5;241m=\u001b[39m torch\u001b[38;5;241m.\u001b[39mcat([cat_out, text_emb], dim\u001b[38;5;241m=\u001b[39m\u001b[38;5;241m1\u001b[39m)\n",
      "File \u001b[0;32m/opt/conda/lib/python3.10/site-packages/sentence_transformers/SentenceTransformer.py:653\u001b[0m, in \u001b[0;36mSentenceTransformer.encode\u001b[0;34m(self, sentences, prompt_name, prompt, batch_size, show_progress_bar, output_value, precision, convert_to_numpy, convert_to_tensor, device, normalize_embeddings, **kwargs)\u001b[0m\n\u001b[1;32m    651\u001b[0m \u001b[38;5;28;01mfor\u001b[39;00m start_index \u001b[38;5;129;01min\u001b[39;00m trange(\u001b[38;5;241m0\u001b[39m, \u001b[38;5;28mlen\u001b[39m(sentences), batch_size, desc\u001b[38;5;241m=\u001b[39m\u001b[38;5;124m\"\u001b[39m\u001b[38;5;124mBatches\u001b[39m\u001b[38;5;124m\"\u001b[39m, disable\u001b[38;5;241m=\u001b[39m\u001b[38;5;129;01mnot\u001b[39;00m show_progress_bar):\n\u001b[1;32m    652\u001b[0m     sentences_batch \u001b[38;5;241m=\u001b[39m sentences_sorted[start_index : start_index \u001b[38;5;241m+\u001b[39m batch_size]\n\u001b[0;32m--> 653\u001b[0m     features \u001b[38;5;241m=\u001b[39m \u001b[38;5;28;43mself\u001b[39;49m\u001b[38;5;241;43m.\u001b[39;49m\u001b[43mtokenize\u001b[49m\u001b[43m(\u001b[49m\u001b[43msentences_batch\u001b[49m\u001b[43m)\u001b[49m\n\u001b[1;32m    654\u001b[0m     \u001b[38;5;28;01mif\u001b[39;00m \u001b[38;5;28mself\u001b[39m\u001b[38;5;241m.\u001b[39mdevice\u001b[38;5;241m.\u001b[39mtype \u001b[38;5;241m==\u001b[39m \u001b[38;5;124m\"\u001b[39m\u001b[38;5;124mhpu\u001b[39m\u001b[38;5;124m\"\u001b[39m:\n\u001b[1;32m    655\u001b[0m         \u001b[38;5;28;01mif\u001b[39;00m \u001b[38;5;124m\"\u001b[39m\u001b[38;5;124minput_ids\u001b[39m\u001b[38;5;124m\"\u001b[39m \u001b[38;5;129;01min\u001b[39;00m features:\n",
      "File \u001b[0;32m/opt/conda/lib/python3.10/site-packages/sentence_transformers/SentenceTransformer.py:1124\u001b[0m, in \u001b[0;36mSentenceTransformer.tokenize\u001b[0;34m(self, texts)\u001b[0m\n\u001b[1;32m   1113\u001b[0m \u001b[38;5;28;01mdef\u001b[39;00m\u001b[38;5;250m \u001b[39m\u001b[38;5;21mtokenize\u001b[39m(\u001b[38;5;28mself\u001b[39m, texts: \u001b[38;5;28mlist\u001b[39m[\u001b[38;5;28mstr\u001b[39m] \u001b[38;5;241m|\u001b[39m \u001b[38;5;28mlist\u001b[39m[\u001b[38;5;28mdict\u001b[39m] \u001b[38;5;241m|\u001b[39m \u001b[38;5;28mlist\u001b[39m[\u001b[38;5;28mtuple\u001b[39m[\u001b[38;5;28mstr\u001b[39m, \u001b[38;5;28mstr\u001b[39m]]) \u001b[38;5;241m-\u001b[39m\u001b[38;5;241m>\u001b[39m \u001b[38;5;28mdict\u001b[39m[\u001b[38;5;28mstr\u001b[39m, Tensor]:\n\u001b[1;32m   1114\u001b[0m \u001b[38;5;250m    \u001b[39m\u001b[38;5;124;03m\"\"\"\u001b[39;00m\n\u001b[1;32m   1115\u001b[0m \u001b[38;5;124;03m    Tokenizes the texts.\u001b[39;00m\n\u001b[1;32m   1116\u001b[0m \n\u001b[0;32m   (...)\u001b[0m\n\u001b[1;32m   1122\u001b[0m \u001b[38;5;124;03m            \"attention_mask\", and \"token_type_ids\".\u001b[39;00m\n\u001b[1;32m   1123\u001b[0m \u001b[38;5;124;03m    \"\"\"\u001b[39;00m\n\u001b[0;32m-> 1124\u001b[0m     \u001b[38;5;28;01mreturn\u001b[39;00m \u001b[38;5;28;43mself\u001b[39;49m\u001b[38;5;241;43m.\u001b[39;49m\u001b[43m_first_module\u001b[49m\u001b[43m(\u001b[49m\u001b[43m)\u001b[49m\u001b[38;5;241;43m.\u001b[39;49m\u001b[43mtokenize\u001b[49m\u001b[43m(\u001b[49m\u001b[43mtexts\u001b[49m\u001b[43m)\u001b[49m\n",
      "File \u001b[0;32m/opt/conda/lib/python3.10/site-packages/sentence_transformers/models/Transformer.py:500\u001b[0m, in \u001b[0;36mTransformer.tokenize\u001b[0;34m(self, texts, padding)\u001b[0m\n\u001b[1;32m    496\u001b[0m \u001b[38;5;28;01mif\u001b[39;00m \u001b[38;5;28mself\u001b[39m\u001b[38;5;241m.\u001b[39mdo_lower_case:\n\u001b[1;32m    497\u001b[0m     to_tokenize \u001b[38;5;241m=\u001b[39m [[s\u001b[38;5;241m.\u001b[39mlower() \u001b[38;5;28;01mfor\u001b[39;00m s \u001b[38;5;129;01min\u001b[39;00m col] \u001b[38;5;28;01mfor\u001b[39;00m col \u001b[38;5;129;01min\u001b[39;00m to_tokenize]\n\u001b[1;32m    499\u001b[0m output\u001b[38;5;241m.\u001b[39mupdate(\n\u001b[0;32m--> 500\u001b[0m     \u001b[38;5;28;43mself\u001b[39;49m\u001b[38;5;241;43m.\u001b[39;49m\u001b[43mtokenizer\u001b[49m\u001b[43m(\u001b[49m\n\u001b[1;32m    501\u001b[0m \u001b[43m        \u001b[49m\u001b[38;5;241;43m*\u001b[39;49m\u001b[43mto_tokenize\u001b[49m\u001b[43m,\u001b[49m\n\u001b[1;32m    502\u001b[0m \u001b[43m        \u001b[49m\u001b[43mpadding\u001b[49m\u001b[38;5;241;43m=\u001b[39;49m\u001b[43mpadding\u001b[49m\u001b[43m,\u001b[49m\n\u001b[1;32m    503\u001b[0m \u001b[43m        \u001b[49m\u001b[43mtruncation\u001b[49m\u001b[38;5;241;43m=\u001b[39;49m\u001b[38;5;124;43m\"\u001b[39;49m\u001b[38;5;124;43mlongest_first\u001b[39;49m\u001b[38;5;124;43m\"\u001b[39;49m\u001b[43m,\u001b[49m\n\u001b[1;32m    504\u001b[0m \u001b[43m        \u001b[49m\u001b[43mreturn_tensors\u001b[49m\u001b[38;5;241;43m=\u001b[39;49m\u001b[38;5;124;43m\"\u001b[39;49m\u001b[38;5;124;43mpt\u001b[39;49m\u001b[38;5;124;43m\"\u001b[39;49m\u001b[43m,\u001b[49m\n\u001b[1;32m    505\u001b[0m \u001b[43m        \u001b[49m\u001b[43mmax_length\u001b[49m\u001b[38;5;241;43m=\u001b[39;49m\u001b[38;5;28;43mself\u001b[39;49m\u001b[38;5;241;43m.\u001b[39;49m\u001b[43mmax_seq_length\u001b[49m\u001b[43m,\u001b[49m\n\u001b[1;32m    506\u001b[0m \u001b[43m    \u001b[49m\u001b[43m)\u001b[49m\n\u001b[1;32m    507\u001b[0m )\n\u001b[1;32m    508\u001b[0m \u001b[38;5;28;01mreturn\u001b[39;00m output\n",
      "File \u001b[0;32m/opt/conda/lib/python3.10/site-packages/transformers/tokenization_utils_base.py:2887\u001b[0m, in \u001b[0;36mPreTrainedTokenizerBase.__call__\u001b[0;34m(self, text, text_pair, text_target, text_pair_target, add_special_tokens, padding, truncation, max_length, stride, is_split_into_words, pad_to_multiple_of, padding_side, return_tensors, return_token_type_ids, return_attention_mask, return_overflowing_tokens, return_special_tokens_mask, return_offsets_mapping, return_length, verbose, **kwargs)\u001b[0m\n\u001b[1;32m   2885\u001b[0m     \u001b[38;5;28;01mif\u001b[39;00m \u001b[38;5;129;01mnot\u001b[39;00m \u001b[38;5;28mself\u001b[39m\u001b[38;5;241m.\u001b[39m_in_target_context_manager:\n\u001b[1;32m   2886\u001b[0m         \u001b[38;5;28mself\u001b[39m\u001b[38;5;241m.\u001b[39m_switch_to_input_mode()\n\u001b[0;32m-> 2887\u001b[0m     encodings \u001b[38;5;241m=\u001b[39m \u001b[38;5;28;43mself\u001b[39;49m\u001b[38;5;241;43m.\u001b[39;49m\u001b[43m_call_one\u001b[49m\u001b[43m(\u001b[49m\u001b[43mtext\u001b[49m\u001b[38;5;241;43m=\u001b[39;49m\u001b[43mtext\u001b[49m\u001b[43m,\u001b[49m\u001b[43m \u001b[49m\u001b[43mtext_pair\u001b[49m\u001b[38;5;241;43m=\u001b[39;49m\u001b[43mtext_pair\u001b[49m\u001b[43m,\u001b[49m\u001b[43m \u001b[49m\u001b[38;5;241;43m*\u001b[39;49m\u001b[38;5;241;43m*\u001b[39;49m\u001b[43mall_kwargs\u001b[49m\u001b[43m)\u001b[49m\n\u001b[1;32m   2888\u001b[0m \u001b[38;5;28;01mif\u001b[39;00m text_target \u001b[38;5;129;01mis\u001b[39;00m \u001b[38;5;129;01mnot\u001b[39;00m \u001b[38;5;28;01mNone\u001b[39;00m:\n\u001b[1;32m   2889\u001b[0m     \u001b[38;5;28mself\u001b[39m\u001b[38;5;241m.\u001b[39m_switch_to_target_mode()\n",
      "File \u001b[0;32m/opt/conda/lib/python3.10/site-packages/transformers/tokenization_utils_base.py:2975\u001b[0m, in \u001b[0;36mPreTrainedTokenizerBase._call_one\u001b[0;34m(self, text, text_pair, add_special_tokens, padding, truncation, max_length, stride, is_split_into_words, pad_to_multiple_of, padding_side, return_tensors, return_token_type_ids, return_attention_mask, return_overflowing_tokens, return_special_tokens_mask, return_offsets_mapping, return_length, verbose, split_special_tokens, **kwargs)\u001b[0m\n\u001b[1;32m   2970\u001b[0m         \u001b[38;5;28;01mraise\u001b[39;00m \u001b[38;5;167;01mValueError\u001b[39;00m(\n\u001b[1;32m   2971\u001b[0m             \u001b[38;5;124mf\u001b[39m\u001b[38;5;124m\"\u001b[39m\u001b[38;5;124mbatch length of `text`: \u001b[39m\u001b[38;5;132;01m{\u001b[39;00m\u001b[38;5;28mlen\u001b[39m(text)\u001b[38;5;132;01m}\u001b[39;00m\u001b[38;5;124m does not match batch length of `text_pair`:\u001b[39m\u001b[38;5;124m\"\u001b[39m\n\u001b[1;32m   2972\u001b[0m             \u001b[38;5;124mf\u001b[39m\u001b[38;5;124m\"\u001b[39m\u001b[38;5;124m \u001b[39m\u001b[38;5;132;01m{\u001b[39;00m\u001b[38;5;28mlen\u001b[39m(text_pair)\u001b[38;5;132;01m}\u001b[39;00m\u001b[38;5;124m.\u001b[39m\u001b[38;5;124m\"\u001b[39m\n\u001b[1;32m   2973\u001b[0m         )\n\u001b[1;32m   2974\u001b[0m     batch_text_or_text_pairs \u001b[38;5;241m=\u001b[39m \u001b[38;5;28mlist\u001b[39m(\u001b[38;5;28mzip\u001b[39m(text, text_pair)) \u001b[38;5;28;01mif\u001b[39;00m text_pair \u001b[38;5;129;01mis\u001b[39;00m \u001b[38;5;129;01mnot\u001b[39;00m \u001b[38;5;28;01mNone\u001b[39;00m \u001b[38;5;28;01melse\u001b[39;00m text\n\u001b[0;32m-> 2975\u001b[0m     \u001b[38;5;28;01mreturn\u001b[39;00m \u001b[38;5;28;43mself\u001b[39;49m\u001b[38;5;241;43m.\u001b[39;49m\u001b[43mbatch_encode_plus\u001b[49m\u001b[43m(\u001b[49m\n\u001b[1;32m   2976\u001b[0m \u001b[43m        \u001b[49m\u001b[43mbatch_text_or_text_pairs\u001b[49m\u001b[38;5;241;43m=\u001b[39;49m\u001b[43mbatch_text_or_text_pairs\u001b[49m\u001b[43m,\u001b[49m\n\u001b[1;32m   2977\u001b[0m \u001b[43m        \u001b[49m\u001b[43madd_special_tokens\u001b[49m\u001b[38;5;241;43m=\u001b[39;49m\u001b[43madd_special_tokens\u001b[49m\u001b[43m,\u001b[49m\n\u001b[1;32m   2978\u001b[0m \u001b[43m        \u001b[49m\u001b[43mpadding\u001b[49m\u001b[38;5;241;43m=\u001b[39;49m\u001b[43mpadding\u001b[49m\u001b[43m,\u001b[49m\n\u001b[1;32m   2979\u001b[0m \u001b[43m        \u001b[49m\u001b[43mtruncation\u001b[49m\u001b[38;5;241;43m=\u001b[39;49m\u001b[43mtruncation\u001b[49m\u001b[43m,\u001b[49m\n\u001b[1;32m   2980\u001b[0m \u001b[43m        \u001b[49m\u001b[43mmax_length\u001b[49m\u001b[38;5;241;43m=\u001b[39;49m\u001b[43mmax_length\u001b[49m\u001b[43m,\u001b[49m\n\u001b[1;32m   2981\u001b[0m \u001b[43m        \u001b[49m\u001b[43mstride\u001b[49m\u001b[38;5;241;43m=\u001b[39;49m\u001b[43mstride\u001b[49m\u001b[43m,\u001b[49m\n\u001b[1;32m   2982\u001b[0m \u001b[43m        \u001b[49m\u001b[43mis_split_into_words\u001b[49m\u001b[38;5;241;43m=\u001b[39;49m\u001b[43mis_split_into_words\u001b[49m\u001b[43m,\u001b[49m\n\u001b[1;32m   2983\u001b[0m \u001b[43m        \u001b[49m\u001b[43mpad_to_multiple_of\u001b[49m\u001b[38;5;241;43m=\u001b[39;49m\u001b[43mpad_to_multiple_of\u001b[49m\u001b[43m,\u001b[49m\n\u001b[1;32m   2984\u001b[0m \u001b[43m        \u001b[49m\u001b[43mpadding_side\u001b[49m\u001b[38;5;241;43m=\u001b[39;49m\u001b[43mpadding_side\u001b[49m\u001b[43m,\u001b[49m\n\u001b[1;32m   2985\u001b[0m \u001b[43m        \u001b[49m\u001b[43mreturn_tensors\u001b[49m\u001b[38;5;241;43m=\u001b[39;49m\u001b[43mreturn_tensors\u001b[49m\u001b[43m,\u001b[49m\n\u001b[1;32m   2986\u001b[0m \u001b[43m        \u001b[49m\u001b[43mreturn_token_type_ids\u001b[49m\u001b[38;5;241;43m=\u001b[39;49m\u001b[43mreturn_token_type_ids\u001b[49m\u001b[43m,\u001b[49m\n\u001b[1;32m   2987\u001b[0m \u001b[43m        \u001b[49m\u001b[43mreturn_attention_mask\u001b[49m\u001b[38;5;241;43m=\u001b[39;49m\u001b[43mreturn_attention_mask\u001b[49m\u001b[43m,\u001b[49m\n\u001b[1;32m   2988\u001b[0m \u001b[43m        \u001b[49m\u001b[43mreturn_overflowing_tokens\u001b[49m\u001b[38;5;241;43m=\u001b[39;49m\u001b[43mreturn_overflowing_tokens\u001b[49m\u001b[43m,\u001b[49m\n\u001b[1;32m   2989\u001b[0m \u001b[43m        \u001b[49m\u001b[43mreturn_special_tokens_mask\u001b[49m\u001b[38;5;241;43m=\u001b[39;49m\u001b[43mreturn_special_tokens_mask\u001b[49m\u001b[43m,\u001b[49m\n\u001b[1;32m   2990\u001b[0m \u001b[43m        \u001b[49m\u001b[43mreturn_offsets_mapping\u001b[49m\u001b[38;5;241;43m=\u001b[39;49m\u001b[43mreturn_offsets_mapping\u001b[49m\u001b[43m,\u001b[49m\n\u001b[1;32m   2991\u001b[0m \u001b[43m        \u001b[49m\u001b[43mreturn_length\u001b[49m\u001b[38;5;241;43m=\u001b[39;49m\u001b[43mreturn_length\u001b[49m\u001b[43m,\u001b[49m\n\u001b[1;32m   2992\u001b[0m \u001b[43m        \u001b[49m\u001b[43mverbose\u001b[49m\u001b[38;5;241;43m=\u001b[39;49m\u001b[43mverbose\u001b[49m\u001b[43m,\u001b[49m\n\u001b[1;32m   2993\u001b[0m \u001b[43m        \u001b[49m\u001b[43msplit_special_tokens\u001b[49m\u001b[38;5;241;43m=\u001b[39;49m\u001b[43msplit_special_tokens\u001b[49m\u001b[43m,\u001b[49m\n\u001b[1;32m   2994\u001b[0m \u001b[43m        \u001b[49m\u001b[38;5;241;43m*\u001b[39;49m\u001b[38;5;241;43m*\u001b[39;49m\u001b[43mkwargs\u001b[49m\u001b[43m,\u001b[49m\n\u001b[1;32m   2995\u001b[0m \u001b[43m    \u001b[49m\u001b[43m)\u001b[49m\n\u001b[1;32m   2996\u001b[0m \u001b[38;5;28;01melse\u001b[39;00m:\n\u001b[1;32m   2997\u001b[0m     \u001b[38;5;28;01mreturn\u001b[39;00m \u001b[38;5;28mself\u001b[39m\u001b[38;5;241m.\u001b[39mencode_plus(\n\u001b[1;32m   2998\u001b[0m         text\u001b[38;5;241m=\u001b[39mtext,\n\u001b[1;32m   2999\u001b[0m         text_pair\u001b[38;5;241m=\u001b[39mtext_pair,\n\u001b[0;32m   (...)\u001b[0m\n\u001b[1;32m   3017\u001b[0m         \u001b[38;5;241m*\u001b[39m\u001b[38;5;241m*\u001b[39mkwargs,\n\u001b[1;32m   3018\u001b[0m     )\n",
      "File \u001b[0;32m/opt/conda/lib/python3.10/site-packages/transformers/tokenization_utils_base.py:3177\u001b[0m, in \u001b[0;36mPreTrainedTokenizerBase.batch_encode_plus\u001b[0;34m(self, batch_text_or_text_pairs, add_special_tokens, padding, truncation, max_length, stride, is_split_into_words, pad_to_multiple_of, padding_side, return_tensors, return_token_type_ids, return_attention_mask, return_overflowing_tokens, return_special_tokens_mask, return_offsets_mapping, return_length, verbose, split_special_tokens, **kwargs)\u001b[0m\n\u001b[1;32m   3167\u001b[0m \u001b[38;5;66;03m# Backward compatibility for 'truncation_strategy', 'pad_to_max_length'\u001b[39;00m\n\u001b[1;32m   3168\u001b[0m padding_strategy, truncation_strategy, max_length, kwargs \u001b[38;5;241m=\u001b[39m \u001b[38;5;28mself\u001b[39m\u001b[38;5;241m.\u001b[39m_get_padding_truncation_strategies(\n\u001b[1;32m   3169\u001b[0m     padding\u001b[38;5;241m=\u001b[39mpadding,\n\u001b[1;32m   3170\u001b[0m     truncation\u001b[38;5;241m=\u001b[39mtruncation,\n\u001b[0;32m   (...)\u001b[0m\n\u001b[1;32m   3174\u001b[0m     \u001b[38;5;241m*\u001b[39m\u001b[38;5;241m*\u001b[39mkwargs,\n\u001b[1;32m   3175\u001b[0m )\n\u001b[0;32m-> 3177\u001b[0m \u001b[38;5;28;01mreturn\u001b[39;00m \u001b[38;5;28;43mself\u001b[39;49m\u001b[38;5;241;43m.\u001b[39;49m\u001b[43m_batch_encode_plus\u001b[49m\u001b[43m(\u001b[49m\n\u001b[1;32m   3178\u001b[0m \u001b[43m    \u001b[49m\u001b[43mbatch_text_or_text_pairs\u001b[49m\u001b[38;5;241;43m=\u001b[39;49m\u001b[43mbatch_text_or_text_pairs\u001b[49m\u001b[43m,\u001b[49m\n\u001b[1;32m   3179\u001b[0m \u001b[43m    \u001b[49m\u001b[43madd_special_tokens\u001b[49m\u001b[38;5;241;43m=\u001b[39;49m\u001b[43madd_special_tokens\u001b[49m\u001b[43m,\u001b[49m\n\u001b[1;32m   3180\u001b[0m \u001b[43m    \u001b[49m\u001b[43mpadding_strategy\u001b[49m\u001b[38;5;241;43m=\u001b[39;49m\u001b[43mpadding_strategy\u001b[49m\u001b[43m,\u001b[49m\n\u001b[1;32m   3181\u001b[0m \u001b[43m    \u001b[49m\u001b[43mtruncation_strategy\u001b[49m\u001b[38;5;241;43m=\u001b[39;49m\u001b[43mtruncation_strategy\u001b[49m\u001b[43m,\u001b[49m\n\u001b[1;32m   3182\u001b[0m \u001b[43m    \u001b[49m\u001b[43mmax_length\u001b[49m\u001b[38;5;241;43m=\u001b[39;49m\u001b[43mmax_length\u001b[49m\u001b[43m,\u001b[49m\n\u001b[1;32m   3183\u001b[0m \u001b[43m    \u001b[49m\u001b[43mstride\u001b[49m\u001b[38;5;241;43m=\u001b[39;49m\u001b[43mstride\u001b[49m\u001b[43m,\u001b[49m\n\u001b[1;32m   3184\u001b[0m \u001b[43m    \u001b[49m\u001b[43mis_split_into_words\u001b[49m\u001b[38;5;241;43m=\u001b[39;49m\u001b[43mis_split_into_words\u001b[49m\u001b[43m,\u001b[49m\n\u001b[1;32m   3185\u001b[0m \u001b[43m    \u001b[49m\u001b[43mpad_to_multiple_of\u001b[49m\u001b[38;5;241;43m=\u001b[39;49m\u001b[43mpad_to_multiple_of\u001b[49m\u001b[43m,\u001b[49m\n\u001b[1;32m   3186\u001b[0m \u001b[43m    \u001b[49m\u001b[43mpadding_side\u001b[49m\u001b[38;5;241;43m=\u001b[39;49m\u001b[43mpadding_side\u001b[49m\u001b[43m,\u001b[49m\n\u001b[1;32m   3187\u001b[0m \u001b[43m    \u001b[49m\u001b[43mreturn_tensors\u001b[49m\u001b[38;5;241;43m=\u001b[39;49m\u001b[43mreturn_tensors\u001b[49m\u001b[43m,\u001b[49m\n\u001b[1;32m   3188\u001b[0m \u001b[43m    \u001b[49m\u001b[43mreturn_token_type_ids\u001b[49m\u001b[38;5;241;43m=\u001b[39;49m\u001b[43mreturn_token_type_ids\u001b[49m\u001b[43m,\u001b[49m\n\u001b[1;32m   3189\u001b[0m \u001b[43m    \u001b[49m\u001b[43mreturn_attention_mask\u001b[49m\u001b[38;5;241;43m=\u001b[39;49m\u001b[43mreturn_attention_mask\u001b[49m\u001b[43m,\u001b[49m\n\u001b[1;32m   3190\u001b[0m \u001b[43m    \u001b[49m\u001b[43mreturn_overflowing_tokens\u001b[49m\u001b[38;5;241;43m=\u001b[39;49m\u001b[43mreturn_overflowing_tokens\u001b[49m\u001b[43m,\u001b[49m\n\u001b[1;32m   3191\u001b[0m \u001b[43m    \u001b[49m\u001b[43mreturn_special_tokens_mask\u001b[49m\u001b[38;5;241;43m=\u001b[39;49m\u001b[43mreturn_special_tokens_mask\u001b[49m\u001b[43m,\u001b[49m\n\u001b[1;32m   3192\u001b[0m \u001b[43m    \u001b[49m\u001b[43mreturn_offsets_mapping\u001b[49m\u001b[38;5;241;43m=\u001b[39;49m\u001b[43mreturn_offsets_mapping\u001b[49m\u001b[43m,\u001b[49m\n\u001b[1;32m   3193\u001b[0m \u001b[43m    \u001b[49m\u001b[43mreturn_length\u001b[49m\u001b[38;5;241;43m=\u001b[39;49m\u001b[43mreturn_length\u001b[49m\u001b[43m,\u001b[49m\n\u001b[1;32m   3194\u001b[0m \u001b[43m    \u001b[49m\u001b[43mverbose\u001b[49m\u001b[38;5;241;43m=\u001b[39;49m\u001b[43mverbose\u001b[49m\u001b[43m,\u001b[49m\n\u001b[1;32m   3195\u001b[0m \u001b[43m    \u001b[49m\u001b[43msplit_special_tokens\u001b[49m\u001b[38;5;241;43m=\u001b[39;49m\u001b[43msplit_special_tokens\u001b[49m\u001b[43m,\u001b[49m\n\u001b[1;32m   3196\u001b[0m \u001b[43m    \u001b[49m\u001b[38;5;241;43m*\u001b[39;49m\u001b[38;5;241;43m*\u001b[39;49m\u001b[43mkwargs\u001b[49m\u001b[43m,\u001b[49m\n\u001b[1;32m   3197\u001b[0m \u001b[43m\u001b[49m\u001b[43m)\u001b[49m\n",
      "File \u001b[0;32m/opt/conda/lib/python3.10/site-packages/transformers/tokenization_utils_fast.py:539\u001b[0m, in \u001b[0;36mPreTrainedTokenizerFast._batch_encode_plus\u001b[0;34m(self, batch_text_or_text_pairs, add_special_tokens, padding_strategy, truncation_strategy, max_length, stride, is_split_into_words, pad_to_multiple_of, padding_side, return_tensors, return_token_type_ids, return_attention_mask, return_overflowing_tokens, return_special_tokens_mask, return_offsets_mapping, return_length, verbose, split_special_tokens)\u001b[0m\n\u001b[1;32m    536\u001b[0m \u001b[38;5;28;01mif\u001b[39;00m \u001b[38;5;28mself\u001b[39m\u001b[38;5;241m.\u001b[39m_tokenizer\u001b[38;5;241m.\u001b[39mencode_special_tokens \u001b[38;5;241m!=\u001b[39m split_special_tokens:\n\u001b[1;32m    537\u001b[0m     \u001b[38;5;28mself\u001b[39m\u001b[38;5;241m.\u001b[39m_tokenizer\u001b[38;5;241m.\u001b[39mencode_special_tokens \u001b[38;5;241m=\u001b[39m split_special_tokens\n\u001b[0;32m--> 539\u001b[0m encodings \u001b[38;5;241m=\u001b[39m \u001b[38;5;28;43mself\u001b[39;49m\u001b[38;5;241;43m.\u001b[39;49m\u001b[43m_tokenizer\u001b[49m\u001b[38;5;241;43m.\u001b[39;49m\u001b[43mencode_batch\u001b[49m\u001b[43m(\u001b[49m\n\u001b[1;32m    540\u001b[0m \u001b[43m    \u001b[49m\u001b[43mbatch_text_or_text_pairs\u001b[49m\u001b[43m,\u001b[49m\n\u001b[1;32m    541\u001b[0m \u001b[43m    \u001b[49m\u001b[43madd_special_tokens\u001b[49m\u001b[38;5;241;43m=\u001b[39;49m\u001b[43madd_special_tokens\u001b[49m\u001b[43m,\u001b[49m\n\u001b[1;32m    542\u001b[0m \u001b[43m    \u001b[49m\u001b[43mis_pretokenized\u001b[49m\u001b[38;5;241;43m=\u001b[39;49m\u001b[43mis_split_into_words\u001b[49m\u001b[43m,\u001b[49m\n\u001b[1;32m    543\u001b[0m \u001b[43m\u001b[49m\u001b[43m)\u001b[49m\n\u001b[1;32m    545\u001b[0m \u001b[38;5;66;03m# Convert encoding to dict\u001b[39;00m\n\u001b[1;32m    546\u001b[0m \u001b[38;5;66;03m# `Tokens` has type: Tuple[\u001b[39;00m\n\u001b[1;32m    547\u001b[0m \u001b[38;5;66;03m#                       List[Dict[str, List[List[int]]]] or List[Dict[str, 2D-Tensor]],\u001b[39;00m\n\u001b[1;32m    548\u001b[0m \u001b[38;5;66;03m#                       List[EncodingFast]\u001b[39;00m\n\u001b[1;32m    549\u001b[0m \u001b[38;5;66;03m#                    ]\u001b[39;00m\n\u001b[1;32m    550\u001b[0m \u001b[38;5;66;03m# with nested dimensions corresponding to batch, overflows, sequence length\u001b[39;00m\n\u001b[1;32m    551\u001b[0m tokens_and_encodings \u001b[38;5;241m=\u001b[39m [\n\u001b[1;32m    552\u001b[0m     \u001b[38;5;28mself\u001b[39m\u001b[38;5;241m.\u001b[39m_convert_encoding(\n\u001b[1;32m    553\u001b[0m         encoding\u001b[38;5;241m=\u001b[39mencoding,\n\u001b[0;32m   (...)\u001b[0m\n\u001b[1;32m    562\u001b[0m     \u001b[38;5;28;01mfor\u001b[39;00m encoding \u001b[38;5;129;01min\u001b[39;00m encodings\n\u001b[1;32m    563\u001b[0m ]\n",
      "\u001b[0;31mKeyboardInterrupt\u001b[0m: "
     ]
    }
   ],
   "source": [
    "patience = 5\n",
    "best_vloss = float('inf')\n",
    "epochs_without_improvement = 0\n",
    "model_save_path = 'best_model.pth'\n",
    "\n",
    "timestamp = datetime.now().strftime('%Y%m%d_%H%M%S')\n",
    "writer = SummaryWriter('runs/fashion_trainer_{}'.format(timestamp))\n",
    "\n",
    "epoch_number = 0\n",
    "EPOCHS = 100\n",
    "\n",
    "train_losses = []\n",
    "val_losses = []\n",
    "train_batch_losses = []\n",
    "val_batch_losses = []\n",
    "\n",
    "\n",
    "for epoch in range(EPOCHS):\n",
    "    print(f'EPOCH {epoch_number + 1}:')\n",
    "\n",
    "    model.train(True)\n",
    "    avg_train_loss, batch_train_losses = train_one_epoch(epoch_number, writer)\n",
    "    train_losses.append(avg_train_loss)\n",
    "    train_batch_losses.extend(batch_train_losses)\n",
    "\n",
    "    model.eval()\n",
    "    running_vloss = 0.0\n",
    "    r_vloss = 0.0\n",
    "    batch_val_losses = []\n",
    "    all_val_outputs = []\n",
    "    all_val_labels = []\n",
    "\n",
    "    with torch.no_grad():\n",
    "        for i, vdata in enumerate(val_loader):\n",
    "            cat_inputs, text_inputs, vlabels = vdata\n",
    "\n",
    "            cat_inputs = cat_inputs.to(device)\n",
    "            text_inputs = text_inputs.to(device)\n",
    "            vlabels = vlabels.to(device)\n",
    "\n",
    "            voutputs = model(cat_inputs, text_inputs)\n",
    "            vloss = loss_fn(voutputs, vlabels)\n",
    "\n",
    "            loss_value = vloss.item()\n",
    "            running_vloss += loss_value\n",
    "            r_vloss += loss_value\n",
    "            if i % 500 == 499:\n",
    "                last_loss = r_vloss / 500\n",
    "                batch_val_losses.append(last_loss)\n",
    "                r_vloss = 0.0\n",
    "\n",
    "            all_val_outputs.extend(voutputs.cpu().numpy())\n",
    "            all_val_labels.extend(vlabels.cpu().numpy())\n",
    "\n",
    "    avg_vloss = running_vloss / (i + 1)\n",
    "    val_losses.append(avg_vloss)\n",
    "    val_batch_losses.extend(batch_val_losses)\n",
    "    scheduler.step(avg_vloss)\n",
    "\n",
    "\n",
    "    mse_val = mean_squared_error(all_val_labels, all_val_outputs)\n",
    "    rmse_val = np.sqrt(mse_val)\n",
    "    r2_val = r2_score(all_val_labels, all_val_outputs)\n",
    "\n",
    "    print(f'LOSS train: {avg_train_loss:.4f}, valid: {avg_vloss:.4f}')\n",
    "    print(\"--------------------------------\")\n",
    "    print(f\"MSE: {mse_val:.4f}\")\n",
    "    print(f\"RMSE: {rmse_val:.4f}\")\n",
    "    print(f\"R²: {r2_val:.4f}\")\n",
    "    print(\"--------------------------------\")\n",
    "    print(\"Original scale\")\n",
    "    all_val_outputs_original, all_val_labels_original = changing_to_original_metric(all_val_outputs, all_val_labels)\n",
    "    mse_val_original = mean_squared_error(all_val_labels_original, all_val_outputs_original)\n",
    "    rmse_val_original = np.sqrt(mse_val_original)\n",
    "    r2_val_original = r2_score(all_val_labels_original, all_val_outputs_original)\n",
    "    print(\"\\n\")\n",
    "\n",
    "    writer.add_scalars('Training vs. Validation Loss',\n",
    "                       {'Training': avg_train_loss, 'Validation': avg_vloss},\n",
    "                       epoch_number + 1)\n",
    "    writer.flush()\n",
    "\n",
    "    if avg_vloss < best_vloss:\n",
    "        best_vloss = avg_vloss\n",
    "        epochs_without_improvement = 0\n",
    "        torch.save(model.state_dict(), model_save_path)\n",
    "    else:\n",
    "        epochs_without_improvement += 1\n",
    "\n",
    "    if epochs_without_improvement >= patience:\n",
    "        print(f'Early stopping at epoch {epoch_number + 1}')\n",
    "        break\n",
    "\n",
    "    epoch_number += 1\n"
   ]
  },
  {
   "cell_type": "markdown",
   "metadata": {
    "id": "z6Mvdel1eF0c"
   },
   "source": [
    "### Improvements"
   ]
  },
  {
   "cell_type": "markdown",
   "metadata": {
    "id": "a7AnprYdAigp"
   },
   "source": [
    "LOSS train: 0.0367, valid: 0.0395\n",
    "MSE: 0.0796\n",
    "RMSE: 0.2822\n",
    "R²: 0.6695\n",
    "Original scale\n",
    "MSE: 122744712.0000\n",
    "RMSE: 11079.0213\n",
    "R²: 0.6059"
   ]
  },
  {
   "cell_type": "markdown",
   "metadata": {
    "id": "NXfK0_64agZ3"
   },
   "source": [
    "Changing to LayerNorm:\n",
    "\n",
    "LOSS train: 0.0230, valid: 0.0297\n",
    "MSE: 0.0600\n",
    "RMSE: 0.2450\n",
    "R²: 0.7509\n",
    "Original scale\n",
    "MSE: 91618752.0000\n",
    "RMSE: 9571.7685\n",
    "R²: 0.7058"
   ]
  },
  {
   "cell_type": "markdown",
   "metadata": {
    "id": "7pp6gZTaSc5v"
   },
   "source": [
    "Adding convolutional layer:\n",
    "\n",
    "LOSS train: 0.0309, valid: 0.0344\n",
    "MSE: 0.0694\n",
    "RMSE: 0.2635\n",
    "R²: 0.7118\n",
    "Original scale\n",
    "MSE: 106721568.0000\n",
    "RMSE: 10330.6131\n",
    "R²: 0.6574"
   ]
  },
  {
   "cell_type": "markdown",
   "metadata": {
    "id": "8sEWxRhTZ3Ir"
   },
   "source": [
    "Changing to BatchNorm:\n",
    "\n",
    "LOSS train: 0.0308, valid: 0.0337\n",
    "MSE: 0.0678\n",
    "RMSE: 0.2604\n",
    "R²: 0.7184\n",
    "Original scale\n",
    "MSE: 104906728.0000\n",
    "RMSE: 10242.3985\n",
    "R²: 0.6632"
   ]
  },
  {
   "cell_type": "markdown",
   "metadata": {
    "id": "j8njwGQshv9k"
   },
   "source": [
    "4 fc layers from size 16:\n",
    "\n",
    "LOSS train: 0.0307, valid: 0.0320\n",
    "MSE: 0.0647\n",
    "RMSE: 0.2543\n",
    "R²: 0.7315\n",
    "Original scale\n",
    "MSE: 99451536.0000\n",
    "RMSE: 9972.5391\n",
    "R²: 0.6807"
   ]
  },
  {
   "cell_type": "markdown",
   "metadata": {
    "id": "mRsMZNXpiorr"
   },
   "source": [
    "Start size: 32, Dropout 0.3, 0.2, 0.1\n",
    "\n",
    "LOSS train: 0.0356, valid: 0.0323\n",
    "MSE: 0.0651\n",
    "RMSE: 0.2552\n",
    "R²: 0.7295\n",
    "Original scale\n",
    "MSE: 98806824.0000\n",
    "RMSE: 9940.1622\n",
    "R²: 0.6828"
   ]
  },
  {
   "cell_type": "markdown",
   "metadata": {
    "id": "MdeobfGxZlma"
   },
   "source": [
    "With residual blocks"
   ]
  },
  {
   "cell_type": "markdown",
   "metadata": {
    "id": "mquPesKdZpdY"
   },
   "source": [
    "Start size: 64, maxpool, 2 conv layers\n",
    "\n",
    "LOSS train: 0.0296, valid: 0.0344\n",
    "MSE: 0.0695\n",
    "RMSE: 0.2636\n",
    "R²: 0.7116\n",
    "Original scale\n",
    "MSE: 106139200.0000\n",
    "RMSE: 10302.3881\n",
    "R²: 0.6592"
   ]
  },
  {
   "cell_type": "markdown",
   "metadata": {
    "id": "cBkgCnjLap7X"
   },
   "source": [
    "Start size: 64, maxpool, 1 conv layer\n",
    "\n",
    "LOSS train: 0.0282, valid: 0.0343\n",
    "MSE: 0.0692\n",
    "RMSE: 0.2631\n",
    "R²: 0.7125\n",
    "Original scale\n",
    "MSE: 103569048.0000\n",
    "RMSE: 10176.8879\n",
    "R²: 0.6675"
   ]
  },
  {
   "cell_type": "markdown",
   "metadata": {
    "id": "nJ8rUqcFfP5e"
   },
   "source": [
    "Start size: 64, avgpool, 2 conv layer\n",
    "\n",
    "LOSS train: 0.0392, valid: 0.0342\n",
    "MSE: 0.0690\n",
    "RMSE: 0.2627\n",
    "R²: 0.7135\n",
    "Original scale\n",
    "MSE: 106410232.0000\n",
    "RMSE: 10315.5335\n",
    "R²: 0.6583"
   ]
  },
  {
   "cell_type": "markdown",
   "metadata": {
    "id": "1ywmCzDOfybw"
   },
   "source": [
    "Start size: 128, maxpool, 2 conv layers\n",
    "\n",
    "LOSS train: 0.0394, valid: 0.0352\n",
    "MSE: 0.0709\n",
    "RMSE: 0.2663\n",
    "R²: 0.7055\n",
    "Original scale\n",
    "MSE: 107717048.0000\n",
    "RMSE: 10378.6824\n",
    "R²: 0.6542"
   ]
  },
  {
   "cell_type": "markdown",
   "metadata": {
    "id": "0NfiasHZtyHe"
   },
   "source": [
    "Dropout 0.1, 0.1, 0.1\n",
    "\n",
    "LOSS train: 0.0256, valid: 0.0337\n",
    "MSE: 0.0680\n",
    "RMSE: 0.2608\n",
    "R²: 0.7177\n",
    "Original scale\n",
    "MSE: 103173320.0000\n",
    "RMSE: 10157.4268\n",
    "R²: 0.6687"
   ]
  },
  {
   "cell_type": "markdown",
   "metadata": {
    "id": "k3BTSC4PxiXS"
   },
   "source": [
    "5 fc layers:\n",
    "\n",
    "LOSS train: 0.0236, valid: 0.0344\n",
    "MSE: 0.0694\n",
    "RMSE: 0.2635\n",
    "R²: 0.7118\n",
    "Original scale\n",
    "MSE: 107072096.0000\n",
    "RMSE: 10347.5647\n",
    "R²: 0.6562"
   ]
  },
  {
   "cell_type": "markdown",
   "metadata": {
    "id": "pssA3-eF-NTv"
   },
   "source": [
    "pre fullactivation, Without dropout:\n",
    "\n",
    "LOSS train: 0.0274, valid: 0.0344\n",
    "MSE: 0.0694\n",
    "RMSE: 0.2635\n",
    "R²: 0.7117\n",
    "Original scale\n",
    "MSE: 106051376.0000\n",
    "RMSE: 10298.1249\n",
    "R²: 0.6595"
   ]
  },
  {
   "cell_type": "markdown",
   "metadata": {
    "id": "wz2LJuyxJh8F"
   },
   "source": [
    "LOSS train: 0.0250, valid: 0.0336\n",
    "MSE: 0.0678\n",
    "RMSE: 0.2604\n",
    "R²: 0.7186\n",
    "Original scale\n",
    "MSE: 102795160.0000\n",
    "RMSE: 10138.7948\n",
    "R²: 0.6700"
   ]
  },
  {
   "cell_type": "code",
   "execution_count": 36,
   "metadata": {
    "colab": {
     "base_uri": "https://localhost:8080/",
     "height": 449
    },
    "id": "074XkkBdyvoX",
    "outputId": "d1e731aa-4a5c-425c-cfb9-14928f7725aa",
    "tags": []
   },
   "outputs": [
    {
     "data": {
      "image/png": "[encoded data removed]",
      "text/plain": [
       "<Figure size 640x480 with 1 Axes>"
      ]
     },
     "metadata": {},
     "output_type": "display_data"
    }
   ],
   "source": [
    "plt.plot(train_losses, label='Train Loss')\n",
    "plt.plot(val_losses, label='Validation Loss')\n",
    "plt.xlabel('Epoch')\n",
    "plt.ylabel('Loss')\n",
    "plt.xlim(0)\n",
    "plt.legend()\n",
    "plt.grid(True)\n",
    "plt.show()\n"
   ]
  },
  {
   "cell_type": "markdown",
   "metadata": {
    "id": "TzGoZtEGNLsL"
   },
   "source": [
    "## Evaluation on the test set"
   ]
  },
  {
   "cell_type": "code",
   "execution_count": 37,
   "metadata": {
    "colab": {
     "base_uri": "https://localhost:8080/"
    },
    "id": "wxVDFc_mGxVw",
    "outputId": "0c15728e-7961-4c98-af45-8d05607099c2",
    "tags": []
   },
   "outputs": [
    {
     "data": {
      "text/plain": [
       "SalaryModel(\n",
       "  (embeddings): ModuleList(\n",
       "    (0): Embedding(1000, 5)\n",
       "    (1-2): 2 x Embedding(3, 1)\n",
       "    (3): Embedding(1001, 5)\n",
       "    (4): Embedding(29, 5)\n",
       "  )\n",
       "  (text_embedding): Embedding(47112, 5, padding_idx=0)\n",
       "  (fc1): Linear(in_features=22, out_features=64, bias=True)\n",
       "  (dropout1): Dropout(p=0.5, inplace=False)\n",
       "  (fc2): Linear(in_features=64, out_features=32, bias=True)\n",
       "  (dropout2): Dropout(p=0.2, inplace=False)\n",
       "  (fc3): Linear(in_features=32, out_features=16, bias=True)\n",
       "  (dropout3): Dropout(p=0.1, inplace=False)\n",
       "  (fc_final): Linear(in_features=16, out_features=1, bias=True)\n",
       ")"
      ]
     },
     "execution_count": 37,
     "metadata": {},
     "output_type": "execute_result"
    }
   ],
   "source": [
    "model = SalaryModel(embedding_sizes, vocab_size=vocab_size, text_emb_dim=5)\n",
    "model.load_state_dict(torch.load(model_save_path))\n",
    "model.eval()"
   ]
  },
  {
   "cell_type": "code",
   "execution_count": 38,
   "metadata": {
    "colab": {
     "base_uri": "https://localhost:8080/"
    },
    "id": "-MHB-Y0sHGJ5",
    "outputId": "938b37ad-962c-4f8f-9932-e4b7e3ebcd49",
    "tags": []
   },
   "outputs": [
    {
     "name": "stdout",
     "output_type": "stream",
     "text": [
      "Test Loss: 0.0303\n",
      "MSE: 0.0615\n",
      "RMSE: 0.2479\n",
      "R²: 0.7454\n"
     ]
    }
   ],
   "source": [
    "running_test_loss = 0.0\n",
    "\n",
    "\n",
    "all_outputs = []\n",
    "all_labels = []\n",
    "\n",
    "with torch.no_grad():\n",
    "    for i, (cat_inputs, text_inputs, test_labels) in enumerate(test_loader):\n",
    "        test_outputs = model(cat_inputs, text_inputs)\n",
    "        test_loss = loss_fn(test_outputs, test_labels)\n",
    "        running_test_loss += test_loss.item()\n",
    "\n",
    "        all_outputs.extend(test_outputs.numpy())\n",
    "        all_labels.extend(test_labels.numpy())\n",
    "\n",
    "avg_test_loss = running_test_loss / (i + 1)\n",
    "print(f\"Test Loss: {avg_test_loss:.4f}\")\n",
    "\n",
    "mse = mean_squared_error(all_labels, all_outputs)\n",
    "rmse = np.sqrt(mse)\n",
    "r2 = r2_score(all_labels, all_outputs)\n",
    "\n",
    "print(f\"MSE: {mse:.4f}\")\n",
    "print(f\"RMSE: {rmse:.4f}\")\n",
    "print(f\"R²: {r2:.4f}\")"
   ]
  },
  {
   "cell_type": "code",
   "execution_count": 39,
   "metadata": {
    "colab": {
     "base_uri": "https://localhost:8080/"
    },
    "id": "s3rjDcAGRzAQ",
    "outputId": "bf440611-bba6-497a-f6a6-83aacc3ec6dd",
    "tags": []
   },
   "outputs": [
    {
     "name": "stdout",
     "output_type": "stream",
     "text": [
      "MSE: 96359712.0000\n",
      "RMSE: 9816.2983\n",
      "R²: 0.6912\n"
     ]
    }
   ],
   "source": [
    "all_outputs, all_labels = changing_to_original_metric(all_outputs, all_labels)"
   ]
  }
 ],
 "metadata": {
  "accelerator": "GPU",
  "colab": {
   "collapsed_sections": [
    "uSFak2UyhQBj",
    "mlutQW5SZZd3",
    "c_bu4IZghUHZ",
    "xsUhoAEYGtUN",
    "yAWatT2Ohgp-",
    "Z1MNkf-9h2ai",
    "LpeB3Hi2QAf_"
   ],
   "gpuType": "T4",
   "provenance": [],
   "toc_visible": true
  },
  "environment": {
   "kernel": "conda-base-py",
   "name": "workbench-notebooks.m129",
   "type": "gcloud",
   "uri": "us-docker.pkg.dev/deeplearning-platform-release/gcr.io/workbench-notebooks:m129"
  },
  "kernelspec": {
   "display_name": "Python 3 (ipykernel) (Local)",
   "language": "python",
   "name": "conda-base-py"
  },
  "language_info": {
   "codemirror_mode": {
    "name": "ipython",
    "version": 3
   },
   "file_extension": ".py",
   "mimetype": "text/x-python",
   "name": "python",
   "nbconvert_exporter": "python",
   "pygments_lexer": "ipython3",
   "version": "3.10.16"
  }
 },
 "nbformat": 4,
 "nbformat_minor": 4
}
